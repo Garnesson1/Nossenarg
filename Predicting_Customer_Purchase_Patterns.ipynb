{
 "cells": [
  {
   "cell_type": "markdown",
   "metadata": {},
   "source": [
    "# Prediction of Purchase Patterns\n",
    "\n",
    "We have been tasked to predict whether a certain customer entering a store\n",
    "will end up making a purchase or not. The data has anonymized features of categorical and numeric nature. Let's find out if we can make sense of this!"
   ]
  },
  {
   "cell_type": "code",
   "execution_count": 1,
   "metadata": {
    "collapsed": true
   },
   "outputs": [],
   "source": [
    "# Import some basic python libraries\n",
    "\n",
    "import pandas as pd\n",
    "import numpy as np\n",
    "from sklearn.model_selection import train_test_split\n",
    "from sklearn import preprocessing\n",
    "import collections\n",
    "from sklearn.model_selection import train_test_split\n",
    "from sklearn.metrics import confusion_matrix\n",
    "import matplotlib.pyplot as plt"
   ]
  },
  {
   "cell_type": "code",
   "execution_count": 2,
   "metadata": {},
   "outputs": [
    {
     "data": {
      "text/plain": [
       "'/Users/JohanLg/Documents/My Documents/Schema_Dagliga_Uppgifter/Python Projects'"
      ]
     },
     "execution_count": 2,
     "metadata": {},
     "output_type": "execute_result"
    }
   ],
   "source": [
    "import os\n",
    "os.getcwd()"
   ]
  },
  {
   "cell_type": "code",
   "execution_count": 3,
   "metadata": {
    "collapsed": true
   },
   "outputs": [],
   "source": [
    "os.chdir('/Users/JohanLg/Documents/My Documents/ESCP/Kurser/Vår/Python')"
   ]
  },
  {
   "cell_type": "code",
   "execution_count": 4,
   "metadata": {
    "collapsed": true
   },
   "outputs": [],
   "source": [
    "data = pd.read_csv('train (2).csv')"
   ]
  },
  {
   "cell_type": "markdown",
   "metadata": {},
   "source": [
    "From here, there are multiple aspects i'd like to dig deeper into. These steps can be broken down into\n",
    "\n",
    "1.Data Preprocessing:\n",
    "    \n",
    "a. Are there missing values in the data? Might this affect my results?\n",
    "b. How is the distribution of my numeric variables? Do they have outliers? \n",
    "c. Dummify the categorical variables.\n",
    "d. Is the 'label'-class, our dependant variable, balanced? If not, which sampling-technique should I use?\n",
    "           \n",
    "2.Feature Selection:\n",
    "    \n",
    "a. Which variables seem to drive 'label'? Can I think of any varibles\n",
    "that are missing to avoid omitted-variable bias?\n",
    "b. How are the variables correlated? Can I drop some varibles to avoid\n",
    "multi-collinearity?\n",
    "           \n",
    "3.Parameter Optimisation:\n",
    "        \n",
    "a. Use GridSearch to optimise models.\n",
    "        \n",
    "4.Evaluating Model:\n",
    "       \n",
    "a. Cross-Validating the results.\n",
    "b. Using ROC-AUC analysis to evaluate.\n"
   ]
  },
  {
   "cell_type": "code",
   "execution_count": 5,
   "metadata": {},
   "outputs": [
    {
     "name": "stdout",
     "output_type": "stream",
     "text": [
      "(31428, 27)\n"
     ]
    }
   ],
   "source": [
    "print(data.shape)"
   ]
  },
  {
   "cell_type": "code",
   "execution_count": 6,
   "metadata": {},
   "outputs": [
    {
     "data": {
      "text/html": [
       "<div>\n",
       "<style scoped>\n",
       "    .dataframe tbody tr th:only-of-type {\n",
       "        vertical-align: middle;\n",
       "    }\n",
       "\n",
       "    .dataframe tbody tr th {\n",
       "        vertical-align: top;\n",
       "    }\n",
       "\n",
       "    .dataframe thead th {\n",
       "        text-align: right;\n",
       "    }\n",
       "</style>\n",
       "<table border=\"1\" class=\"dataframe\">\n",
       "  <thead>\n",
       "    <tr style=\"text-align: right;\">\n",
       "      <th></th>\n",
       "      <th>label</th>\n",
       "      <th>id</th>\n",
       "      <th>visitTime</th>\n",
       "      <th>purchaseTime</th>\n",
       "      <th>hour</th>\n",
       "      <th>C1</th>\n",
       "      <th>C2</th>\n",
       "      <th>C3</th>\n",
       "      <th>C4</th>\n",
       "      <th>C5</th>\n",
       "      <th>...</th>\n",
       "      <th>N4</th>\n",
       "      <th>N5</th>\n",
       "      <th>N6</th>\n",
       "      <th>N7</th>\n",
       "      <th>N8</th>\n",
       "      <th>N9</th>\n",
       "      <th>N10</th>\n",
       "      <th>C10</th>\n",
       "      <th>C11</th>\n",
       "      <th>C12</th>\n",
       "    </tr>\n",
       "  </thead>\n",
       "  <tbody>\n",
       "    <tr>\n",
       "      <th>0</th>\n",
       "      <td>-1</td>\n",
       "      <td>37</td>\n",
       "      <td>19274330</td>\n",
       "      <td>-1</td>\n",
       "      <td>0</td>\n",
       "      <td>2569487005</td>\n",
       "      <td>1830830742</td>\n",
       "      <td>4228834423</td>\n",
       "      <td>652481754</td>\n",
       "      <td>2967512603</td>\n",
       "      <td>...</td>\n",
       "      <td>0</td>\n",
       "      <td>0</td>\n",
       "      <td>0</td>\n",
       "      <td>0</td>\n",
       "      <td>0</td>\n",
       "      <td>0</td>\n",
       "      <td>0</td>\n",
       "      <td>419316267</td>\n",
       "      <td>3617851689</td>\n",
       "      <td>4220791646</td>\n",
       "    </tr>\n",
       "    <tr>\n",
       "      <th>1</th>\n",
       "      <td>-1</td>\n",
       "      <td>55</td>\n",
       "      <td>19274334</td>\n",
       "      <td>-1</td>\n",
       "      <td>0</td>\n",
       "      <td>3191875643</td>\n",
       "      <td>403381353</td>\n",
       "      <td>1238330876</td>\n",
       "      <td>652481754</td>\n",
       "      <td>2967512603</td>\n",
       "      <td>...</td>\n",
       "      <td>0</td>\n",
       "      <td>0</td>\n",
       "      <td>0</td>\n",
       "      <td>0</td>\n",
       "      <td>1</td>\n",
       "      <td>0</td>\n",
       "      <td>0</td>\n",
       "      <td>1968545380</td>\n",
       "      <td>3831440054</td>\n",
       "      <td>1213938795</td>\n",
       "    </tr>\n",
       "    <tr>\n",
       "      <th>2</th>\n",
       "      <td>-1</td>\n",
       "      <td>114</td>\n",
       "      <td>19274353</td>\n",
       "      <td>-1</td>\n",
       "      <td>0</td>\n",
       "      <td>2634604934</td>\n",
       "      <td>403381353</td>\n",
       "      <td>1928325921</td>\n",
       "      <td>652481754</td>\n",
       "      <td>2967512603</td>\n",
       "      <td>...</td>\n",
       "      <td>0</td>\n",
       "      <td>0</td>\n",
       "      <td>0</td>\n",
       "      <td>0</td>\n",
       "      <td>0</td>\n",
       "      <td>0</td>\n",
       "      <td>0</td>\n",
       "      <td>1405802835</td>\n",
       "      <td>2379633508</td>\n",
       "      <td>1284343215</td>\n",
       "    </tr>\n",
       "    <tr>\n",
       "      <th>3</th>\n",
       "      <td>-1</td>\n",
       "      <td>128</td>\n",
       "      <td>19274358</td>\n",
       "      <td>-1</td>\n",
       "      <td>0</td>\n",
       "      <td>2569487005</td>\n",
       "      <td>403381353</td>\n",
       "      <td>296915027</td>\n",
       "      <td>652481754</td>\n",
       "      <td>2967512603</td>\n",
       "      <td>...</td>\n",
       "      <td>0</td>\n",
       "      <td>0</td>\n",
       "      <td>0</td>\n",
       "      <td>0</td>\n",
       "      <td>0</td>\n",
       "      <td>0</td>\n",
       "      <td>0</td>\n",
       "      <td>2299319102</td>\n",
       "      <td>3617851689</td>\n",
       "      <td>4220791646</td>\n",
       "    </tr>\n",
       "    <tr>\n",
       "      <th>4</th>\n",
       "      <td>-1</td>\n",
       "      <td>164</td>\n",
       "      <td>19274367</td>\n",
       "      <td>-1</td>\n",
       "      <td>0</td>\n",
       "      <td>2569487005</td>\n",
       "      <td>403381353</td>\n",
       "      <td>681762206</td>\n",
       "      <td>652481754</td>\n",
       "      <td>2967512603</td>\n",
       "      <td>...</td>\n",
       "      <td>0</td>\n",
       "      <td>0</td>\n",
       "      <td>0</td>\n",
       "      <td>0</td>\n",
       "      <td>0</td>\n",
       "      <td>0</td>\n",
       "      <td>0</td>\n",
       "      <td>1306075469</td>\n",
       "      <td>3617851689</td>\n",
       "      <td>4220791646</td>\n",
       "    </tr>\n",
       "    <tr>\n",
       "      <th>5</th>\n",
       "      <td>-1</td>\n",
       "      <td>187</td>\n",
       "      <td>19274374</td>\n",
       "      <td>-1</td>\n",
       "      <td>0</td>\n",
       "      <td>3302106226</td>\n",
       "      <td>403381353</td>\n",
       "      <td>1928325921</td>\n",
       "      <td>652481754</td>\n",
       "      <td>2967512603</td>\n",
       "      <td>...</td>\n",
       "      <td>0</td>\n",
       "      <td>0</td>\n",
       "      <td>0</td>\n",
       "      <td>0</td>\n",
       "      <td>0</td>\n",
       "      <td>0</td>\n",
       "      <td>0</td>\n",
       "      <td>3182036626</td>\n",
       "      <td>2379633508</td>\n",
       "      <td>1284343215</td>\n",
       "    </tr>\n",
       "  </tbody>\n",
       "</table>\n",
       "<p>6 rows × 27 columns</p>\n",
       "</div>"
      ],
      "text/plain": [
       "   label   id  visitTime  purchaseTime  hour          C1          C2  \\\n",
       "0     -1   37   19274330            -1     0  2569487005  1830830742   \n",
       "1     -1   55   19274334            -1     0  3191875643   403381353   \n",
       "2     -1  114   19274353            -1     0  2634604934   403381353   \n",
       "3     -1  128   19274358            -1     0  2569487005   403381353   \n",
       "4     -1  164   19274367            -1     0  2569487005   403381353   \n",
       "5     -1  187   19274374            -1     0  3302106226   403381353   \n",
       "\n",
       "           C3         C4          C5  ...  N4  N5  N6  N7  N8  N9  N10  \\\n",
       "0  4228834423  652481754  2967512603  ...   0   0   0   0   0   0    0   \n",
       "1  1238330876  652481754  2967512603  ...   0   0   0   0   1   0    0   \n",
       "2  1928325921  652481754  2967512603  ...   0   0   0   0   0   0    0   \n",
       "3   296915027  652481754  2967512603  ...   0   0   0   0   0   0    0   \n",
       "4   681762206  652481754  2967512603  ...   0   0   0   0   0   0    0   \n",
       "5  1928325921  652481754  2967512603  ...   0   0   0   0   0   0    0   \n",
       "\n",
       "          C10         C11         C12  \n",
       "0   419316267  3617851689  4220791646  \n",
       "1  1968545380  3831440054  1213938795  \n",
       "2  1405802835  2379633508  1284343215  \n",
       "3  2299319102  3617851689  4220791646  \n",
       "4  1306075469  3617851689  4220791646  \n",
       "5  3182036626  2379633508  1284343215  \n",
       "\n",
       "[6 rows x 27 columns]"
      ]
     },
     "execution_count": 6,
     "metadata": {},
     "output_type": "execute_result"
    }
   ],
   "source": [
    "# Let's have a quick glance at the data\n",
    "\n",
    "data.head(6)\n",
    "\n",
    "# We know that label is our dependant variable, where -1 indicates no purchase\n",
    "# and 1 the opposite. \n"
   ]
  },
  {
   "cell_type": "markdown",
   "metadata": {},
   "source": [
    "# Data Preprocessing"
   ]
  },
  {
   "cell_type": "markdown",
   "metadata": {},
   "source": [
    "## 1.1 Missing Values"
   ]
  },
  {
   "cell_type": "code",
   "execution_count": 7,
   "metadata": {},
   "outputs": [
    {
     "data": {
      "text/plain": [
       "label           0.0\n",
       "id              0.0\n",
       "visitTime       0.0\n",
       "purchaseTime    0.0\n",
       "hour            0.0\n",
       "C1              0.0\n",
       "C2              0.0\n",
       "C3              0.0\n",
       "C4              0.0\n",
       "C5              0.0\n",
       "C6              0.0\n",
       "C7              0.0\n",
       "C8              0.0\n",
       "N1              0.0\n",
       "C9              0.0\n",
       "N2              0.0\n",
       "N3              0.0\n",
       "N4              0.0\n",
       "N5              0.0\n",
       "N6              0.0\n",
       "N7              0.0\n",
       "N8              0.0\n",
       "N9              0.0\n",
       "N10             0.0\n",
       "C10             0.0\n",
       "C11             0.0\n",
       "C12             0.0\n",
       "dtype: float64"
      ]
     },
     "execution_count": 7,
     "metadata": {},
     "output_type": "execute_result"
    }
   ],
   "source": [
    "null = data.isnull()\n",
    "null.sum()/len(data)\n",
    "\n",
    "#No missing Values. Great!"
   ]
  },
  {
   "cell_type": "markdown",
   "metadata": {},
   "source": [
    "## 1.2 Distributions"
   ]
  },
  {
   "cell_type": "markdown",
   "metadata": {},
   "source": [
    "Lets run a for-loop to plot out our numeric variables."
   ]
  },
  {
   "cell_type": "code",
   "execution_count": 8,
   "metadata": {},
   "outputs": [
    {
     "name": "stdout",
     "output_type": "stream",
     "text": [
      " Var 0  \n"
     ]
    },
    {
     "data": {
      "image/png": "[encoded data removed]",
      "text/plain": [
       "<Figure size 432x288 with 1 Axes>"
      ]
     },
     "metadata": {},
     "output_type": "display_data"
    },
    {
     "name": "stdout",
     "output_type": "stream",
     "text": [
      " Var 1  \n"
     ]
    },
    {
     "data": {
      "image/png": "[encoded data removed]",
      "text/plain": [
       "<Figure size 432x288 with 1 Axes>"
      ]
     },
     "metadata": {},
     "output_type": "display_data"
    },
    {
     "name": "stdout",
     "output_type": "stream",
     "text": [
      " Var 2  \n"
     ]
    },
    {
     "data": {
      "image/png": "[encoded data removed]",
      "text/plain": [
       "<Figure size 432x288 with 1 Axes>"
      ]
     },
     "metadata": {},
     "output_type": "display_data"
    },
    {
     "name": "stdout",
     "output_type": "stream",
     "text": [
      " Var 3  \n"
     ]
    },
    {
     "data": {
      "image/png": "[encoded data removed]",
      "text/plain": [
       "<Figure size 432x288 with 1 Axes>"
      ]
     },
     "metadata": {},
     "output_type": "display_data"
    },
    {
     "name": "stdout",
     "output_type": "stream",
     "text": [
      " Var 4  \n"
     ]
    },
    {
     "data": {
      "image/png": "[encoded data removed]",
      "text/plain": [
       "<Figure size 432x288 with 1 Axes>"
      ]
     },
     "metadata": {},
     "output_type": "display_data"
    }
   ],
   "source": [
    "Numerical_Var = data.loc[:,data.columns.str.startswith('N')]\n",
    "\n",
    "\n",
    "for i in range(0, 5):\n",
    "    Numerical_Var.iloc[:,i].hist()\n",
    "    print(\" Var %s  \" %i)\n",
    "    plt.show()\n"
   ]
  },
  {
   "cell_type": "markdown",
   "metadata": {},
   "source": [
    "We can see that most variables are heavily imbalanced. \n",
    "Our solution for this will be normalising using the StandardScaler()"
   ]
  },
  {
   "cell_type": "code",
   "execution_count": 9,
   "metadata": {
    "collapsed": true
   },
   "outputs": [],
   "source": [
    "X = data.iloc[:, (data.columns!='label') & (data.columns!='visitTime') ]\n",
    "Y = data['label']"
   ]
  },
  {
   "cell_type": "code",
   "execution_count": 10,
   "metadata": {},
   "outputs": [
    {
     "name": "stderr",
     "output_type": "stream",
     "text": [
      "/anaconda/lib/python3.6/site-packages/ipykernel_launcher.py:7: SettingWithCopyWarning: \n",
      "A value is trying to be set on a copy of a slice from a DataFrame.\n",
      "Try using .loc[row_indexer,col_indexer] = value instead\n",
      "\n",
      "See the caveats in the documentation: https://pandas.pydata.org/pandas-docs/stable/user_guide/indexing.html#returning-a-view-versus-a-copy\n",
      "  import sys\n",
      "/anaconda/lib/python3.6/site-packages/ipykernel_launcher.py:7: SettingWithCopyWarning: \n",
      "A value is trying to be set on a copy of a slice from a DataFrame.\n",
      "Try using .loc[row_indexer,col_indexer] = value instead\n",
      "\n",
      "See the caveats in the documentation: https://pandas.pydata.org/pandas-docs/stable/user_guide/indexing.html#returning-a-view-versus-a-copy\n",
      "  import sys\n",
      "/anaconda/lib/python3.6/site-packages/ipykernel_launcher.py:7: SettingWithCopyWarning: \n",
      "A value is trying to be set on a copy of a slice from a DataFrame.\n",
      "Try using .loc[row_indexer,col_indexer] = value instead\n",
      "\n",
      "See the caveats in the documentation: https://pandas.pydata.org/pandas-docs/stable/user_guide/indexing.html#returning-a-view-versus-a-copy\n",
      "  import sys\n",
      "/anaconda/lib/python3.6/site-packages/ipykernel_launcher.py:7: SettingWithCopyWarning: \n",
      "A value is trying to be set on a copy of a slice from a DataFrame.\n",
      "Try using .loc[row_indexer,col_indexer] = value instead\n",
      "\n",
      "See the caveats in the documentation: https://pandas.pydata.org/pandas-docs/stable/user_guide/indexing.html#returning-a-view-versus-a-copy\n",
      "  import sys\n",
      "/anaconda/lib/python3.6/site-packages/ipykernel_launcher.py:7: SettingWithCopyWarning: \n",
      "A value is trying to be set on a copy of a slice from a DataFrame.\n",
      "Try using .loc[row_indexer,col_indexer] = value instead\n",
      "\n",
      "See the caveats in the documentation: https://pandas.pydata.org/pandas-docs/stable/user_guide/indexing.html#returning-a-view-versus-a-copy\n",
      "  import sys\n",
      "/anaconda/lib/python3.6/site-packages/ipykernel_launcher.py:7: SettingWithCopyWarning: \n",
      "A value is trying to be set on a copy of a slice from a DataFrame.\n",
      "Try using .loc[row_indexer,col_indexer] = value instead\n",
      "\n",
      "See the caveats in the documentation: https://pandas.pydata.org/pandas-docs/stable/user_guide/indexing.html#returning-a-view-versus-a-copy\n",
      "  import sys\n",
      "/anaconda/lib/python3.6/site-packages/ipykernel_launcher.py:7: SettingWithCopyWarning: \n",
      "A value is trying to be set on a copy of a slice from a DataFrame.\n",
      "Try using .loc[row_indexer,col_indexer] = value instead\n",
      "\n",
      "See the caveats in the documentation: https://pandas.pydata.org/pandas-docs/stable/user_guide/indexing.html#returning-a-view-versus-a-copy\n",
      "  import sys\n",
      "/anaconda/lib/python3.6/site-packages/ipykernel_launcher.py:7: SettingWithCopyWarning: \n",
      "A value is trying to be set on a copy of a slice from a DataFrame.\n",
      "Try using .loc[row_indexer,col_indexer] = value instead\n",
      "\n",
      "See the caveats in the documentation: https://pandas.pydata.org/pandas-docs/stable/user_guide/indexing.html#returning-a-view-versus-a-copy\n",
      "  import sys\n",
      "/anaconda/lib/python3.6/site-packages/ipykernel_launcher.py:7: SettingWithCopyWarning: \n",
      "A value is trying to be set on a copy of a slice from a DataFrame.\n",
      "Try using .loc[row_indexer,col_indexer] = value instead\n",
      "\n",
      "See the caveats in the documentation: https://pandas.pydata.org/pandas-docs/stable/user_guide/indexing.html#returning-a-view-versus-a-copy\n",
      "  import sys\n",
      "/anaconda/lib/python3.6/site-packages/ipykernel_launcher.py:7: SettingWithCopyWarning: \n",
      "A value is trying to be set on a copy of a slice from a DataFrame.\n",
      "Try using .loc[row_indexer,col_indexer] = value instead\n",
      "\n",
      "See the caveats in the documentation: https://pandas.pydata.org/pandas-docs/stable/user_guide/indexing.html#returning-a-view-versus-a-copy\n",
      "  import sys\n"
     ]
    }
   ],
   "source": [
    "# Normalizing numeric data\n",
    "\n",
    "for i in Numerical_Var:\n",
    "    x= X[[i]].values\n",
    "    scaler = preprocessing.StandardScaler()\n",
    "    x_scaled = scaler.fit_transform(x)\n",
    "    X[i]=x_scaled\n",
    "    "
   ]
  },
  {
   "cell_type": "code",
   "execution_count": 11,
   "metadata": {},
   "outputs": [
    {
     "data": {
      "text/html": [
       "<div>\n",
       "<style scoped>\n",
       "    .dataframe tbody tr th:only-of-type {\n",
       "        vertical-align: middle;\n",
       "    }\n",
       "\n",
       "    .dataframe tbody tr th {\n",
       "        vertical-align: top;\n",
       "    }\n",
       "\n",
       "    .dataframe thead th {\n",
       "        text-align: right;\n",
       "    }\n",
       "</style>\n",
       "<table border=\"1\" class=\"dataframe\">\n",
       "  <thead>\n",
       "    <tr style=\"text-align: right;\">\n",
       "      <th></th>\n",
       "      <th>id</th>\n",
       "      <th>purchaseTime</th>\n",
       "      <th>hour</th>\n",
       "      <th>C1</th>\n",
       "      <th>C2</th>\n",
       "      <th>C3</th>\n",
       "      <th>C4</th>\n",
       "      <th>C5</th>\n",
       "      <th>C6</th>\n",
       "      <th>C7</th>\n",
       "      <th>...</th>\n",
       "      <th>N4</th>\n",
       "      <th>N5</th>\n",
       "      <th>N6</th>\n",
       "      <th>N7</th>\n",
       "      <th>N8</th>\n",
       "      <th>N9</th>\n",
       "      <th>N10</th>\n",
       "      <th>C10</th>\n",
       "      <th>C11</th>\n",
       "      <th>C12</th>\n",
       "    </tr>\n",
       "  </thead>\n",
       "  <tbody>\n",
       "    <tr>\n",
       "      <th>0</th>\n",
       "      <td>37</td>\n",
       "      <td>-1</td>\n",
       "      <td>0</td>\n",
       "      <td>2569487005</td>\n",
       "      <td>1830830742</td>\n",
       "      <td>4228834423</td>\n",
       "      <td>652481754</td>\n",
       "      <td>2967512603</td>\n",
       "      <td>3624739744</td>\n",
       "      <td>2303407174</td>\n",
       "      <td>...</td>\n",
       "      <td>-0.106697</td>\n",
       "      <td>-0.015298</td>\n",
       "      <td>-0.048464</td>\n",
       "      <td>-0.027133</td>\n",
       "      <td>-0.130523</td>\n",
       "      <td>-0.041971</td>\n",
       "      <td>-0.049696</td>\n",
       "      <td>419316267</td>\n",
       "      <td>3617851689</td>\n",
       "      <td>4220791646</td>\n",
       "    </tr>\n",
       "    <tr>\n",
       "      <th>1</th>\n",
       "      <td>55</td>\n",
       "      <td>-1</td>\n",
       "      <td>0</td>\n",
       "      <td>3191875643</td>\n",
       "      <td>403381353</td>\n",
       "      <td>1238330876</td>\n",
       "      <td>652481754</td>\n",
       "      <td>2967512603</td>\n",
       "      <td>179712055</td>\n",
       "      <td>2303407174</td>\n",
       "      <td>...</td>\n",
       "      <td>-0.106697</td>\n",
       "      <td>-0.015298</td>\n",
       "      <td>-0.048464</td>\n",
       "      <td>-0.027133</td>\n",
       "      <td>0.183475</td>\n",
       "      <td>-0.041971</td>\n",
       "      <td>-0.049696</td>\n",
       "      <td>1968545380</td>\n",
       "      <td>3831440054</td>\n",
       "      <td>1213938795</td>\n",
       "    </tr>\n",
       "    <tr>\n",
       "      <th>2</th>\n",
       "      <td>114</td>\n",
       "      <td>-1</td>\n",
       "      <td>0</td>\n",
       "      <td>2634604934</td>\n",
       "      <td>403381353</td>\n",
       "      <td>1928325921</td>\n",
       "      <td>652481754</td>\n",
       "      <td>2967512603</td>\n",
       "      <td>1607619193</td>\n",
       "      <td>2303407174</td>\n",
       "      <td>...</td>\n",
       "      <td>-0.106697</td>\n",
       "      <td>-0.015298</td>\n",
       "      <td>-0.048464</td>\n",
       "      <td>-0.027133</td>\n",
       "      <td>-0.130523</td>\n",
       "      <td>-0.041971</td>\n",
       "      <td>-0.049696</td>\n",
       "      <td>1405802835</td>\n",
       "      <td>2379633508</td>\n",
       "      <td>1284343215</td>\n",
       "    </tr>\n",
       "    <tr>\n",
       "      <th>3</th>\n",
       "      <td>128</td>\n",
       "      <td>-1</td>\n",
       "      <td>0</td>\n",
       "      <td>2569487005</td>\n",
       "      <td>403381353</td>\n",
       "      <td>296915027</td>\n",
       "      <td>652481754</td>\n",
       "      <td>2967512603</td>\n",
       "      <td>10212495</td>\n",
       "      <td>2303407174</td>\n",
       "      <td>...</td>\n",
       "      <td>-0.106697</td>\n",
       "      <td>-0.015298</td>\n",
       "      <td>-0.048464</td>\n",
       "      <td>-0.027133</td>\n",
       "      <td>-0.130523</td>\n",
       "      <td>-0.041971</td>\n",
       "      <td>-0.049696</td>\n",
       "      <td>2299319102</td>\n",
       "      <td>3617851689</td>\n",
       "      <td>4220791646</td>\n",
       "    </tr>\n",
       "    <tr>\n",
       "      <th>4</th>\n",
       "      <td>164</td>\n",
       "      <td>-1</td>\n",
       "      <td>0</td>\n",
       "      <td>2569487005</td>\n",
       "      <td>403381353</td>\n",
       "      <td>681762206</td>\n",
       "      <td>652481754</td>\n",
       "      <td>2967512603</td>\n",
       "      <td>580883881</td>\n",
       "      <td>2303407174</td>\n",
       "      <td>...</td>\n",
       "      <td>-0.106697</td>\n",
       "      <td>-0.015298</td>\n",
       "      <td>-0.048464</td>\n",
       "      <td>-0.027133</td>\n",
       "      <td>-0.130523</td>\n",
       "      <td>-0.041971</td>\n",
       "      <td>-0.049696</td>\n",
       "      <td>1306075469</td>\n",
       "      <td>3617851689</td>\n",
       "      <td>4220791646</td>\n",
       "    </tr>\n",
       "  </tbody>\n",
       "</table>\n",
       "<p>5 rows × 25 columns</p>\n",
       "</div>"
      ],
      "text/plain": [
       "    id  purchaseTime  hour          C1          C2          C3         C4  \\\n",
       "0   37            -1     0  2569487005  1830830742  4228834423  652481754   \n",
       "1   55            -1     0  3191875643   403381353  1238330876  652481754   \n",
       "2  114            -1     0  2634604934   403381353  1928325921  652481754   \n",
       "3  128            -1     0  2569487005   403381353   296915027  652481754   \n",
       "4  164            -1     0  2569487005   403381353   681762206  652481754   \n",
       "\n",
       "           C5          C6          C7  ...        N4        N5        N6  \\\n",
       "0  2967512603  3624739744  2303407174  ... -0.106697 -0.015298 -0.048464   \n",
       "1  2967512603   179712055  2303407174  ... -0.106697 -0.015298 -0.048464   \n",
       "2  2967512603  1607619193  2303407174  ... -0.106697 -0.015298 -0.048464   \n",
       "3  2967512603    10212495  2303407174  ... -0.106697 -0.015298 -0.048464   \n",
       "4  2967512603   580883881  2303407174  ... -0.106697 -0.015298 -0.048464   \n",
       "\n",
       "         N7        N8        N9       N10         C10         C11         C12  \n",
       "0 -0.027133 -0.130523 -0.041971 -0.049696   419316267  3617851689  4220791646  \n",
       "1 -0.027133  0.183475 -0.041971 -0.049696  1968545380  3831440054  1213938795  \n",
       "2 -0.027133 -0.130523 -0.041971 -0.049696  1405802835  2379633508  1284343215  \n",
       "3 -0.027133 -0.130523 -0.041971 -0.049696  2299319102  3617851689  4220791646  \n",
       "4 -0.027133 -0.130523 -0.041971 -0.049696  1306075469  3617851689  4220791646  \n",
       "\n",
       "[5 rows x 25 columns]"
      ]
     },
     "execution_count": 11,
     "metadata": {},
     "output_type": "execute_result"
    }
   ],
   "source": [
    "X.head()"
   ]
  },
  {
   "cell_type": "code",
   "execution_count": 12,
   "metadata": {
    "collapsed": true
   },
   "outputs": [],
   "source": [
    "Categorical_Var = data.loc[:,data.columns.str.startswith('C')]\n",
    "Cat = pd.get_dummies(Categorical_Var)"
   ]
  },
  {
   "cell_type": "code",
   "execution_count": 13,
   "metadata": {},
   "outputs": [
    {
     "data": {
      "text/html": [
       "<div>\n",
       "<style scoped>\n",
       "    .dataframe tbody tr th:only-of-type {\n",
       "        vertical-align: middle;\n",
       "    }\n",
       "\n",
       "    .dataframe tbody tr th {\n",
       "        vertical-align: top;\n",
       "    }\n",
       "\n",
       "    .dataframe thead th {\n",
       "        text-align: right;\n",
       "    }\n",
       "</style>\n",
       "<table border=\"1\" class=\"dataframe\">\n",
       "  <thead>\n",
       "    <tr style=\"text-align: right;\">\n",
       "      <th></th>\n",
       "      <th>C1</th>\n",
       "      <th>C2</th>\n",
       "      <th>C3</th>\n",
       "      <th>C4</th>\n",
       "      <th>C5</th>\n",
       "      <th>C6</th>\n",
       "      <th>C7</th>\n",
       "      <th>C8</th>\n",
       "      <th>C9</th>\n",
       "      <th>C10</th>\n",
       "      <th>C11</th>\n",
       "      <th>C12</th>\n",
       "    </tr>\n",
       "  </thead>\n",
       "  <tbody>\n",
       "    <tr>\n",
       "      <th>0</th>\n",
       "      <td>2569487005</td>\n",
       "      <td>1830830742</td>\n",
       "      <td>4228834423</td>\n",
       "      <td>652481754</td>\n",
       "      <td>2967512603</td>\n",
       "      <td>3624739744</td>\n",
       "      <td>2303407174</td>\n",
       "      <td>2206061889</td>\n",
       "      <td>4287642944</td>\n",
       "      <td>419316267</td>\n",
       "      <td>3617851689</td>\n",
       "      <td>4220791646</td>\n",
       "    </tr>\n",
       "    <tr>\n",
       "      <th>1</th>\n",
       "      <td>3191875643</td>\n",
       "      <td>403381353</td>\n",
       "      <td>1238330876</td>\n",
       "      <td>652481754</td>\n",
       "      <td>2967512603</td>\n",
       "      <td>179712055</td>\n",
       "      <td>2303407174</td>\n",
       "      <td>157533148</td>\n",
       "      <td>3272771221</td>\n",
       "      <td>1968545380</td>\n",
       "      <td>3831440054</td>\n",
       "      <td>1213938795</td>\n",
       "    </tr>\n",
       "    <tr>\n",
       "      <th>2</th>\n",
       "      <td>2634604934</td>\n",
       "      <td>403381353</td>\n",
       "      <td>1928325921</td>\n",
       "      <td>652481754</td>\n",
       "      <td>2967512603</td>\n",
       "      <td>1607619193</td>\n",
       "      <td>2303407174</td>\n",
       "      <td>3588031319</td>\n",
       "      <td>3329757940</td>\n",
       "      <td>1405802835</td>\n",
       "      <td>2379633508</td>\n",
       "      <td>1284343215</td>\n",
       "    </tr>\n",
       "    <tr>\n",
       "      <th>3</th>\n",
       "      <td>2569487005</td>\n",
       "      <td>403381353</td>\n",
       "      <td>296915027</td>\n",
       "      <td>652481754</td>\n",
       "      <td>2967512603</td>\n",
       "      <td>10212495</td>\n",
       "      <td>2303407174</td>\n",
       "      <td>3588031319</td>\n",
       "      <td>3427046189</td>\n",
       "      <td>2299319102</td>\n",
       "      <td>3617851689</td>\n",
       "      <td>4220791646</td>\n",
       "    </tr>\n",
       "    <tr>\n",
       "      <th>4</th>\n",
       "      <td>2569487005</td>\n",
       "      <td>403381353</td>\n",
       "      <td>681762206</td>\n",
       "      <td>652481754</td>\n",
       "      <td>2967512603</td>\n",
       "      <td>580883881</td>\n",
       "      <td>2303407174</td>\n",
       "      <td>157533148</td>\n",
       "      <td>2088887026</td>\n",
       "      <td>1306075469</td>\n",
       "      <td>3617851689</td>\n",
       "      <td>4220791646</td>\n",
       "    </tr>\n",
       "  </tbody>\n",
       "</table>\n",
       "</div>"
      ],
      "text/plain": [
       "           C1          C2          C3         C4          C5          C6  \\\n",
       "0  2569487005  1830830742  4228834423  652481754  2967512603  3624739744   \n",
       "1  3191875643   403381353  1238330876  652481754  2967512603   179712055   \n",
       "2  2634604934   403381353  1928325921  652481754  2967512603  1607619193   \n",
       "3  2569487005   403381353   296915027  652481754  2967512603    10212495   \n",
       "4  2569487005   403381353   681762206  652481754  2967512603   580883881   \n",
       "\n",
       "           C7          C8          C9         C10         C11         C12  \n",
       "0  2303407174  2206061889  4287642944   419316267  3617851689  4220791646  \n",
       "1  2303407174   157533148  3272771221  1968545380  3831440054  1213938795  \n",
       "2  2303407174  3588031319  3329757940  1405802835  2379633508  1284343215  \n",
       "3  2303407174  3588031319  3427046189  2299319102  3617851689  4220791646  \n",
       "4  2303407174   157533148  2088887026  1306075469  3617851689  4220791646  "
      ]
     },
     "execution_count": 13,
     "metadata": {},
     "output_type": "execute_result"
    }
   ],
   "source": [
    "Cat.head()"
   ]
  },
  {
   "cell_type": "markdown",
   "metadata": {},
   "source": [
    "## 1.3 Balance of dependant variable"
   ]
  },
  {
   "cell_type": "markdown",
   "metadata": {},
   "source": [
    "Lets first show the independant variable:"
   ]
  },
  {
   "cell_type": "code",
   "execution_count": 14,
   "metadata": {},
   "outputs": [
    {
     "data": {
      "text/plain": [
       "-1    31371\n",
       " 1       57\n",
       "Name: label, dtype: int64"
      ]
     },
     "execution_count": 14,
     "metadata": {},
     "output_type": "execute_result"
    }
   ],
   "source": [
    "data.label.value_counts()\n",
    "\n",
    "# Heavily imbalanced. Yikes\n",
    "# Now time for solutions!\n"
   ]
  },
  {
   "cell_type": "markdown",
   "metadata": {},
   "source": [
    "After counting our independant variable, we can see that some kind of over/undersampling needs to be made. Imbalanced classes lead to skewed results in ML-projects as the model will tend to classify every observations as the overbalanced class."
   ]
  },
  {
   "cell_type": "code",
   "execution_count": 15,
   "metadata": {
    "collapsed": true
   },
   "outputs": [],
   "source": [
    "\n",
    "X=data.drop([\"label\",\"purchaseTime\",'id'], axis=1)\n",
    "y=data['label']"
   ]
  },
  {
   "cell_type": "markdown",
   "metadata": {},
   "source": [
    "Start by defining dependant/independant variables. \n",
    "Drop those that are unique or provide no value (purchasetime\n",
    "only being shown when a purchase happens)"
   ]
  },
  {
   "cell_type": "markdown",
   "metadata": {},
   "source": [
    "## NAIVE RESAMPLING , SMOTE"
   ]
  },
  {
   "cell_type": "markdown",
   "metadata": {},
   "source": [
    "We will test two differenct sampling methods, Naive and SMOTE. Naive resampling consists of simply randomly drawing observations from the original dataset from the underbalanced class. This has the downside of not adding new information to the model and therefore giving unreliable results.\n",
    "\n",
    "SMOTE is a sofisticated algorithm which, in the words of Jason Brownlee, \"...works by selecting examples that are close in the feature space, drawing a line between the examples in the feature space and drawing a new sample at a point along that line.\" we will use both to illustrate. "
   ]
  },
  {
   "cell_type": "code",
   "execution_count": 16,
   "metadata": {},
   "outputs": [
    {
     "name": "stderr",
     "output_type": "stream",
     "text": [
      "Using TensorFlow backend.\n"
     ]
    }
   ],
   "source": [
    "from imblearn.over_sampling import RandomOverSampler\n"
   ]
  },
  {
   "cell_type": "code",
   "execution_count": 17,
   "metadata": {
    "collapsed": true,
    "scrolled": true
   },
   "outputs": [],
   "source": [
    "#import sys\n",
    "#!{sys.executable} -m pip install -U imbalanced-learn --ignore-installed scikit-learn "
   ]
  },
  {
   "cell_type": "code",
   "execution_count": 17,
   "metadata": {
    "collapsed": true
   },
   "outputs": [],
   "source": [
    "from imblearn.over_sampling import SMOTE, ADASYN"
   ]
  },
  {
   "cell_type": "markdown",
   "metadata": {},
   "source": [
    "### Oversample and then re-shuffle naively"
   ]
  },
  {
   "cell_type": "code",
   "execution_count": 18,
   "metadata": {
    "collapsed": true
   },
   "outputs": [],
   "source": [
    "ros = RandomOverSampler(random_state=1, sampling_strategy=0.4)\n",
    "\n",
    "# We oversample the minority class"
   ]
  },
  {
   "cell_type": "code",
   "execution_count": 19,
   "metadata": {
    "collapsed": true
   },
   "outputs": [],
   "source": [
    "X_resampled, y_resampled = ros.fit_resample(X, y)"
   ]
  },
  {
   "cell_type": "code",
   "execution_count": 20,
   "metadata": {},
   "outputs": [
    {
     "data": {
      "text/plain": [
       "-1    31371\n",
       " 1    12548\n",
       "Name: label, dtype: int64"
      ]
     },
     "execution_count": 20,
     "metadata": {},
     "output_type": "execute_result"
    }
   ],
   "source": [
    "y_resampled.value_counts()\n",
    "\n",
    "# Class rebalanced to equal occurances "
   ]
  },
  {
   "cell_type": "markdown",
   "metadata": {},
   "source": [
    "### SMOTE"
   ]
  },
  {
   "cell_type": "code",
   "execution_count": 21,
   "metadata": {
    "collapsed": true
   },
   "outputs": [],
   "source": [
    "X_resampledSMOTE, y_resampledSMOTE = SMOTE(random_state=1, sampling_strategy=0.4).fit_resample(X, y)"
   ]
  },
  {
   "cell_type": "code",
   "execution_count": 22,
   "metadata": {},
   "outputs": [
    {
     "data": {
      "text/plain": [
       "-1    31371\n",
       " 1    12548\n",
       "Name: label, dtype: int64"
      ]
     },
     "execution_count": 22,
     "metadata": {},
     "output_type": "execute_result"
    }
   ],
   "source": [
    "y_resampledSMOTE.value_counts()"
   ]
  },
  {
   "cell_type": "markdown",
   "metadata": {},
   "source": [
    "Our classes out now more balanced! To replicate the idea of imbalance, I choose not to oversample equally for the classes to have an equal amounts of observations. From this point on, the SMOTE sampled data will be used. Also, to keep the features of the data, the selection process will be done on the original verison. This is due to violation of the assumption of independant observations whilst doing selection on oversamled data. "
   ]
  },
  {
   "cell_type": "markdown",
   "metadata": {},
   "source": [
    "# 2. Feature selection"
   ]
  },
  {
   "cell_type": "markdown",
   "metadata": {},
   "source": [
    "## 2.1 Correlation analysis"
   ]
  },
  {
   "cell_type": "markdown",
   "metadata": {},
   "source": [
    "Now that we have some 'clean' data, let's find some insights"
   ]
  },
  {
   "cell_type": "code",
   "execution_count": 23,
   "metadata": {},
   "outputs": [
    {
     "data": {
      "image/png": "[encoded data removed]",
      "text/plain": [
       "<Figure size 432x288 with 2 Axes>"
      ]
     },
     "metadata": {},
     "output_type": "display_data"
    }
   ],
   "source": [
    "corr = X.corr()\n",
    "fig = plt.figure()\n",
    "ax = fig.add_subplot(111)\n",
    "cax = ax.matshow(corr,cmap='Greens', vmin=-1, vmax=1)\n",
    "fig.colorbar(cax)\n",
    "ticks = np.arange(0,len(X.columns),1)\n",
    "ax.set_xticks(ticks)\n",
    "plt.xticks(rotation=90)\n",
    "ax.set_yticks(ticks)\n",
    "ax.set_xticklabels(X.columns)\n",
    "ax.set_yticklabels(X.columns)\n",
    "plt.show()"
   ]
  },
  {
   "cell_type": "markdown",
   "metadata": {},
   "source": [
    "Visittime and Hour correlate highly. They represent more/less\n",
    "the same thing. Also, N9 and N10 will correlate. One of each will\n",
    "therefore be dropped to avoid multicollinearity.\n"
   ]
  },
  {
   "cell_type": "code",
   "execution_count": 24,
   "metadata": {
    "collapsed": true
   },
   "outputs": [],
   "source": [
    "X1=X.drop(['hour','N9','visitTime'], axis=1)"
   ]
  },
  {
   "cell_type": "markdown",
   "metadata": {},
   "source": [
    "## 2.2 Feature selection with Random Forest"
   ]
  },
  {
   "cell_type": "code",
   "execution_count": 25,
   "metadata": {
    "collapsed": true
   },
   "outputs": [],
   "source": [
    "from sklearn.ensemble import RandomForestClassifier"
   ]
  },
  {
   "cell_type": "markdown",
   "metadata": {},
   "source": [
    "Raandom Forest is a model that can be used for predicting and analysing variable importance. It calculates entropy in variables (how much randomness they add/substract from the independant variable) and can be used for feature selection. "
   ]
  },
  {
   "cell_type": "code",
   "execution_count": 26,
   "metadata": {
    "collapsed": true
   },
   "outputs": [],
   "source": [
    "rf = RandomForestClassifier(n_estimators = 100).fit(X1, y)"
   ]
  },
  {
   "cell_type": "code",
   "execution_count": 27,
   "metadata": {},
   "outputs": [
    {
     "data": {
      "text/plain": [
       "array([0.07153532, 0.01997176, 0.0503817 , 0.01362421, 0.00899585,\n",
       "       0.04863186, 0.03197453, 0.02876365, 0.03281724, 0.03485071,\n",
       "       0.01077789, 0.03137342, 0.02933668, 0.00540381, 0.11469911,\n",
       "       0.00979705, 0.06157969, 0.22179046, 0.12743491, 0.01798438,\n",
       "       0.02827577])"
      ]
     },
     "execution_count": 27,
     "metadata": {},
     "output_type": "execute_result"
    }
   ],
   "source": [
    "rf.feature_importances_"
   ]
  },
  {
   "cell_type": "code",
   "execution_count": 28,
   "metadata": {},
   "outputs": [
    {
     "data": {
      "image/png": "[encoded data removed]",
      "text/plain": [
       "<Figure size 432x288 with 1 Axes>"
      ]
     },
     "metadata": {},
     "output_type": "display_data"
    }
   ],
   "source": [
    "plt.barh(range(21), rf.feature_importances_)\n",
    "plt.show(range(21))"
   ]
  },
  {
   "cell_type": "code",
   "execution_count": 29,
   "metadata": {
    "collapsed": true
   },
   "outputs": [],
   "source": [
    "imp_var = rf.feature_importances_ > 0.04\n",
    "# Extract variables with gini > 0.1"
   ]
  },
  {
   "cell_type": "code",
   "execution_count": 30,
   "metadata": {
    "collapsed": true
   },
   "outputs": [],
   "source": [
    "imp1 = imp_var.tolist()"
   ]
  },
  {
   "cell_type": "code",
   "execution_count": 31,
   "metadata": {
    "collapsed": true
   },
   "outputs": [],
   "source": [
    "res = [i for i, val in enumerate(imp1) if val] "
   ]
  },
  {
   "cell_type": "code",
   "execution_count": 32,
   "metadata": {},
   "outputs": [
    {
     "data": {
      "text/html": [
       "<div>\n",
       "<style scoped>\n",
       "    .dataframe tbody tr th:only-of-type {\n",
       "        vertical-align: middle;\n",
       "    }\n",
       "\n",
       "    .dataframe tbody tr th {\n",
       "        vertical-align: top;\n",
       "    }\n",
       "\n",
       "    .dataframe thead th {\n",
       "        text-align: right;\n",
       "    }\n",
       "</style>\n",
       "<table border=\"1\" class=\"dataframe\">\n",
       "  <thead>\n",
       "    <tr style=\"text-align: right;\">\n",
       "      <th></th>\n",
       "      <th>visitTime</th>\n",
       "      <th>C1</th>\n",
       "      <th>C4</th>\n",
       "      <th>N4</th>\n",
       "      <th>N6</th>\n",
       "      <th>N7</th>\n",
       "      <th>N8</th>\n",
       "    </tr>\n",
       "  </thead>\n",
       "  <tbody>\n",
       "    <tr>\n",
       "      <th>0</th>\n",
       "      <td>19274330</td>\n",
       "      <td>2569487005</td>\n",
       "      <td>652481754</td>\n",
       "      <td>0</td>\n",
       "      <td>0</td>\n",
       "      <td>0</td>\n",
       "      <td>0</td>\n",
       "    </tr>\n",
       "    <tr>\n",
       "      <th>1</th>\n",
       "      <td>19274334</td>\n",
       "      <td>3191875643</td>\n",
       "      <td>652481754</td>\n",
       "      <td>0</td>\n",
       "      <td>0</td>\n",
       "      <td>0</td>\n",
       "      <td>1</td>\n",
       "    </tr>\n",
       "    <tr>\n",
       "      <th>2</th>\n",
       "      <td>19274353</td>\n",
       "      <td>2634604934</td>\n",
       "      <td>652481754</td>\n",
       "      <td>0</td>\n",
       "      <td>0</td>\n",
       "      <td>0</td>\n",
       "      <td>0</td>\n",
       "    </tr>\n",
       "    <tr>\n",
       "      <th>3</th>\n",
       "      <td>19274358</td>\n",
       "      <td>2569487005</td>\n",
       "      <td>652481754</td>\n",
       "      <td>0</td>\n",
       "      <td>0</td>\n",
       "      <td>0</td>\n",
       "      <td>0</td>\n",
       "    </tr>\n",
       "    <tr>\n",
       "      <th>4</th>\n",
       "      <td>19274367</td>\n",
       "      <td>2569487005</td>\n",
       "      <td>652481754</td>\n",
       "      <td>0</td>\n",
       "      <td>0</td>\n",
       "      <td>0</td>\n",
       "      <td>0</td>\n",
       "    </tr>\n",
       "    <tr>\n",
       "      <th>5</th>\n",
       "      <td>19274374</td>\n",
       "      <td>3302106226</td>\n",
       "      <td>652481754</td>\n",
       "      <td>0</td>\n",
       "      <td>0</td>\n",
       "      <td>0</td>\n",
       "      <td>0</td>\n",
       "    </tr>\n",
       "  </tbody>\n",
       "</table>\n",
       "</div>"
      ],
      "text/plain": [
       "   visitTime          C1         C4  N4  N6  N7  N8\n",
       "0   19274330  2569487005  652481754   0   0   0   0\n",
       "1   19274334  3191875643  652481754   0   0   0   1\n",
       "2   19274353  2634604934  652481754   0   0   0   0\n",
       "3   19274358  2569487005  652481754   0   0   0   0\n",
       "4   19274367  2569487005  652481754   0   0   0   0\n",
       "5   19274374  3302106226  652481754   0   0   0   0"
      ]
     },
     "execution_count": 32,
     "metadata": {},
     "output_type": "execute_result"
    }
   ],
   "source": [
    "X_resampledSMOTE.iloc[:,res].head(6)"
   ]
  },
  {
   "cell_type": "markdown",
   "metadata": {},
   "source": [
    "This is one way to decide which variables to be used to train model. There are more sofistocated techniques tough, like LASSO and Ridge regression, that supposedely choose the optimal variables t obe used (our previous approach of just choosing gini > 1 is less 'academic'). Ridge will be tested aswell. "
   ]
  },
  {
   "cell_type": "markdown",
   "metadata": {},
   "source": [
    "## 2.3 Feature Selection part 2 & Paremeter Optimization : Using GridSearchCV "
   ]
  },
  {
   "cell_type": "code",
   "execution_count": 33,
   "metadata": {
    "collapsed": true
   },
   "outputs": [],
   "source": [
    "from sklearn.model_selection import GridSearchCV\n",
    "from sklearn.feature_selection import RFECV\n",
    "from sklearn.pipeline import Pipeline as pipe"
   ]
  },
  {
   "cell_type": "code",
   "execution_count": 34,
   "metadata": {
    "collapsed": true
   },
   "outputs": [],
   "source": [
    "X_train, X_test, y_train, y_test = train_test_split(X1, y, random_state=42,stratify = y)"
   ]
  },
  {
   "cell_type": "code",
   "execution_count": 35,
   "metadata": {
    "collapsed": true
   },
   "outputs": [],
   "source": [
    "rfc = RandomForestClassifier(n_jobs=-1,max_features= 'sqrt' ,n_estimators=50, oob_score = True) "
   ]
  },
  {
   "cell_type": "code",
   "execution_count": 36,
   "metadata": {},
   "outputs": [
    {
     "name": "stdout",
     "output_type": "stream",
     "text": [
      "Optimal number of features : 13\n"
     ]
    }
   ],
   "source": [
    "clf = RandomForestClassifier(random_state = 42, class_weight=\"balanced\")\n",
    "\n",
    "rfecv = RFECV(estimator=clf, step=1, cv=5, scoring='f1')\n",
    "\n",
    "rfecv.fit(X_train,y_train)\n",
    "\n",
    "print(\"Optimal number of features : %d\" % rfecv.n_features_)\n",
    "features=list(X_train.columns[rfecv.support_])"
   ]
  },
  {
   "cell_type": "code",
   "execution_count": 37,
   "metadata": {},
   "outputs": [
    {
     "data": {
      "image/png": "[encoded data removed]",
      "text/plain": [
       "<Figure size 432x288 with 1 Axes>"
      ]
     },
     "metadata": {},
     "output_type": "display_data"
    }
   ],
   "source": [
    "plt.figure()\n",
    "plt.xlabel(\"Number of features selected\")\n",
    "plt.ylabel(\"Cross validation score (nb of correct classifications)\")\n",
    "plt.plot(range(1, len(rfecv.grid_scores_) + 1), rfecv.grid_scores_)\n",
    "plt.show()"
   ]
  },
  {
   "cell_type": "code",
   "execution_count": 38,
   "metadata": {},
   "outputs": [
    {
     "data": {
      "text/plain": [
       "['C1',\n",
       " 'C3',\n",
       " 'C6',\n",
       " 'C8',\n",
       " 'N1',\n",
       " 'C9',\n",
       " 'N3',\n",
       " 'N4',\n",
       " 'N6',\n",
       " 'N8',\n",
       " 'N10',\n",
       " 'C10',\n",
       " 'C12']"
      ]
     },
     "execution_count": 38,
     "metadata": {},
     "output_type": "execute_result"
    }
   ],
   "source": [
    "features"
   ]
  },
  {
   "cell_type": "markdown",
   "metadata": {},
   "source": [
    "It seems that the feature selecton with RFECV is very similar to our 'best-gini' selection. "
   ]
  },
  {
   "cell_type": "code",
   "execution_count": 39,
   "metadata": {
    "collapsed": true
   },
   "outputs": [],
   "source": [
    "param_grid = { \n",
    "    'n_estimators': [200, 300],\n",
    "    'max_features': ['auto', 'sqrt', 'log2'],\n",
    "    'criterion' :['gini', 'entropy']\n",
    "}"
   ]
  },
  {
   "cell_type": "code",
   "execution_count": 40,
   "metadata": {
    "collapsed": true
   },
   "outputs": [],
   "source": [
    "CV_rfc = GridSearchCV(estimator=clf, param_grid=param_grid, cv= 5, scoring = 'f1')"
   ]
  },
  {
   "cell_type": "code",
   "execution_count": 41,
   "metadata": {},
   "outputs": [
    {
     "name": "stdout",
     "output_type": "stream",
     "text": [
      "{'criterion': 'gini', 'max_features': 'auto', 'n_estimators': 300}\n"
     ]
    }
   ],
   "source": [
    "CV_rfc.fit(X_train, y_train)\n",
    "print(CV_rfc.best_params_)"
   ]
  },
  {
   "cell_type": "markdown",
   "metadata": {},
   "source": [
    "Now we both have the best feature selection and parameters (for a Random Forest)"
   ]
  },
  {
   "cell_type": "code",
   "execution_count": 42,
   "metadata": {},
   "outputs": [
    {
     "name": "stdout",
     "output_type": "stream",
     "text": [
      "              precision    recall  f1-score   support\n",
      "\n",
      "          -1       1.00      1.00      1.00      7852\n",
      "           1       0.36      1.00      0.53         5\n",
      "\n",
      "    accuracy                           1.00      7857\n",
      "   macro avg       0.68      1.00      0.76      7857\n",
      "weighted avg       1.00      1.00      1.00      7857\n",
      "\n"
     ]
    }
   ],
   "source": [
    "from sklearn.metrics import classification_report\n",
    "\n",
    "y_true, y_pred = y_test, CV_rfc.predict(X_test)\n",
    "print(classification_report(y_pred,y_true))"
   ]
  },
  {
   "cell_type": "code",
   "execution_count": 43,
   "metadata": {},
   "outputs": [
    {
     "data": {
      "text/plain": [
       "0.3802486402486402"
      ]
     },
     "execution_count": 43,
     "metadata": {},
     "output_type": "execute_result"
    }
   ],
   "source": [
    "CV_rfc.best_score_"
   ]
  },
  {
   "cell_type": "code",
   "execution_count": 44,
   "metadata": {
    "collapsed": true
   },
   "outputs": [],
   "source": [
    "best_rfc = RandomForestClassifier(criterion = 'gini', max_features = 'auto', n_estimators = 300) "
   ]
  },
  {
   "cell_type": "code",
   "execution_count": 45,
   "metadata": {
    "collapsed": true
   },
   "outputs": [],
   "source": [
    "from sklearn.model_selection import cross_val_score"
   ]
  },
  {
   "cell_type": "code",
   "execution_count": 46,
   "metadata": {
    "collapsed": true
   },
   "outputs": [],
   "source": [
    "scores = cross_val_score(best_rfc, X_train, y_train, cv = 10, scoring ='f1_macro')"
   ]
  },
  {
   "cell_type": "code",
   "execution_count": 69,
   "metadata": {},
   "outputs": [
    {
     "data": {
      "text/plain": [
       "0.7174592027096717"
      ]
     },
     "execution_count": 69,
     "metadata": {},
     "output_type": "execute_result"
    }
   ],
   "source": [
    "np.mean(scores)"
   ]
  },
  {
   "cell_type": "markdown",
   "metadata": {},
   "source": [
    "## 4. Evaluating model\n",
    "\n",
    "Now that we've founde both the opimal combination of features and parameters, let's use them in modelling! This time, we will train on the over sampled data."
   ]
  },
  {
   "cell_type": "markdown",
   "metadata": {},
   "source": [
    "With random forest we have been able to find which variables have\n",
    "the strongest influence on our data. These will be the final features we use \n",
    "in our prediction model"
   ]
  },
  {
   "cell_type": "code",
   "execution_count": 54,
   "metadata": {},
   "outputs": [],
   "source": [
    "Final_Data = X_resampledSMOTE.loc[:,features]\n",
    "Y = y_resampledSMOTE"
   ]
  },
  {
   "cell_type": "code",
   "execution_count": 55,
   "metadata": {},
   "outputs": [
    {
     "data": {
      "text/html": [
       "<div>\n",
       "<style scoped>\n",
       "    .dataframe tbody tr th:only-of-type {\n",
       "        vertical-align: middle;\n",
       "    }\n",
       "\n",
       "    .dataframe tbody tr th {\n",
       "        vertical-align: top;\n",
       "    }\n",
       "\n",
       "    .dataframe thead th {\n",
       "        text-align: right;\n",
       "    }\n",
       "</style>\n",
       "<table border=\"1\" class=\"dataframe\">\n",
       "  <thead>\n",
       "    <tr style=\"text-align: right;\">\n",
       "      <th></th>\n",
       "      <th>C1</th>\n",
       "      <th>C3</th>\n",
       "      <th>C6</th>\n",
       "      <th>C8</th>\n",
       "      <th>N1</th>\n",
       "      <th>C9</th>\n",
       "      <th>N3</th>\n",
       "      <th>N4</th>\n",
       "      <th>N6</th>\n",
       "      <th>N8</th>\n",
       "      <th>N10</th>\n",
       "      <th>C10</th>\n",
       "      <th>C12</th>\n",
       "    </tr>\n",
       "  </thead>\n",
       "  <tbody>\n",
       "    <tr>\n",
       "      <th>0</th>\n",
       "      <td>2569487005</td>\n",
       "      <td>4228834423</td>\n",
       "      <td>3624739744</td>\n",
       "      <td>2206061889</td>\n",
       "      <td>0</td>\n",
       "      <td>4287642944</td>\n",
       "      <td>0</td>\n",
       "      <td>0</td>\n",
       "      <td>0</td>\n",
       "      <td>0</td>\n",
       "      <td>0</td>\n",
       "      <td>419316267</td>\n",
       "      <td>4220791646</td>\n",
       "    </tr>\n",
       "    <tr>\n",
       "      <th>1</th>\n",
       "      <td>3191875643</td>\n",
       "      <td>1238330876</td>\n",
       "      <td>179712055</td>\n",
       "      <td>157533148</td>\n",
       "      <td>1</td>\n",
       "      <td>3272771221</td>\n",
       "      <td>1</td>\n",
       "      <td>0</td>\n",
       "      <td>0</td>\n",
       "      <td>1</td>\n",
       "      <td>0</td>\n",
       "      <td>1968545380</td>\n",
       "      <td>1213938795</td>\n",
       "    </tr>\n",
       "    <tr>\n",
       "      <th>2</th>\n",
       "      <td>2634604934</td>\n",
       "      <td>1928325921</td>\n",
       "      <td>1607619193</td>\n",
       "      <td>3588031319</td>\n",
       "      <td>0</td>\n",
       "      <td>3329757940</td>\n",
       "      <td>0</td>\n",
       "      <td>0</td>\n",
       "      <td>0</td>\n",
       "      <td>0</td>\n",
       "      <td>0</td>\n",
       "      <td>1405802835</td>\n",
       "      <td>1284343215</td>\n",
       "    </tr>\n",
       "    <tr>\n",
       "      <th>3</th>\n",
       "      <td>2569487005</td>\n",
       "      <td>296915027</td>\n",
       "      <td>10212495</td>\n",
       "      <td>3588031319</td>\n",
       "      <td>0</td>\n",
       "      <td>3427046189</td>\n",
       "      <td>0</td>\n",
       "      <td>0</td>\n",
       "      <td>0</td>\n",
       "      <td>0</td>\n",
       "      <td>0</td>\n",
       "      <td>2299319102</td>\n",
       "      <td>4220791646</td>\n",
       "    </tr>\n",
       "    <tr>\n",
       "      <th>4</th>\n",
       "      <td>2569487005</td>\n",
       "      <td>681762206</td>\n",
       "      <td>580883881</td>\n",
       "      <td>157533148</td>\n",
       "      <td>0</td>\n",
       "      <td>2088887026</td>\n",
       "      <td>0</td>\n",
       "      <td>0</td>\n",
       "      <td>0</td>\n",
       "      <td>0</td>\n",
       "      <td>0</td>\n",
       "      <td>1306075469</td>\n",
       "      <td>4220791646</td>\n",
       "    </tr>\n",
       "  </tbody>\n",
       "</table>\n",
       "</div>"
      ],
      "text/plain": [
       "           C1          C3          C6          C8  N1          C9  N3  N4  N6  \\\n",
       "0  2569487005  4228834423  3624739744  2206061889   0  4287642944   0   0   0   \n",
       "1  3191875643  1238330876   179712055   157533148   1  3272771221   1   0   0   \n",
       "2  2634604934  1928325921  1607619193  3588031319   0  3329757940   0   0   0   \n",
       "3  2569487005   296915027    10212495  3588031319   0  3427046189   0   0   0   \n",
       "4  2569487005   681762206   580883881   157533148   0  2088887026   0   0   0   \n",
       "\n",
       "   N8  N10         C10         C12  \n",
       "0   0    0   419316267  4220791646  \n",
       "1   1    0  1968545380  1213938795  \n",
       "2   0    0  1405802835  1284343215  \n",
       "3   0    0  2299319102  4220791646  \n",
       "4   0    0  1306075469  4220791646  "
      ]
     },
     "execution_count": 55,
     "metadata": {},
     "output_type": "execute_result"
    }
   ],
   "source": [
    "Final_Data.head()"
   ]
  },
  {
   "cell_type": "markdown",
   "metadata": {},
   "source": [
    "### Train Test splitting with SMOTE"
   ]
  },
  {
   "cell_type": "code",
   "execution_count": 56,
   "metadata": {
    "collapsed": true
   },
   "outputs": [],
   "source": [
    "X_trainS, X_testS, y_trainS, y_testS = train_test_split(\n",
    " Final_Data, Y, test_size=0.33, random_state=42)"
   ]
  },
  {
   "cell_type": "code",
   "execution_count": 57,
   "metadata": {
    "collapsed": true
   },
   "outputs": [],
   "source": [
    "from sklearn.metrics import classification_report\n",
    "from sklearn.linear_model import LogisticRegression"
   ]
  },
  {
   "cell_type": "markdown",
   "metadata": {},
   "source": [
    "# Cross Validation"
   ]
  },
  {
   "cell_type": "markdown",
   "metadata": {},
   "source": [
    "### Random Forest on SMOTE "
   ]
  },
  {
   "cell_type": "code",
   "execution_count": 60,
   "metadata": {},
   "outputs": [],
   "source": [
    "from sklearn.model_selection import cross_validate"
   ]
  },
  {
   "cell_type": "code",
   "execution_count": 66,
   "metadata": {
    "collapsed": true
   },
   "outputs": [],
   "source": [
    "best_rfc = RandomForestClassifier(criterion = 'gini', max_features = 'auto', n_estimators = 300) "
   ]
  },
  {
   "cell_type": "code",
   "execution_count": 67,
   "metadata": {},
   "outputs": [],
   "source": [
    "res = cross_validate(best_rfc, X_trainS, y_trainS , return_train_score = True, cv = 5, scoring=[\"f1\"] )"
   ]
  },
  {
   "cell_type": "code",
   "execution_count": 68,
   "metadata": {},
   "outputs": [
    {
     "data": {
      "text/html": [
       "<div>\n",
       "<style scoped>\n",
       "    .dataframe tbody tr th:only-of-type {\n",
       "        vertical-align: middle;\n",
       "    }\n",
       "\n",
       "    .dataframe tbody tr th {\n",
       "        vertical-align: top;\n",
       "    }\n",
       "\n",
       "    .dataframe thead th {\n",
       "        text-align: right;\n",
       "    }\n",
       "</style>\n",
       "<table border=\"1\" class=\"dataframe\">\n",
       "  <thead>\n",
       "    <tr style=\"text-align: right;\">\n",
       "      <th></th>\n",
       "      <th>fit_time</th>\n",
       "      <th>score_time</th>\n",
       "      <th>test_f1</th>\n",
       "      <th>train_f1</th>\n",
       "    </tr>\n",
       "  </thead>\n",
       "  <tbody>\n",
       "    <tr>\n",
       "      <th>0</th>\n",
       "      <td>6.936625</td>\n",
       "      <td>0.196540</td>\n",
       "      <td>0.997335</td>\n",
       "      <td>1.0</td>\n",
       "    </tr>\n",
       "    <tr>\n",
       "      <th>1</th>\n",
       "      <td>7.040402</td>\n",
       "      <td>0.185194</td>\n",
       "      <td>0.997330</td>\n",
       "      <td>1.0</td>\n",
       "    </tr>\n",
       "    <tr>\n",
       "      <th>2</th>\n",
       "      <td>6.877553</td>\n",
       "      <td>0.194564</td>\n",
       "      <td>0.997038</td>\n",
       "      <td>1.0</td>\n",
       "    </tr>\n",
       "    <tr>\n",
       "      <th>3</th>\n",
       "      <td>6.839117</td>\n",
       "      <td>0.198679</td>\n",
       "      <td>0.996148</td>\n",
       "      <td>1.0</td>\n",
       "    </tr>\n",
       "    <tr>\n",
       "      <th>4</th>\n",
       "      <td>6.729044</td>\n",
       "      <td>0.181367</td>\n",
       "      <td>0.996443</td>\n",
       "      <td>1.0</td>\n",
       "    </tr>\n",
       "  </tbody>\n",
       "</table>\n",
       "</div>"
      ],
      "text/plain": [
       "   fit_time  score_time   test_f1  train_f1\n",
       "0  6.936625    0.196540  0.997335       1.0\n",
       "1  7.040402    0.185194  0.997330       1.0\n",
       "2  6.877553    0.194564  0.997038       1.0\n",
       "3  6.839117    0.198679  0.996148       1.0\n",
       "4  6.729044    0.181367  0.996443       1.0"
      ]
     },
     "execution_count": 68,
     "metadata": {},
     "output_type": "execute_result"
    }
   ],
   "source": [
    "res_df=pd.DataFrame(res)\n",
    "res_df"
   ]
  },
  {
   "cell_type": "code",
   "execution_count": 80,
   "metadata": {
    "collapsed": true
   },
   "outputs": [],
   "source": [
    "best_rfc.fit(X_trainS, y_trainS)\n",
    "predictionsRF = best_rfc.predict(X_testS)"
   ]
  },
  {
   "cell_type": "markdown",
   "metadata": {},
   "source": [
    "## XGBOOST"
   ]
  },
  {
   "cell_type": "code",
   "execution_count": 69,
   "metadata": {
    "collapsed": true
   },
   "outputs": [],
   "source": [
    "import xgboost as xgb"
   ]
  },
  {
   "cell_type": "code",
   "execution_count": 71,
   "metadata": {},
   "outputs": [
    {
     "name": "stdout",
     "output_type": "stream",
     "text": [
      "[0]\tvalidation_0-error:0.040306\tvalidation_0-logloss:0.612791\tvalidation_1-error:0.0425\tvalidation_1-logloss:0.613214\n",
      "[1]\tvalidation_0-error:0.040306\tvalidation_0-logloss:0.547087\tvalidation_1-error:0.0425\tvalidation_1-logloss:0.547891\n",
      "[2]\tvalidation_0-error:0.040306\tvalidation_0-logloss:0.492536\tvalidation_1-error:0.0425\tvalidation_1-logloss:0.49369\n",
      "[3]\tvalidation_0-error:0.040306\tvalidation_0-logloss:0.446726\tvalidation_1-error:0.0425\tvalidation_1-logloss:0.448206\n",
      "[4]\tvalidation_0-error:0.040306\tvalidation_0-logloss:0.407194\tvalidation_1-error:0.0425\tvalidation_1-logloss:0.408806\n",
      "[5]\tvalidation_0-error:0.040306\tvalidation_0-logloss:0.373518\tvalidation_1-error:0.0425\tvalidation_1-logloss:0.375426\n",
      "[6]\tvalidation_0-error:0.040306\tvalidation_0-logloss:0.344007\tvalidation_1-error:0.0425\tvalidation_1-logloss:0.346041\n",
      "[7]\tvalidation_0-error:0.040306\tvalidation_0-logloss:0.318675\tvalidation_1-error:0.0425\tvalidation_1-logloss:0.320828\n",
      "[8]\tvalidation_0-error:0.040306\tvalidation_0-logloss:0.296331\tvalidation_1-error:0.0425\tvalidation_1-logloss:0.298752\n",
      "[9]\tvalidation_0-error:0.040306\tvalidation_0-logloss:0.27695\tvalidation_1-error:0.0425\tvalidation_1-logloss:0.279485\n",
      "[10]\tvalidation_0-error:0.040306\tvalidation_0-logloss:0.259785\tvalidation_1-error:0.0425\tvalidation_1-logloss:0.262573\n",
      "[11]\tvalidation_0-error:0.040306\tvalidation_0-logloss:0.244751\tvalidation_1-error:0.0425\tvalidation_1-logloss:0.24757\n",
      "[12]\tvalidation_0-error:0.040306\tvalidation_0-logloss:0.231506\tvalidation_1-error:0.0425\tvalidation_1-logloss:0.234555\n",
      "[13]\tvalidation_0-error:0.040306\tvalidation_0-logloss:0.219653\tvalidation_1-error:0.0425\tvalidation_1-logloss:0.222817\n",
      "[14]\tvalidation_0-error:0.040306\tvalidation_0-logloss:0.20936\tvalidation_1-error:0.0425\tvalidation_1-logloss:0.212634\n",
      "[15]\tvalidation_0-error:0.040306\tvalidation_0-logloss:0.200123\tvalidation_1-error:0.0425\tvalidation_1-logloss:0.20361\n",
      "[16]\tvalidation_0-error:0.040306\tvalidation_0-logloss:0.19203\tvalidation_1-error:0.0425\tvalidation_1-logloss:0.195549\n",
      "[17]\tvalidation_0-error:0.040306\tvalidation_0-logloss:0.184838\tvalidation_1-error:0.0425\tvalidation_1-logloss:0.188553\n",
      "[18]\tvalidation_0-error:0.040306\tvalidation_0-logloss:0.178391\tvalidation_1-error:0.0425\tvalidation_1-logloss:0.182213\n",
      "[19]\tvalidation_0-error:0.040306\tvalidation_0-logloss:0.172778\tvalidation_1-error:0.0425\tvalidation_1-logloss:0.176785\n",
      "[20]\tvalidation_0-error:0.040306\tvalidation_0-logloss:0.167705\tvalidation_1-error:0.0425\tvalidation_1-logloss:0.171812\n",
      "[21]\tvalidation_0-error:0.040306\tvalidation_0-logloss:0.163249\tvalidation_1-error:0.0425\tvalidation_1-logloss:0.167333\n",
      "[22]\tvalidation_0-error:0.040306\tvalidation_0-logloss:0.159308\tvalidation_1-error:0.0425\tvalidation_1-logloss:0.163557\n",
      "[23]\tvalidation_0-error:0.040306\tvalidation_0-logloss:0.155751\tvalidation_1-error:0.0425\tvalidation_1-logloss:0.160097\n",
      "[24]\tvalidation_0-error:0.040306\tvalidation_0-logloss:0.152678\tvalidation_1-error:0.0425\tvalidation_1-logloss:0.156929\n",
      "[25]\tvalidation_0-error:0.040306\tvalidation_0-logloss:0.149903\tvalidation_1-error:0.0425\tvalidation_1-logloss:0.154304\n",
      "[26]\tvalidation_0-error:0.040306\tvalidation_0-logloss:0.147397\tvalidation_1-error:0.0425\tvalidation_1-logloss:0.151888\n",
      "[27]\tvalidation_0-error:0.040306\tvalidation_0-logloss:0.145107\tvalidation_1-error:0.0425\tvalidation_1-logloss:0.149497\n",
      "[28]\tvalidation_0-error:0.040306\tvalidation_0-logloss:0.143033\tvalidation_1-error:0.0425\tvalidation_1-logloss:0.147507\n",
      "[29]\tvalidation_0-error:0.040306\tvalidation_0-logloss:0.141174\tvalidation_1-error:0.0425\tvalidation_1-logloss:0.145553\n",
      "[30]\tvalidation_0-error:0.040306\tvalidation_0-logloss:0.139367\tvalidation_1-error:0.0425\tvalidation_1-logloss:0.143614\n",
      "[31]\tvalidation_0-error:0.040306\tvalidation_0-logloss:0.137767\tvalidation_1-error:0.0425\tvalidation_1-logloss:0.142139\n",
      "[32]\tvalidation_0-error:0.040306\tvalidation_0-logloss:0.136167\tvalidation_1-error:0.0425\tvalidation_1-logloss:0.140394\n",
      "[33]\tvalidation_0-error:0.041325\tvalidation_0-logloss:0.134705\tvalidation_1-error:0.043466\tvalidation_1-logloss:0.138836\n",
      "[34]\tvalidation_0-error:0.041325\tvalidation_0-logloss:0.133379\tvalidation_1-error:0.043466\tvalidation_1-logloss:0.137393\n",
      "[35]\tvalidation_0-error:0.041325\tvalidation_0-logloss:0.132121\tvalidation_1-error:0.043466\tvalidation_1-logloss:0.136006\n",
      "[36]\tvalidation_0-error:0.043466\tvalidation_0-logloss:0.130939\tvalidation_1-error:0.045812\tvalidation_1-logloss:0.134733\n",
      "[37]\tvalidation_0-error:0.042889\tvalidation_0-logloss:0.129768\tvalidation_1-error:0.045053\tvalidation_1-logloss:0.133571\n",
      "[38]\tvalidation_0-error:0.041325\tvalidation_0-logloss:0.128665\tvalidation_1-error:0.043466\tvalidation_1-logloss:0.132579\n",
      "[39]\tvalidation_0-error:0.041529\tvalidation_0-logloss:0.127647\tvalidation_1-error:0.043535\tvalidation_1-logloss:0.131445\n",
      "[40]\tvalidation_0-error:0.041529\tvalidation_0-logloss:0.126641\tvalidation_1-error:0.043535\tvalidation_1-logloss:0.130455\n",
      "[41]\tvalidation_0-error:0.042889\tvalidation_0-logloss:0.125669\tvalidation_1-error:0.045053\tvalidation_1-logloss:0.129404\n",
      "[42]\tvalidation_0-error:0.041529\tvalidation_0-logloss:0.124731\tvalidation_1-error:0.043535\tvalidation_1-logloss:0.128542\n",
      "[43]\tvalidation_0-error:0.042583\tvalidation_0-logloss:0.123851\tvalidation_1-error:0.044708\tvalidation_1-logloss:0.127681\n",
      "[44]\tvalidation_0-error:0.042175\tvalidation_0-logloss:0.123005\tvalidation_1-error:0.044432\tvalidation_1-logloss:0.126787\n",
      "[45]\tvalidation_0-error:0.041597\tvalidation_0-logloss:0.122175\tvalidation_1-error:0.043673\tvalidation_1-logloss:0.12585\n",
      "[46]\tvalidation_0-error:0.041495\tvalidation_0-logloss:0.121367\tvalidation_1-error:0.043466\tvalidation_1-logloss:0.124952\n",
      "[47]\tvalidation_0-error:0.042481\tvalidation_0-logloss:0.120556\tvalidation_1-error:0.044777\tvalidation_1-logloss:0.124052\n",
      "[48]\tvalidation_0-error:0.042685\tvalidation_0-logloss:0.119749\tvalidation_1-error:0.044915\tvalidation_1-logloss:0.123152\n",
      "[49]\tvalidation_0-error:0.042685\tvalidation_0-logloss:0.118988\tvalidation_1-error:0.044915\tvalidation_1-logloss:0.122413\n",
      "[50]\tvalidation_0-error:0.042447\tvalidation_0-logloss:0.11826\tvalidation_1-error:0.04457\tvalidation_1-logloss:0.121684\n",
      "[51]\tvalidation_0-error:0.042379\tvalidation_0-logloss:0.117536\tvalidation_1-error:0.044501\tvalidation_1-logloss:0.120931\n",
      "[52]\tvalidation_0-error:0.042345\tvalidation_0-logloss:0.116826\tvalidation_1-error:0.04457\tvalidation_1-logloss:0.120292\n",
      "[53]\tvalidation_0-error:0.042277\tvalidation_0-logloss:0.116151\tvalidation_1-error:0.044294\tvalidation_1-logloss:0.119531\n",
      "[54]\tvalidation_0-error:0.039082\tvalidation_0-logloss:0.115481\tvalidation_1-error:0.040913\tvalidation_1-logloss:0.118927\n",
      "[55]\tvalidation_0-error:0.042685\tvalidation_0-logloss:0.114806\tvalidation_1-error:0.044846\tvalidation_1-logloss:0.118159\n",
      "[56]\tvalidation_0-error:0.039252\tvalidation_0-logloss:0.114141\tvalidation_1-error:0.041051\tvalidation_1-logloss:0.117518\n",
      "[57]\tvalidation_0-error:0.039422\tvalidation_0-logloss:0.113509\tvalidation_1-error:0.041603\tvalidation_1-logloss:0.116797\n",
      "[58]\tvalidation_0-error:0.039388\tvalidation_0-logloss:0.112896\tvalidation_1-error:0.041672\tvalidation_1-logloss:0.116157\n",
      "[59]\tvalidation_0-error:0.039218\tvalidation_0-logloss:0.112282\tvalidation_1-error:0.041396\tvalidation_1-logloss:0.115544\n",
      "[60]\tvalidation_0-error:0.039218\tvalidation_0-logloss:0.111696\tvalidation_1-error:0.041396\tvalidation_1-logloss:0.115023\n",
      "[61]\tvalidation_0-error:0.039252\tvalidation_0-logloss:0.111118\tvalidation_1-error:0.041396\tvalidation_1-logloss:0.114369\n",
      "[62]\tvalidation_0-error:0.039116\tvalidation_0-logloss:0.110551\tvalidation_1-error:0.041189\tvalidation_1-logloss:0.113829\n",
      "[63]\tvalidation_0-error:0.039184\tvalidation_0-logloss:0.109989\tvalidation_1-error:0.041189\tvalidation_1-logloss:0.113188\n",
      "[64]\tvalidation_0-error:0.039218\tvalidation_0-logloss:0.109417\tvalidation_1-error:0.041396\tvalidation_1-logloss:0.112642\n",
      "[65]\tvalidation_0-error:0.039252\tvalidation_0-logloss:0.108892\tvalidation_1-error:0.041396\tvalidation_1-logloss:0.112091\n",
      "[66]\tvalidation_0-error:0.039082\tvalidation_0-logloss:0.108379\tvalidation_1-error:0.041327\tvalidation_1-logloss:0.11158\n",
      "[67]\tvalidation_0-error:0.039116\tvalidation_0-logloss:0.107883\tvalidation_1-error:0.041327\tvalidation_1-logloss:0.111031\n",
      "[68]\tvalidation_0-error:0.039116\tvalidation_0-logloss:0.107377\tvalidation_1-error:0.041051\tvalidation_1-logloss:0.110436\n"
     ]
    },
    {
     "name": "stdout",
     "output_type": "stream",
     "text": [
      "[69]\tvalidation_0-error:0.039048\tvalidation_0-logloss:0.106879\tvalidation_1-error:0.040982\tvalidation_1-logloss:0.109965\n",
      "[70]\tvalidation_0-error:0.038811\tvalidation_0-logloss:0.106395\tvalidation_1-error:0.040844\tvalidation_1-logloss:0.109412\n",
      "[71]\tvalidation_0-error:0.038811\tvalidation_0-logloss:0.105925\tvalidation_1-error:0.040775\tvalidation_1-logloss:0.108868\n",
      "[72]\tvalidation_0-error:0.038777\tvalidation_0-logloss:0.10545\tvalidation_1-error:0.040775\tvalidation_1-logloss:0.108451\n",
      "[73]\tvalidation_0-error:0.038845\tvalidation_0-logloss:0.104996\tvalidation_1-error:0.040707\tvalidation_1-logloss:0.10799\n",
      "[74]\tvalidation_0-error:0.038777\tvalidation_0-logloss:0.104538\tvalidation_1-error:0.040707\tvalidation_1-logloss:0.107507\n",
      "[75]\tvalidation_0-error:0.033169\tvalidation_0-logloss:0.104099\tvalidation_1-error:0.033393\tvalidation_1-logloss:0.107021\n",
      "[76]\tvalidation_0-error:0.032931\tvalidation_0-logloss:0.103679\tvalidation_1-error:0.033255\tvalidation_1-logloss:0.106636\n",
      "[77]\tvalidation_0-error:0.032795\tvalidation_0-logloss:0.103259\tvalidation_1-error:0.033393\tvalidation_1-logloss:0.106219\n",
      "[78]\tvalidation_0-error:0.032761\tvalidation_0-logloss:0.102841\tvalidation_1-error:0.033393\tvalidation_1-logloss:0.10583\n",
      "[79]\tvalidation_0-error:0.032625\tvalidation_0-logloss:0.102426\tvalidation_1-error:0.033255\tvalidation_1-logloss:0.105506\n",
      "[80]\tvalidation_0-error:0.032761\tvalidation_0-logloss:0.101994\tvalidation_1-error:0.033393\tvalidation_1-logloss:0.104998\n",
      "[81]\tvalidation_0-error:0.031742\tvalidation_0-logloss:0.101574\tvalidation_1-error:0.03222\tvalidation_1-logloss:0.104509\n",
      "[82]\tvalidation_0-error:0.032116\tvalidation_0-logloss:0.101175\tvalidation_1-error:0.032427\tvalidation_1-logloss:0.104124\n",
      "[83]\tvalidation_0-error:0.031198\tvalidation_0-logloss:0.100762\tvalidation_1-error:0.031599\tvalidation_1-logloss:0.103726\n",
      "[84]\tvalidation_0-error:0.031844\tvalidation_0-logloss:0.100361\tvalidation_1-error:0.032151\tvalidation_1-logloss:0.103379\n",
      "[85]\tvalidation_0-error:0.031096\tvalidation_0-logloss:0.099965\tvalidation_1-error:0.031461\tvalidation_1-logloss:0.102942\n",
      "[86]\tvalidation_0-error:0.03079\tvalidation_0-logloss:0.099576\tvalidation_1-error:0.031392\tvalidation_1-logloss:0.102471\n",
      "[87]\tvalidation_0-error:0.031096\tvalidation_0-logloss:0.099193\tvalidation_1-error:0.031668\tvalidation_1-logloss:0.102112\n",
      "[88]\tvalidation_0-error:0.031062\tvalidation_0-logloss:0.098812\tvalidation_1-error:0.031806\tvalidation_1-logloss:0.101668\n",
      "[89]\tvalidation_0-error:0.031164\tvalidation_0-logloss:0.098432\tvalidation_1-error:0.031944\tvalidation_1-logloss:0.101264\n",
      "[90]\tvalidation_0-error:0.031096\tvalidation_0-logloss:0.09805\tvalidation_1-error:0.031875\tvalidation_1-logloss:0.100878\n",
      "[91]\tvalidation_0-error:0.030892\tvalidation_0-logloss:0.097686\tvalidation_1-error:0.031737\tvalidation_1-logloss:0.100542\n",
      "[92]\tvalidation_0-error:0.030756\tvalidation_0-logloss:0.097325\tvalidation_1-error:0.031599\tvalidation_1-logloss:0.100264\n",
      "[93]\tvalidation_0-error:0.030994\tvalidation_0-logloss:0.096965\tvalidation_1-error:0.031737\tvalidation_1-logloss:0.099835\n",
      "[94]\tvalidation_0-error:0.030892\tvalidation_0-logloss:0.096608\tvalidation_1-error:0.031461\tvalidation_1-logloss:0.099415\n",
      "[95]\tvalidation_0-error:0.030892\tvalidation_0-logloss:0.096249\tvalidation_1-error:0.031668\tvalidation_1-logloss:0.099108\n",
      "[96]\tvalidation_0-error:0.030722\tvalidation_0-logloss:0.095886\tvalidation_1-error:0.031599\tvalidation_1-logloss:0.098757\n",
      "[97]\tvalidation_0-error:0.030518\tvalidation_0-logloss:0.09554\tvalidation_1-error:0.030909\tvalidation_1-logloss:0.098494\n",
      "[98]\tvalidation_0-error:0.030246\tvalidation_0-logloss:0.095196\tvalidation_1-error:0.030771\tvalidation_1-logloss:0.098177\n",
      "[99]\tvalidation_0-error:0.030416\tvalidation_0-logloss:0.094855\tvalidation_1-error:0.03084\tvalidation_1-logloss:0.097794\n"
     ]
    }
   ],
   "source": [
    "model = xgb.XGBClassifier(max_depth=1)\n",
    "eval_set = [(X_trainS, y_trainS), (X_testS, y_testS)]\n",
    "model.fit(X_trainS, y_trainS, eval_metric=[\"error\", \"logloss\"], eval_set=eval_set, verbose=True)\n",
    "predictionsXG = model.predict(X_testS)"
   ]
  },
  {
   "cell_type": "markdown",
   "metadata": {},
   "source": [
    "# Logistic Regression"
   ]
  },
  {
   "cell_type": "code",
   "execution_count": 74,
   "metadata": {},
   "outputs": [],
   "source": [
    "logmodel=LogisticRegression()\n",
    "logmodel.fit(X_trainS,y_trainS)\n",
    "predictionsLR = logmodel.predict(X_testS)"
   ]
  },
  {
   "cell_type": "markdown",
   "metadata": {},
   "source": [
    "# Prediction and Classifications"
   ]
  },
  {
   "cell_type": "markdown",
   "metadata": {},
   "source": [
    "Next step is to compare the performance of our models RandomForest, Logistic Regression and XGBOOST"
   ]
  },
  {
   "cell_type": "code",
   "execution_count": 79,
   "metadata": {
    "collapsed": true
   },
   "outputs": [],
   "source": [
    "from sklearn.metrics import classification_report,accuracy_score\n",
    "from sklearn.ensemble import GradientBoostingClassifier\n",
    "from sklearn.metrics import plot_roc_curve"
   ]
  },
  {
   "cell_type": "code",
   "execution_count": 91,
   "metadata": {},
   "outputs": [
    {
     "name": "stdout",
     "output_type": "stream",
     "text": [
      "Evaluation of Optimised Random Forest\n",
      "\n",
      "\n",
      "              precision    recall  f1-score   support\n",
      "\n",
      "          -1       1.00      1.00      1.00     10374\n",
      "           1       1.00      1.00      1.00      4120\n",
      "\n",
      "    accuracy                           1.00     14494\n",
      "   macro avg       1.00      1.00      1.00     14494\n",
      "weighted avg       1.00      1.00      1.00     14494\n",
      "\n"
     ]
    }
   ],
   "source": [
    "print(\"Evaluation of Optimised Random Forest\")\n",
    "print(\"\\n\")\n",
    "print(classification_report(y_testS,predictionsRF))\n",
    "\n",
    "# Too high values to seem normal. Could be Overfitted"
   ]
  },
  {
   "cell_type": "code",
   "execution_count": 92,
   "metadata": {},
   "outputs": [
    {
     "name": "stdout",
     "output_type": "stream",
     "text": [
      "Evaluation of XGBoost\n",
      "\n",
      "\n",
      "              precision    recall  f1-score   support\n",
      "\n",
      "          -1       0.97      0.99      0.98     10374\n",
      "           1       0.97      0.92      0.94      4120\n",
      "\n",
      "    accuracy                           0.97     14494\n",
      "   macro avg       0.97      0.95      0.96     14494\n",
      "weighted avg       0.97      0.97      0.97     14494\n",
      "\n"
     ]
    }
   ],
   "source": [
    "print(\"Evaluation of XGBoost\")\n",
    "print(\"\\n\")\n",
    "print(classification_report(y_testS,predictionsXG))\n",
    "# only 1 observation wrongly classified"
   ]
  },
  {
   "cell_type": "code",
   "execution_count": 94,
   "metadata": {},
   "outputs": [
    {
     "name": "stdout",
     "output_type": "stream",
     "text": [
      "Evaluation of Logistic Regression\n",
      "\n",
      "\n",
      "              precision    recall  f1-score   support\n",
      "\n",
      "          -1       0.79      0.89      0.83     10374\n",
      "           1       0.58      0.40      0.48      4120\n",
      "\n",
      "    accuracy                           0.75     14494\n",
      "   macro avg       0.69      0.64      0.66     14494\n",
      "weighted avg       0.73      0.75      0.73     14494\n",
      "\n"
     ]
    }
   ],
   "source": [
    "print(\"Evaluation of Logistic Regression\")\n",
    "print(\"\\n\")\n",
    "print(classification_report(y_testS,predictionsLR))"
   ]
  },
  {
   "cell_type": "code",
   "execution_count": 95,
   "metadata": {},
   "outputs": [
    {
     "data": {
      "image/png": "[encoded data removed]",
      "text/plain": [
       "<Figure size 432x288 with 1 Axes>"
      ]
     },
     "metadata": {},
     "output_type": "display_data"
    }
   ],
   "source": [
    "ax = plt.gca()\n",
    "rf_roc = plot_roc_curve(best_rfc, X_testS, y_testS,ax=ax, alpha=0.8)\n",
    "lr_roc = plot_roc_curve(logmodel, X_testS, y_testS,ax=ax, alpha=0.8)\n",
    "xg_roc = plot_roc_curve(model, X_testS, y_testS,ax=ax, alpha=0.8)\n",
    "plt.show()\n",
    "\n",
    "# We see the decision tree-based models are more accurate"
   ]
  },
  {
   "cell_type": "markdown",
   "metadata": {},
   "source": [
    "After this excersise, we can see that optimising the parameters and selection yields results. The random forest is close to perfectrion (even with cross validation as we showed previously). XGBoost is almost as powerful, because it's can be interpreted as an version of Random Forest that \"already optimises\" it'\n",
    "s features. "
   ]
  },
  {
   "cell_type": "markdown",
   "metadata": {},
   "source": [
    "# Final Fitting"
   ]
  },
  {
   "cell_type": "code",
   "execution_count": 96,
   "metadata": {
    "collapsed": true
   },
   "outputs": [],
   "source": [
    "test=pd.read_csv('test1Final.csv')"
   ]
  },
  {
   "cell_type": "code",
   "execution_count": 98,
   "metadata": {},
   "outputs": [],
   "source": [
    "X=test.loc[:,features]\n",
    "y=test['label']"
   ]
  },
  {
   "cell_type": "code",
   "execution_count": 290,
   "metadata": {
    "collapsed": true
   },
   "outputs": [],
   "source": [
    "Y_pred = best_rfc.predict_proba(X)\n",
    "Ypred = pd.DataFrame(Y_pred)\n",
    "test1 = test.id"
   ]
  },
  {
   "cell_type": "code",
   "execution_count": 296,
   "metadata": {
    "collapsed": true
   },
   "outputs": [],
   "source": [
    "Final_Pred = pd.concat([test1.reset_index(drop=True), Ypred.iloc[:,1].reset_index(drop=True)], axis=1)"
   ]
  },
  {
   "cell_type": "code",
   "execution_count": 298,
   "metadata": {
    "collapsed": true
   },
   "outputs": [],
   "source": [
    "Final_Pred.to_csv('/Users/JohanLg/Documents/My Documents/ESCP/Kurser/Vår/Python/Assignment_23_e197443.csv')"
   ]
  },
  {
   "cell_type": "code",
   "execution_count": null,
   "metadata": {
    "collapsed": true
   },
   "outputs": [],
   "source": []
  }
 ],
 "metadata": {
  "kernelspec": {
   "display_name": "Python 3",
   "language": "python",
   "name": "python3"
  },
  "language_info": {
   "codemirror_mode": {
    "name": "ipython",
    "version": 3
   },
   "file_extension": ".py",
   "mimetype": "text/x-python",
   "name": "python",
   "nbconvert_exporter": "python",
   "pygments_lexer": "ipython3",
   "version": "3.6.2"
  }
 },
 "nbformat": 4,
 "nbformat_minor": 2
}
