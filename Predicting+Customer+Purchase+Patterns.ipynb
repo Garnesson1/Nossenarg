{
 "cells": [
  {
   "cell_type": "markdown",
   "metadata": {},
   "source": [
    "# Prediction of Purchase Patterns\n",
    "\n",
    "We have been tasked to predict whether a certain customer entering a store\n",
    "will end up making a purchase or not. The data has anonymized features of categorical and numeric nature. Let's find out if we can make sense of this!"
   ]
  },
  {
   "cell_type": "code",
   "execution_count": 1,
   "metadata": {
    "collapsed": true
   },
   "outputs": [],
   "source": [
    "# Import some basic python libraries\n",
    "\n",
    "import pandas as pd\n",
    "import numpy as np\n",
    "from sklearn.model_selection import train_test_split\n",
    "from sklearn import preprocessing\n",
    "import collections\n",
    "from sklearn.model_selection import train_test_split\n",
    "from sklearn.metrics import confusion_matrix\n",
    "import matplotlib.pyplot as plt"
   ]
  },
  {
   "cell_type": "code",
   "execution_count": 2,
   "metadata": {},
   "outputs": [
    {
     "data": {
      "text/plain": [
       "'/Users/JohanLg/Downloads'"
      ]
     },
     "execution_count": 2,
     "metadata": {},
     "output_type": "execute_result"
    }
   ],
   "source": [
    "import os\n",
    "os.getcwd()"
   ]
  },
  {
   "cell_type": "code",
   "execution_count": 3,
   "metadata": {
    "collapsed": true
   },
   "outputs": [],
   "source": [
    "os.chdir('---')"
   ]
  },
  {
   "cell_type": "code",
   "execution_count": 4,
   "metadata": {
    "collapsed": true
   },
   "outputs": [],
   "source": [
    "data = pd.read_csv('train (2).csv')"
   ]
  },
  {
   "cell_type": "code",
   "execution_count": 5,
   "metadata": {},
   "outputs": [
    {
     "name": "stdout",
     "output_type": "stream",
     "text": [
      "(31428, 27)\n"
     ]
    }
   ],
   "source": [
    "print(data.shape)"
   ]
  },
  {
   "cell_type": "code",
   "execution_count": 6,
   "metadata": {},
   "outputs": [
    {
     "data": {
      "text/html": [
       "<div>\n",
       "<style scoped>\n",
       "    .dataframe tbody tr th:only-of-type {\n",
       "        vertical-align: middle;\n",
       "    }\n",
       "\n",
       "    .dataframe tbody tr th {\n",
       "        vertical-align: top;\n",
       "    }\n",
       "\n",
       "    .dataframe thead th {\n",
       "        text-align: right;\n",
       "    }\n",
       "</style>\n",
       "<table border=\"1\" class=\"dataframe\">\n",
       "  <thead>\n",
       "    <tr style=\"text-align: right;\">\n",
       "      <th></th>\n",
       "      <th>label</th>\n",
       "      <th>id</th>\n",
       "      <th>visitTime</th>\n",
       "      <th>purchaseTime</th>\n",
       "      <th>hour</th>\n",
       "      <th>C1</th>\n",
       "      <th>C2</th>\n",
       "      <th>C3</th>\n",
       "      <th>C4</th>\n",
       "      <th>C5</th>\n",
       "      <th>...</th>\n",
       "      <th>N4</th>\n",
       "      <th>N5</th>\n",
       "      <th>N6</th>\n",
       "      <th>N7</th>\n",
       "      <th>N8</th>\n",
       "      <th>N9</th>\n",
       "      <th>N10</th>\n",
       "      <th>C10</th>\n",
       "      <th>C11</th>\n",
       "      <th>C12</th>\n",
       "    </tr>\n",
       "  </thead>\n",
       "  <tbody>\n",
       "    <tr>\n",
       "      <th>0</th>\n",
       "      <td>-1</td>\n",
       "      <td>37</td>\n",
       "      <td>19274330</td>\n",
       "      <td>-1</td>\n",
       "      <td>0</td>\n",
       "      <td>2569487005</td>\n",
       "      <td>1830830742</td>\n",
       "      <td>4228834423</td>\n",
       "      <td>652481754</td>\n",
       "      <td>2967512603</td>\n",
       "      <td>...</td>\n",
       "      <td>0</td>\n",
       "      <td>0</td>\n",
       "      <td>0</td>\n",
       "      <td>0</td>\n",
       "      <td>0</td>\n",
       "      <td>0</td>\n",
       "      <td>0</td>\n",
       "      <td>419316267</td>\n",
       "      <td>3617851689</td>\n",
       "      <td>4220791646</td>\n",
       "    </tr>\n",
       "    <tr>\n",
       "      <th>1</th>\n",
       "      <td>-1</td>\n",
       "      <td>55</td>\n",
       "      <td>19274334</td>\n",
       "      <td>-1</td>\n",
       "      <td>0</td>\n",
       "      <td>3191875643</td>\n",
       "      <td>403381353</td>\n",
       "      <td>1238330876</td>\n",
       "      <td>652481754</td>\n",
       "      <td>2967512603</td>\n",
       "      <td>...</td>\n",
       "      <td>0</td>\n",
       "      <td>0</td>\n",
       "      <td>0</td>\n",
       "      <td>0</td>\n",
       "      <td>1</td>\n",
       "      <td>0</td>\n",
       "      <td>0</td>\n",
       "      <td>1968545380</td>\n",
       "      <td>3831440054</td>\n",
       "      <td>1213938795</td>\n",
       "    </tr>\n",
       "    <tr>\n",
       "      <th>2</th>\n",
       "      <td>-1</td>\n",
       "      <td>114</td>\n",
       "      <td>19274353</td>\n",
       "      <td>-1</td>\n",
       "      <td>0</td>\n",
       "      <td>2634604934</td>\n",
       "      <td>403381353</td>\n",
       "      <td>1928325921</td>\n",
       "      <td>652481754</td>\n",
       "      <td>2967512603</td>\n",
       "      <td>...</td>\n",
       "      <td>0</td>\n",
       "      <td>0</td>\n",
       "      <td>0</td>\n",
       "      <td>0</td>\n",
       "      <td>0</td>\n",
       "      <td>0</td>\n",
       "      <td>0</td>\n",
       "      <td>1405802835</td>\n",
       "      <td>2379633508</td>\n",
       "      <td>1284343215</td>\n",
       "    </tr>\n",
       "    <tr>\n",
       "      <th>3</th>\n",
       "      <td>-1</td>\n",
       "      <td>128</td>\n",
       "      <td>19274358</td>\n",
       "      <td>-1</td>\n",
       "      <td>0</td>\n",
       "      <td>2569487005</td>\n",
       "      <td>403381353</td>\n",
       "      <td>296915027</td>\n",
       "      <td>652481754</td>\n",
       "      <td>2967512603</td>\n",
       "      <td>...</td>\n",
       "      <td>0</td>\n",
       "      <td>0</td>\n",
       "      <td>0</td>\n",
       "      <td>0</td>\n",
       "      <td>0</td>\n",
       "      <td>0</td>\n",
       "      <td>0</td>\n",
       "      <td>2299319102</td>\n",
       "      <td>3617851689</td>\n",
       "      <td>4220791646</td>\n",
       "    </tr>\n",
       "    <tr>\n",
       "      <th>4</th>\n",
       "      <td>-1</td>\n",
       "      <td>164</td>\n",
       "      <td>19274367</td>\n",
       "      <td>-1</td>\n",
       "      <td>0</td>\n",
       "      <td>2569487005</td>\n",
       "      <td>403381353</td>\n",
       "      <td>681762206</td>\n",
       "      <td>652481754</td>\n",
       "      <td>2967512603</td>\n",
       "      <td>...</td>\n",
       "      <td>0</td>\n",
       "      <td>0</td>\n",
       "      <td>0</td>\n",
       "      <td>0</td>\n",
       "      <td>0</td>\n",
       "      <td>0</td>\n",
       "      <td>0</td>\n",
       "      <td>1306075469</td>\n",
       "      <td>3617851689</td>\n",
       "      <td>4220791646</td>\n",
       "    </tr>\n",
       "    <tr>\n",
       "      <th>5</th>\n",
       "      <td>-1</td>\n",
       "      <td>187</td>\n",
       "      <td>19274374</td>\n",
       "      <td>-1</td>\n",
       "      <td>0</td>\n",
       "      <td>3302106226</td>\n",
       "      <td>403381353</td>\n",
       "      <td>1928325921</td>\n",
       "      <td>652481754</td>\n",
       "      <td>2967512603</td>\n",
       "      <td>...</td>\n",
       "      <td>0</td>\n",
       "      <td>0</td>\n",
       "      <td>0</td>\n",
       "      <td>0</td>\n",
       "      <td>0</td>\n",
       "      <td>0</td>\n",
       "      <td>0</td>\n",
       "      <td>3182036626</td>\n",
       "      <td>2379633508</td>\n",
       "      <td>1284343215</td>\n",
       "    </tr>\n",
       "  </tbody>\n",
       "</table>\n",
       "<p>6 rows × 27 columns</p>\n",
       "</div>"
      ],
      "text/plain": [
       "   label   id  visitTime  purchaseTime  hour          C1          C2  \\\n",
       "0     -1   37   19274330            -1     0  2569487005  1830830742   \n",
       "1     -1   55   19274334            -1     0  3191875643   403381353   \n",
       "2     -1  114   19274353            -1     0  2634604934   403381353   \n",
       "3     -1  128   19274358            -1     0  2569487005   403381353   \n",
       "4     -1  164   19274367            -1     0  2569487005   403381353   \n",
       "5     -1  187   19274374            -1     0  3302106226   403381353   \n",
       "\n",
       "           C3         C4          C5  ...  N4  N5  N6  N7  N8  N9  N10  \\\n",
       "0  4228834423  652481754  2967512603  ...   0   0   0   0   0   0    0   \n",
       "1  1238330876  652481754  2967512603  ...   0   0   0   0   1   0    0   \n",
       "2  1928325921  652481754  2967512603  ...   0   0   0   0   0   0    0   \n",
       "3   296915027  652481754  2967512603  ...   0   0   0   0   0   0    0   \n",
       "4   681762206  652481754  2967512603  ...   0   0   0   0   0   0    0   \n",
       "5  1928325921  652481754  2967512603  ...   0   0   0   0   0   0    0   \n",
       "\n",
       "          C10         C11         C12  \n",
       "0   419316267  3617851689  4220791646  \n",
       "1  1968545380  3831440054  1213938795  \n",
       "2  1405802835  2379633508  1284343215  \n",
       "3  2299319102  3617851689  4220791646  \n",
       "4  1306075469  3617851689  4220791646  \n",
       "5  3182036626  2379633508  1284343215  \n",
       "\n",
       "[6 rows x 27 columns]"
      ]
     },
     "execution_count": 6,
     "metadata": {},
     "output_type": "execute_result"
    }
   ],
   "source": [
    "# Let's have a quick glance at the data\n",
    "\n",
    "data.head(6)\n",
    "\n",
    "# We know that label is our dependant variable, where -1 indicates no purchase\n",
    "# and 1 the opposite. \n"
   ]
  },
  {
   "cell_type": "markdown",
   "metadata": {},
   "source": [
    "From here, there are multiple aspects i'd like to dig deeper into. These steps can be broken down into\n",
    "\n",
    "    - 1.Data Preprocessing:\n",
    "    \n",
    "        1. Are there missing values in the data? Might this affect            my results?\n",
    "        2. How is the distribution of my numeric variables? Do they            have outliers? \n",
    "        3. Is the 'label'-class, our dependant variable, balanced?            If not, which\n",
    "           sampling-technique should I use?\n",
    "           \n",
    "    - 2.Feature Selection:\n",
    "    \n",
    "        1. Which variables seem to drive 'label'? Can I think of              any varibles\n",
    "           that are missing to avoid omitted-variable bias?\n",
    "        2. How are the variables correlated? Can I drop some                  varibles to avoid\n",
    "           multi-collinearity?\n"
   ]
  },
  {
   "cell_type": "markdown",
   "metadata": {},
   "source": [
    "# Data Preprocessing"
   ]
  },
  {
   "cell_type": "markdown",
   "metadata": {},
   "source": [
    "## 1.1 Missing Values"
   ]
  },
  {
   "cell_type": "code",
   "execution_count": 7,
   "metadata": {},
   "outputs": [
    {
     "data": {
      "text/plain": [
       "label           0.0\n",
       "id              0.0\n",
       "visitTime       0.0\n",
       "purchaseTime    0.0\n",
       "hour            0.0\n",
       "C1              0.0\n",
       "C2              0.0\n",
       "C3              0.0\n",
       "C4              0.0\n",
       "C5              0.0\n",
       "C6              0.0\n",
       "C7              0.0\n",
       "C8              0.0\n",
       "N1              0.0\n",
       "C9              0.0\n",
       "N2              0.0\n",
       "N3              0.0\n",
       "N4              0.0\n",
       "N5              0.0\n",
       "N6              0.0\n",
       "N7              0.0\n",
       "N8              0.0\n",
       "N9              0.0\n",
       "N10             0.0\n",
       "C10             0.0\n",
       "C11             0.0\n",
       "C12             0.0\n",
       "dtype: float64"
      ]
     },
     "execution_count": 7,
     "metadata": {},
     "output_type": "execute_result"
    }
   ],
   "source": [
    "null = data.isnull()\n",
    "null.sum()/len(data)\n",
    "\n",
    "#No missing Values. Great!"
   ]
  },
  {
   "cell_type": "markdown",
   "metadata": {},
   "source": [
    "## 1.2 Distributions"
   ]
  },
  {
   "cell_type": "code",
   "execution_count": 8,
   "metadata": {},
   "outputs": [
    {
     "name": "stdout",
     "output_type": "stream",
     "text": [
      "    Var 1     \n",
      "403381353     11098\n",
      "1235983246     6173\n",
      "2018710401     5397\n",
      "2541203883     3860\n",
      "1830830742     3625\n",
      "1258965892      635\n",
      "2517724481      635\n",
      "2201746798        5\n",
      "Name: C2, dtype: int64\n",
      "    Var 2     \n",
      "1928325921    1232\n",
      "3475347077    1212\n",
      "2780744710    1179\n",
      "1711803242     936\n",
      "1822656032     536\n",
      "              ... \n",
      "3540895230       1\n",
      "2756181513       1\n",
      "3550862535       1\n",
      "1199484467       1\n",
      "1533319149       1\n",
      "Name: C3, Length: 2863, dtype: int64\n",
      "    Var 3     \n",
      "652481754     20951\n",
      "2308170622     6081\n",
      "306394936      2844\n",
      "2210625817     1552\n",
      "Name: C4, dtype: int64\n",
      "    Var 4     \n",
      "2967512603    23045\n",
      "2116767313     8364\n",
      "3955179140       19\n",
      "Name: C5, dtype: int64\n",
      "    Var 5     \n",
      "571765677     5194\n",
      "2712499304    3835\n",
      "4003458018    1886\n",
      "85977907      1715\n",
      "152923169     1092\n",
      "              ... \n",
      "3390967276      13\n",
      "3912268313      12\n",
      "2116604436       9\n",
      "2762466016       9\n",
      "4088755483       7\n",
      "Name: C6, Length: 84, dtype: int64\n",
      "    Var 6     \n",
      "2303407174    24113\n",
      "1342367140     4123\n",
      "2411180110     1420\n",
      "730319316       940\n",
      "3649211661      764\n",
      "549342611        68\n",
      "Name: C7, dtype: int64\n",
      "    Var 7     \n",
      "2374954832    8364\n",
      "157533148     7296\n",
      "2206061889    5809\n",
      "3588031319    5696\n",
      "1804593680    1654\n",
      "434828410      998\n",
      "3999167221     587\n",
      "946099003      369\n",
      "1847029215     147\n",
      "1031653231     116\n",
      "3679482644      77\n",
      "682892729       76\n",
      "1604070580      58\n",
      "1717161695      48\n",
      "1355017680      33\n",
      "3858319324      28\n",
      "3389730139      19\n",
      "4080139522      14\n",
      "1339860380      13\n",
      "4143494761      12\n",
      "3703234237       7\n",
      "912640200        6\n",
      "2166564686       1\n",
      "Name: C8, dtype: int64\n",
      "    Var 8     \n",
      "2226682598    5194\n",
      "4287642944    4854\n",
      "385980380     3835\n",
      "1421481761    1886\n",
      "3329757940    1250\n",
      "387474876     1136\n",
      "2698786965    1069\n",
      "564075893      868\n",
      "2088887026     753\n",
      "1292559885     750\n",
      "1690004026     701\n",
      "3179660634     669\n",
      "3201792078     566\n",
      "3828882129     554\n",
      "3863488499     551\n",
      "1109321325     462\n",
      "3023418412     396\n",
      "1097313503     387\n",
      "2711086415     375\n",
      "4054959403     316\n",
      "3623356211     273\n",
      "3114503497     252\n",
      "2447802683     241\n",
      "399159304      225\n",
      "477276257      221\n",
      "3598157468     203\n",
      "659463149      193\n",
      "114495992      186\n",
      "1266140471     185\n",
      "3427046189     172\n",
      "2013640318     165\n",
      "681031001      162\n",
      "3447573537     151\n",
      "3208948300     149\n",
      "759851699      141\n",
      "3738539033     138\n",
      "3790028721     136\n",
      "1314204074     134\n",
      "986337892      133\n",
      "3898085784     131\n",
      "833114062      127\n",
      "3595738046     119\n",
      "14692648       116\n",
      "1681548983     105\n",
      "2511982975     100\n",
      "561243158       82\n",
      "138171148       76\n",
      "3878556116      72\n",
      "2998031433      68\n",
      "3597794575      62\n",
      "3911032568      58\n",
      "2505381470      53\n",
      "1627260059      47\n",
      "3272771221      44\n",
      "481692728       44\n",
      "999411610       42\n",
      "2598915713      25\n",
      "2286807896       9\n",
      "3310009198       9\n",
      "3311238116       7\n",
      "Name: C9, dtype: int64\n",
      "    Var 9     \n",
      "3469607743    1425\n",
      "3458698981      82\n",
      "3183725626      73\n",
      "1133005353      71\n",
      "3662869197      68\n",
      "              ... \n",
      "843115400        1\n",
      "762569609        1\n",
      "4142922634       1\n",
      "830608273        1\n",
      "487200771        1\n",
      "Name: C10, Length: 28653, dtype: int64\n",
      "    Var 10     \n",
      "3831440054    8848\n",
      "3617851689    8507\n",
      "2379633508    6822\n",
      "2196958187    3430\n",
      "621902171     3118\n",
      "3536580284     441\n",
      "3124632437      87\n",
      "535829057       48\n",
      "58779779        44\n",
      "2269823002      24\n",
      "1587132551      21\n",
      "891005277       14\n",
      "102858183        7\n",
      "1973513386       5\n",
      "500889696        3\n",
      "3255297627       3\n",
      "2677481500       2\n",
      "43937015         1\n",
      "943284263        1\n",
      "1706983378       1\n",
      "2268989536       1\n",
      "Name: C11, dtype: int64\n",
      "    Var 11     \n",
      "4220791646    8507\n",
      "1284343215    8037\n",
      "1213938795    6365\n",
      "830706566     4195\n",
      "3706004275    1382\n",
      "1550397227     786\n",
      "245608391      674\n",
      "2548980304     487\n",
      "1889667519     442\n",
      "4176504756     205\n",
      "1213814022     113\n",
      "3828748840     102\n",
      "3818978634      87\n",
      "3057379815      25\n",
      "800077115       10\n",
      "1269781439       5\n",
      "3091742607       3\n",
      "3960527089       2\n",
      "2971647412       1\n",
      "Name: C12, dtype: int64\n"
     ]
    }
   ],
   "source": [
    "# Lets run a for-loop to plot out our categorical and numeric variables\n",
    "\n",
    "Categorical_Var = data.iloc[:,data.columns.str.startswith('C')] \n",
    "\n",
    "for i in range(1,len(Categorical_Var.columns)):\n",
    "    Cat_Counts = Categorical_Var.iloc[:,i].value_counts()\n",
    "    print (\"    Var %s     \" % i)\n",
    "    print(Cat_Counts)"
   ]
  },
  {
   "cell_type": "code",
   "execution_count": 9,
   "metadata": {},
   "outputs": [
    {
     "name": "stdout",
     "output_type": "stream",
     "text": [
      " Var 0  \n",
      "0    24705\n",
      "1     2688\n",
      "4     2055\n",
      "2     1094\n",
      "3      735\n",
      "5      151\n",
      "Name: N1, dtype: int64\n",
      " Var 1  \n",
      "0     28370\n",
      "1      1019\n",
      "2       426\n",
      "10      272\n",
      "5       240\n",
      "9       223\n",
      "3       200\n",
      "4       163\n",
      "6       162\n",
      "8       119\n",
      "7       118\n",
      "11       59\n",
      "12       27\n",
      "13       13\n",
      "14       10\n",
      "15        7\n",
      "Name: N2, dtype: int64\n",
      " Var 2  \n",
      "0     30032\n",
      "1       637\n",
      "2       230\n",
      "3       136\n",
      "4        71\n",
      "20       59\n",
      "5        58\n",
      "6        39\n",
      "8        31\n",
      "7        22\n",
      "9        19\n",
      "10       16\n",
      "11       14\n",
      "16       11\n",
      "14       10\n",
      "13       10\n",
      "12        9\n",
      "15        9\n",
      "18        8\n",
      "17        4\n",
      "19        3\n",
      "Name: N3, dtype: int64\n",
      " Var 3  \n",
      "0     30633\n",
      "1       259\n",
      "2       137\n",
      "3        85\n",
      "20       68\n",
      "4        48\n",
      "6        31\n",
      "5        30\n",
      "10       18\n",
      "7        17\n",
      "8        17\n",
      "13       16\n",
      "9        15\n",
      "11       13\n",
      "12       10\n",
      "14        9\n",
      "17        7\n",
      "19        6\n",
      "15        5\n",
      "18        3\n",
      "16        1\n",
      "Name: N4, dtype: int64\n",
      " Var 4  \n",
      "0     31399\n",
      "1        23\n",
      "2         2\n",
      "15        1\n",
      "10        1\n",
      "20        1\n",
      "3         1\n",
      "Name: N5, dtype: int64\n",
      " Var 5  \n",
      "0     31272\n",
      "1        48\n",
      "2        18\n",
      "3        18\n",
      "4        15\n",
      "20       13\n",
      "5         9\n",
      "9         7\n",
      "6         6\n",
      "7         4\n",
      "8         3\n",
      "11        3\n",
      "10        2\n",
      "12        2\n",
      "17        2\n",
      "16        2\n",
      "14        1\n",
      "18        1\n",
      "13        1\n",
      "15        1\n",
      "Name: N6, dtype: int64\n",
      " Var 6  \n",
      "0     31384\n",
      "1        33\n",
      "2         6\n",
      "3         3\n",
      "10        1\n",
      "4         1\n",
      "Name: N7, dtype: int64\n",
      " Var 7  \n",
      "0     29502\n",
      "1       692\n",
      "2       295\n",
      "3       175\n",
      "4       118\n",
      "      ...  \n",
      "97        1\n",
      "81        1\n",
      "44        1\n",
      "38        1\n",
      "51        1\n",
      "Name: N8, Length: 64, dtype: int64\n",
      " Var 8  \n",
      "0     31244\n",
      "1        61\n",
      "2        28\n",
      "4        13\n",
      "3        12\n",
      "8         9\n",
      "5         6\n",
      "7         5\n",
      "16        5\n",
      "11        5\n",
      "10        5\n",
      "6         4\n",
      "22        4\n",
      "12        3\n",
      "15        3\n",
      "9         3\n",
      "28        2\n",
      "17        2\n",
      "13        1\n",
      "43        1\n",
      "48        1\n",
      "61        1\n",
      "29        1\n",
      "18        1\n",
      "24        1\n",
      "14        1\n",
      "27        1\n",
      "21        1\n",
      "85        1\n",
      "26        1\n",
      "40        1\n",
      "44        1\n",
      "Name: N9, dtype: int64\n",
      " Var 9  \n",
      "0     31173\n",
      "1        85\n",
      "2        36\n",
      "3        21\n",
      "4        18\n",
      "8        11\n",
      "7        10\n",
      "5         8\n",
      "6         7\n",
      "16        5\n",
      "12        5\n",
      "11        5\n",
      "10        5\n",
      "22        4\n",
      "9         4\n",
      "14        3\n",
      "15        3\n",
      "24        2\n",
      "42        2\n",
      "17        2\n",
      "21        2\n",
      "20        2\n",
      "44        1\n",
      "61        1\n",
      "48        1\n",
      "29        1\n",
      "33        1\n",
      "13        1\n",
      "28        1\n",
      "19        1\n",
      "40        1\n",
      "43        1\n",
      "37        1\n",
      "27        1\n",
      "86        1\n",
      "26        1\n",
      "39        1\n",
      "Name: N10, dtype: int64\n"
     ]
    }
   ],
   "source": [
    "Numerical_Var = data.loc[:,data.columns.str.startswith('N')]\n",
    "\n",
    "\n",
    "for i in range(0, Numerical_Var.shape[1]):\n",
    "    Num_Counts = Numerical_Var.iloc[:,i].value_counts()\n",
    "    print(\" Var %s  \" %i)\n",
    "    print(Num_Counts)\n",
    "    \n",
    "# We can see that most variables are heavily imbalanced. \n",
    "# Our solution for this will be normalising using the StandardScaler()"
   ]
  },
  {
   "cell_type": "markdown",
   "metadata": {},
   "source": [
    "## 1.3 Balance of dependant variable"
   ]
  },
  {
   "cell_type": "code",
   "execution_count": 10,
   "metadata": {},
   "outputs": [
    {
     "data": {
      "text/plain": [
       "-1    31371\n",
       " 1       57\n",
       "Name: label, dtype: int64"
      ]
     },
     "execution_count": 10,
     "metadata": {},
     "output_type": "execute_result"
    }
   ],
   "source": [
    "# Lets first show the independant variable\n",
    "\n",
    "data.label.value_counts()\n",
    "\n",
    "# Heavily imbalanced. Yikes\n",
    "# Now time for solutions!\n"
   ]
  },
  {
   "cell_type": "code",
   "execution_count": 11,
   "metadata": {
    "collapsed": true
   },
   "outputs": [],
   "source": [
    "# Start by defining dependant/independant variables. \n",
    "# Drop those that are unique or provide no value (purchasetime\n",
    "# only being shown when a purchase happens)\n",
    "\n",
    "X=data.drop([\"label\",\"purchaseTime\",'id'], axis=1)\n",
    "y=data['label']"
   ]
  },
  {
   "cell_type": "code",
   "execution_count": 12,
   "metadata": {
    "collapsed": true
   },
   "outputs": [],
   "source": [
    "# Normalizing numeric data\n",
    "\n",
    "for i in Numerical_Var:\n",
    "    x= X[[i]].values\n",
    "    scaler = preprocessing.StandardScaler()\n",
    "    x_scaled = scaler.fit_transform(x)\n",
    "    X[i]=x_scaled\n",
    "    "
   ]
  },
  {
   "cell_type": "code",
   "execution_count": 13,
   "metadata": {},
   "outputs": [
    {
     "data": {
      "text/html": [
       "<div>\n",
       "<style scoped>\n",
       "    .dataframe tbody tr th:only-of-type {\n",
       "        vertical-align: middle;\n",
       "    }\n",
       "\n",
       "    .dataframe tbody tr th {\n",
       "        vertical-align: top;\n",
       "    }\n",
       "\n",
       "    .dataframe thead th {\n",
       "        text-align: right;\n",
       "    }\n",
       "</style>\n",
       "<table border=\"1\" class=\"dataframe\">\n",
       "  <thead>\n",
       "    <tr style=\"text-align: right;\">\n",
       "      <th></th>\n",
       "      <th>visitTime</th>\n",
       "      <th>hour</th>\n",
       "      <th>C1</th>\n",
       "      <th>C2</th>\n",
       "      <th>C3</th>\n",
       "      <th>C4</th>\n",
       "      <th>C5</th>\n",
       "      <th>C6</th>\n",
       "      <th>C7</th>\n",
       "      <th>C8</th>\n",
       "      <th>...</th>\n",
       "      <th>N4</th>\n",
       "      <th>N5</th>\n",
       "      <th>N6</th>\n",
       "      <th>N7</th>\n",
       "      <th>N8</th>\n",
       "      <th>N9</th>\n",
       "      <th>N10</th>\n",
       "      <th>C10</th>\n",
       "      <th>C11</th>\n",
       "      <th>C12</th>\n",
       "    </tr>\n",
       "  </thead>\n",
       "  <tbody>\n",
       "    <tr>\n",
       "      <th>0</th>\n",
       "      <td>19274330</td>\n",
       "      <td>0</td>\n",
       "      <td>2569487005</td>\n",
       "      <td>1830830742</td>\n",
       "      <td>4228834423</td>\n",
       "      <td>652481754</td>\n",
       "      <td>2967512603</td>\n",
       "      <td>3624739744</td>\n",
       "      <td>2303407174</td>\n",
       "      <td>2206061889</td>\n",
       "      <td>...</td>\n",
       "      <td>-0.106697</td>\n",
       "      <td>-0.015298</td>\n",
       "      <td>-0.048464</td>\n",
       "      <td>-0.027133</td>\n",
       "      <td>-0.130523</td>\n",
       "      <td>-0.041971</td>\n",
       "      <td>-0.049696</td>\n",
       "      <td>419316267</td>\n",
       "      <td>3617851689</td>\n",
       "      <td>4220791646</td>\n",
       "    </tr>\n",
       "    <tr>\n",
       "      <th>1</th>\n",
       "      <td>19274334</td>\n",
       "      <td>0</td>\n",
       "      <td>3191875643</td>\n",
       "      <td>403381353</td>\n",
       "      <td>1238330876</td>\n",
       "      <td>652481754</td>\n",
       "      <td>2967512603</td>\n",
       "      <td>179712055</td>\n",
       "      <td>2303407174</td>\n",
       "      <td>157533148</td>\n",
       "      <td>...</td>\n",
       "      <td>-0.106697</td>\n",
       "      <td>-0.015298</td>\n",
       "      <td>-0.048464</td>\n",
       "      <td>-0.027133</td>\n",
       "      <td>0.183475</td>\n",
       "      <td>-0.041971</td>\n",
       "      <td>-0.049696</td>\n",
       "      <td>1968545380</td>\n",
       "      <td>3831440054</td>\n",
       "      <td>1213938795</td>\n",
       "    </tr>\n",
       "    <tr>\n",
       "      <th>2</th>\n",
       "      <td>19274353</td>\n",
       "      <td>0</td>\n",
       "      <td>2634604934</td>\n",
       "      <td>403381353</td>\n",
       "      <td>1928325921</td>\n",
       "      <td>652481754</td>\n",
       "      <td>2967512603</td>\n",
       "      <td>1607619193</td>\n",
       "      <td>2303407174</td>\n",
       "      <td>3588031319</td>\n",
       "      <td>...</td>\n",
       "      <td>-0.106697</td>\n",
       "      <td>-0.015298</td>\n",
       "      <td>-0.048464</td>\n",
       "      <td>-0.027133</td>\n",
       "      <td>-0.130523</td>\n",
       "      <td>-0.041971</td>\n",
       "      <td>-0.049696</td>\n",
       "      <td>1405802835</td>\n",
       "      <td>2379633508</td>\n",
       "      <td>1284343215</td>\n",
       "    </tr>\n",
       "    <tr>\n",
       "      <th>3</th>\n",
       "      <td>19274358</td>\n",
       "      <td>0</td>\n",
       "      <td>2569487005</td>\n",
       "      <td>403381353</td>\n",
       "      <td>296915027</td>\n",
       "      <td>652481754</td>\n",
       "      <td>2967512603</td>\n",
       "      <td>10212495</td>\n",
       "      <td>2303407174</td>\n",
       "      <td>3588031319</td>\n",
       "      <td>...</td>\n",
       "      <td>-0.106697</td>\n",
       "      <td>-0.015298</td>\n",
       "      <td>-0.048464</td>\n",
       "      <td>-0.027133</td>\n",
       "      <td>-0.130523</td>\n",
       "      <td>-0.041971</td>\n",
       "      <td>-0.049696</td>\n",
       "      <td>2299319102</td>\n",
       "      <td>3617851689</td>\n",
       "      <td>4220791646</td>\n",
       "    </tr>\n",
       "    <tr>\n",
       "      <th>4</th>\n",
       "      <td>19274367</td>\n",
       "      <td>0</td>\n",
       "      <td>2569487005</td>\n",
       "      <td>403381353</td>\n",
       "      <td>681762206</td>\n",
       "      <td>652481754</td>\n",
       "      <td>2967512603</td>\n",
       "      <td>580883881</td>\n",
       "      <td>2303407174</td>\n",
       "      <td>157533148</td>\n",
       "      <td>...</td>\n",
       "      <td>-0.106697</td>\n",
       "      <td>-0.015298</td>\n",
       "      <td>-0.048464</td>\n",
       "      <td>-0.027133</td>\n",
       "      <td>-0.130523</td>\n",
       "      <td>-0.041971</td>\n",
       "      <td>-0.049696</td>\n",
       "      <td>1306075469</td>\n",
       "      <td>3617851689</td>\n",
       "      <td>4220791646</td>\n",
       "    </tr>\n",
       "  </tbody>\n",
       "</table>\n",
       "<p>5 rows × 24 columns</p>\n",
       "</div>"
      ],
      "text/plain": [
       "   visitTime  hour          C1          C2          C3         C4          C5  \\\n",
       "0   19274330     0  2569487005  1830830742  4228834423  652481754  2967512603   \n",
       "1   19274334     0  3191875643   403381353  1238330876  652481754  2967512603   \n",
       "2   19274353     0  2634604934   403381353  1928325921  652481754  2967512603   \n",
       "3   19274358     0  2569487005   403381353   296915027  652481754  2967512603   \n",
       "4   19274367     0  2569487005   403381353   681762206  652481754  2967512603   \n",
       "\n",
       "           C6          C7          C8  ...        N4        N5        N6  \\\n",
       "0  3624739744  2303407174  2206061889  ... -0.106697 -0.015298 -0.048464   \n",
       "1   179712055  2303407174   157533148  ... -0.106697 -0.015298 -0.048464   \n",
       "2  1607619193  2303407174  3588031319  ... -0.106697 -0.015298 -0.048464   \n",
       "3    10212495  2303407174  3588031319  ... -0.106697 -0.015298 -0.048464   \n",
       "4   580883881  2303407174   157533148  ... -0.106697 -0.015298 -0.048464   \n",
       "\n",
       "         N7        N8        N9       N10         C10         C11         C12  \n",
       "0 -0.027133 -0.130523 -0.041971 -0.049696   419316267  3617851689  4220791646  \n",
       "1 -0.027133  0.183475 -0.041971 -0.049696  1968545380  3831440054  1213938795  \n",
       "2 -0.027133 -0.130523 -0.041971 -0.049696  1405802835  2379633508  1284343215  \n",
       "3 -0.027133 -0.130523 -0.041971 -0.049696  2299319102  3617851689  4220791646  \n",
       "4 -0.027133 -0.130523 -0.041971 -0.049696  1306075469  3617851689  4220791646  \n",
       "\n",
       "[5 rows x 24 columns]"
      ]
     },
     "execution_count": 13,
     "metadata": {},
     "output_type": "execute_result"
    }
   ],
   "source": [
    "X.head()"
   ]
  },
  {
   "cell_type": "markdown",
   "metadata": {},
   "source": [
    "# Feature selection"
   ]
  },
  {
   "cell_type": "markdown",
   "metadata": {},
   "source": [
    "Now that we have some 'clean' data, let's find some insights"
   ]
  },
  {
   "cell_type": "code",
   "execution_count": 14,
   "metadata": {},
   "outputs": [
    {
     "data": {
      "image/png": "[encoded data removed]",
      "text/plain": [
       "<Figure size 432x288 with 2 Axes>"
      ]
     },
     "metadata": {},
     "output_type": "display_data"
    }
   ],
   "source": [
    "corr = X.corr()\n",
    "fig = plt.figure()\n",
    "ax = fig.add_subplot(111)\n",
    "cax = ax.matshow(corr,cmap='Greens', vmin=-1, vmax=1)\n",
    "fig.colorbar(cax)\n",
    "ticks = np.arange(0,len(X.columns),1)\n",
    "ax.set_xticks(ticks)\n",
    "plt.xticks(rotation=90)\n",
    "ax.set_yticks(ticks)\n",
    "ax.set_xticklabels(X.columns)\n",
    "ax.set_yticklabels(X.columns)\n",
    "plt.show()\n",
    "\n",
    "# Visittime and Hour correlate highly. They represent more/less\n",
    "# the same thing. Also, N9 and N10 will correlate. One of each will\n",
    "# therefore be dropped"
   ]
  },
  {
   "cell_type": "code",
   "execution_count": 15,
   "metadata": {
    "collapsed": true
   },
   "outputs": [],
   "source": [
    "X1=X.drop(['hour','N9'], axis=1)"
   ]
  },
  {
   "cell_type": "code",
   "execution_count": 16,
   "metadata": {},
   "outputs": [
    {
     "data": {
      "text/plain": [
       "19328699    6\n",
       "19319226    6\n",
       "19325796    5\n",
       "19314062    5\n",
       "19310993    5\n",
       "           ..\n",
       "19310525    1\n",
       "19283902    1\n",
       "19314623    1\n",
       "19318721    1\n",
       "19300352    1\n",
       "Name: visitTime, Length: 24587, dtype: int64"
      ]
     },
     "execution_count": 16,
     "metadata": {},
     "output_type": "execute_result"
    }
   ],
   "source": [
    "X1.visitTime.value_counts()"
   ]
  },
  {
   "cell_type": "markdown",
   "metadata": {},
   "source": [
    "# Inbalanced classes. Running different variants of sampling methods\n",
    "\n",
    "\n",
    "## NAIVE RESAMPLING , SMOTE\n"
   ]
  },
  {
   "cell_type": "code",
   "execution_count": 17,
   "metadata": {},
   "outputs": [
    {
     "name": "stderr",
     "output_type": "stream",
     "text": [
      "Using TensorFlow backend.\n"
     ]
    }
   ],
   "source": [
    "from imblearn.over_sampling import RandomOverSampler\n"
   ]
  },
  {
   "cell_type": "code",
   "execution_count": 90,
   "metadata": {
    "scrolled": true
   },
   "outputs": [
    {
     "name": "stdout",
     "output_type": "stream",
     "text": [
      "Collecting imbalanced-learn\n",
      "  Using cached imbalanced_learn-0.6.2-py3-none-any.whl (163 kB)\n",
      "Collecting scikit-learn\n",
      "  Using cached scikit_learn-0.22.2.post1-cp36-cp36m-macosx_10_9_x86_64.whl (7.2 MB)\n",
      "^C\n",
      "\u001b[31mERROR: Operation cancelled by user\u001b[0m\n"
     ]
    }
   ],
   "source": [
    "import sys\n",
    "!{sys.executable} -m pip install -U imbalanced-learn --ignore-installed scikit-learn "
   ]
  },
  {
   "cell_type": "code",
   "execution_count": 18,
   "metadata": {
    "collapsed": true
   },
   "outputs": [],
   "source": [
    "from imblearn.over_sampling import SMOTE, ADASYN"
   ]
  },
  {
   "cell_type": "markdown",
   "metadata": {},
   "source": [
    "### Oversample and then re-shuffle naively"
   ]
  },
  {
   "cell_type": "code",
   "execution_count": 19,
   "metadata": {
    "collapsed": true
   },
   "outputs": [],
   "source": [
    "ros = RandomOverSampler(random_state=1, sampling_strategy=0.4)\n",
    "\n",
    "# We oversample the minority class"
   ]
  },
  {
   "cell_type": "code",
   "execution_count": 20,
   "metadata": {
    "collapsed": true
   },
   "outputs": [],
   "source": [
    "X_resampled, y_resampled = ros.fit_resample(X1, y)"
   ]
  },
  {
   "cell_type": "code",
   "execution_count": 21,
   "metadata": {},
   "outputs": [
    {
     "data": {
      "text/plain": [
       "-1    31371\n",
       " 1    12548\n",
       "Name: label, dtype: int64"
      ]
     },
     "execution_count": 21,
     "metadata": {},
     "output_type": "execute_result"
    }
   ],
   "source": [
    "y_resampled.value_counts()\n",
    "\n",
    "# Class rebalanced to equal occurances "
   ]
  },
  {
   "cell_type": "markdown",
   "metadata": {},
   "source": [
    "### SMOTE"
   ]
  },
  {
   "cell_type": "code",
   "execution_count": 34,
   "metadata": {
    "collapsed": true
   },
   "outputs": [],
   "source": [
    "X_resampledSMOTE, y_resampledSMOTE = SMOTE(random_state=1, sampling_strategy=0.4).fit_resample(X1, y)"
   ]
  },
  {
   "cell_type": "code",
   "execution_count": 35,
   "metadata": {},
   "outputs": [
    {
     "data": {
      "text/plain": [
       "43919"
      ]
     },
     "execution_count": 35,
     "metadata": {},
     "output_type": "execute_result"
    }
   ],
   "source": [
    "len(y_resampledSMOTE)"
   ]
  },
  {
   "cell_type": "code",
   "execution_count": 38,
   "metadata": {},
   "outputs": [
    {
     "data": {
      "text/plain": [
       "43919"
      ]
     },
     "execution_count": 38,
     "metadata": {},
     "output_type": "execute_result"
    }
   ],
   "source": [
    "len(X_resampledSMOTE)"
   ]
  },
  {
   "cell_type": "markdown",
   "metadata": {},
   "source": [
    "### Train Test splitting with NaiveS"
   ]
  },
  {
   "cell_type": "code",
   "execution_count": 24,
   "metadata": {
    "collapsed": true
   },
   "outputs": [],
   "source": [
    "from sklearn.model_selection import cross_validate "
   ]
  },
  {
   "cell_type": "code",
   "execution_count": 27,
   "metadata": {
    "collapsed": true
   },
   "outputs": [],
   "source": [
    "from sklearn.ensemble import RandomForestClassifier"
   ]
  },
  {
   "cell_type": "code",
   "execution_count": 97,
   "metadata": {
    "collapsed": true
   },
   "outputs": [],
   "source": [
    "X_train, X_test, y_train, y_test = train_test_split(\n",
    " X_resampled, y_resampled, test_size=0.33, random_state=42)"
   ]
  },
  {
   "cell_type": "markdown",
   "metadata": {},
   "source": [
    "### Train Test splitting with SMOTE"
   ]
  },
  {
   "cell_type": "code",
   "execution_count": 99,
   "metadata": {
    "collapsed": true
   },
   "outputs": [],
   "source": [
    "X_trainS, X_testS, y_trainS, y_testS = train_test_split(\n",
    " X_resampledSMOTE, y_resampledSMOTE, test_size=0.33, random_state=42)"
   ]
  },
  {
   "cell_type": "code",
   "execution_count": 83,
   "metadata": {
    "collapsed": true
   },
   "outputs": [],
   "source": [
    "from sklearn.metrics import classification_report\n",
    "from sklearn.linear_model import LogisticRegression"
   ]
  },
  {
   "cell_type": "markdown",
   "metadata": {},
   "source": [
    "### Random Forest"
   ]
  },
  {
   "cell_type": "code",
   "execution_count": 208,
   "metadata": {
    "collapsed": true
   },
   "outputs": [],
   "source": [
    "rf = RandomForestClassifier(n_estimators = 100).fit(X_resampled, y_resampled )"
   ]
  },
  {
   "cell_type": "code",
   "execution_count": 209,
   "metadata": {},
   "outputs": [
    {
     "data": {
      "text/plain": [
       "array([0.03135878, 0.0169661 , 0.00648048, 0.02896682, 0.00423088,\n",
       "       0.00289801, 0.02665485, 0.01487345, 0.02714382, 0.02908546,\n",
       "       0.04003049, 0.00482567, 0.10843139, 0.0516209 , 0.00138063,\n",
       "       0.14238742, 0.00354649, 0.16788357, 0.23583409, 0.03371389,\n",
       "       0.00786712, 0.01381969])"
      ]
     },
     "execution_count": 209,
     "metadata": {},
     "output_type": "execute_result"
    }
   ],
   "source": [
    "rf.feature_importances_"
   ]
  },
  {
   "cell_type": "code",
   "execution_count": 210,
   "metadata": {},
   "outputs": [
    {
     "data": {
      "image/png": "[encoded data removed]",
      "text/plain": [
       "<Figure size 432x288 with 1 Axes>"
      ]
     },
     "metadata": {},
     "output_type": "display_data"
    }
   ],
   "source": [
    "plt.barh(range(22), rf.feature_importances_)\n",
    "plt.show(range(22))"
   ]
  },
  {
   "cell_type": "code",
   "execution_count": 211,
   "metadata": {
    "collapsed": true
   },
   "outputs": [],
   "source": [
    "imp_var = rf.feature_importances_ > 0.04\n",
    "# Extract variables with gini > 0.1"
   ]
  },
  {
   "cell_type": "code",
   "execution_count": 212,
   "metadata": {
    "collapsed": true
   },
   "outputs": [],
   "source": [
    "imp1 = imp_var.tolist()"
   ]
  },
  {
   "cell_type": "code",
   "execution_count": 213,
   "metadata": {
    "collapsed": true
   },
   "outputs": [],
   "source": [
    "res = [i for i, val in enumerate(imp1) if val] "
   ]
  },
  {
   "cell_type": "code",
   "execution_count": 214,
   "metadata": {},
   "outputs": [
    {
     "data": {
      "text/html": [
       "<div>\n",
       "<style scoped>\n",
       "    .dataframe tbody tr th:only-of-type {\n",
       "        vertical-align: middle;\n",
       "    }\n",
       "\n",
       "    .dataframe tbody tr th {\n",
       "        vertical-align: top;\n",
       "    }\n",
       "\n",
       "    .dataframe thead th {\n",
       "        text-align: right;\n",
       "    }\n",
       "</style>\n",
       "<table border=\"1\" class=\"dataframe\">\n",
       "  <thead>\n",
       "    <tr style=\"text-align: right;\">\n",
       "      <th></th>\n",
       "      <th>C9</th>\n",
       "      <th>N3</th>\n",
       "      <th>N4</th>\n",
       "      <th>N6</th>\n",
       "      <th>N8</th>\n",
       "      <th>N10</th>\n",
       "    </tr>\n",
       "  </thead>\n",
       "  <tbody>\n",
       "    <tr>\n",
       "      <th>0</th>\n",
       "      <td>4287642944</td>\n",
       "      <td>-0.132073</td>\n",
       "      <td>-0.106697</td>\n",
       "      <td>-0.048464</td>\n",
       "      <td>-0.130523</td>\n",
       "      <td>-0.049696</td>\n",
       "    </tr>\n",
       "    <tr>\n",
       "      <th>1</th>\n",
       "      <td>3272771221</td>\n",
       "      <td>0.645518</td>\n",
       "      <td>-0.106697</td>\n",
       "      <td>-0.048464</td>\n",
       "      <td>0.183475</td>\n",
       "      <td>-0.049696</td>\n",
       "    </tr>\n",
       "    <tr>\n",
       "      <th>2</th>\n",
       "      <td>3329757940</td>\n",
       "      <td>-0.132073</td>\n",
       "      <td>-0.106697</td>\n",
       "      <td>-0.048464</td>\n",
       "      <td>-0.130523</td>\n",
       "      <td>-0.049696</td>\n",
       "    </tr>\n",
       "    <tr>\n",
       "      <th>3</th>\n",
       "      <td>3427046189</td>\n",
       "      <td>-0.132073</td>\n",
       "      <td>-0.106697</td>\n",
       "      <td>-0.048464</td>\n",
       "      <td>-0.130523</td>\n",
       "      <td>-0.049696</td>\n",
       "    </tr>\n",
       "    <tr>\n",
       "      <th>4</th>\n",
       "      <td>2088887026</td>\n",
       "      <td>-0.132073</td>\n",
       "      <td>-0.106697</td>\n",
       "      <td>-0.048464</td>\n",
       "      <td>-0.130523</td>\n",
       "      <td>-0.049696</td>\n",
       "    </tr>\n",
       "    <tr>\n",
       "      <th>5</th>\n",
       "      <td>3329757940</td>\n",
       "      <td>-0.132073</td>\n",
       "      <td>-0.106697</td>\n",
       "      <td>-0.048464</td>\n",
       "      <td>-0.130523</td>\n",
       "      <td>-0.049696</td>\n",
       "    </tr>\n",
       "  </tbody>\n",
       "</table>\n",
       "</div>"
      ],
      "text/plain": [
       "           C9        N3        N4        N6        N8       N10\n",
       "0  4287642944 -0.132073 -0.106697 -0.048464 -0.130523 -0.049696\n",
       "1  3272771221  0.645518 -0.106697 -0.048464  0.183475 -0.049696\n",
       "2  3329757940 -0.132073 -0.106697 -0.048464 -0.130523 -0.049696\n",
       "3  3427046189 -0.132073 -0.106697 -0.048464 -0.130523 -0.049696\n",
       "4  2088887026 -0.132073 -0.106697 -0.048464 -0.130523 -0.049696\n",
       "5  3329757940 -0.132073 -0.106697 -0.048464 -0.130523 -0.049696"
      ]
     },
     "execution_count": 214,
     "metadata": {},
     "output_type": "execute_result"
    }
   ],
   "source": [
    "X_resampledSMOTE.iloc[:,res].head(6)\n",
    "\n",
    "# NEW variables to be used to train model"
   ]
  },
  {
   "cell_type": "markdown",
   "metadata": {},
   "source": [
    "### Random Forest on SMOTE "
   ]
  },
  {
   "cell_type": "code",
   "execution_count": 215,
   "metadata": {
    "collapsed": true
   },
   "outputs": [],
   "source": [
    "rf = RandomForestClassifier(n_estimators = 100).fit(X_resampledSMOTE, y_resampledSMOTE)"
   ]
  },
  {
   "cell_type": "code",
   "execution_count": 216,
   "metadata": {},
   "outputs": [
    {
     "data": {
      "image/png": "[encoded data removed]",
      "text/plain": [
       "<Figure size 432x288 with 1 Axes>"
      ]
     },
     "metadata": {},
     "output_type": "display_data"
    }
   ],
   "source": [
    "plt.barh(range(22), rf.feature_importances_)\n",
    "plt.show(range(22))"
   ]
  },
  {
   "cell_type": "markdown",
   "metadata": {},
   "source": [
    "# Cross Validation"
   ]
  },
  {
   "cell_type": "code",
   "execution_count": 28,
   "metadata": {},
   "outputs": [],
   "source": [
    "res = cross_validate(RandomForestClassifier(), X_resampledSMOTE, y_resampledSMOTE , return_train_score = True, cv = 5, scoring=[\"f1\"] )"
   ]
  },
  {
   "cell_type": "code",
   "execution_count": 29,
   "metadata": {},
   "outputs": [
    {
     "data": {
      "text/html": [
       "<div>\n",
       "<style scoped>\n",
       "    .dataframe tbody tr th:only-of-type {\n",
       "        vertical-align: middle;\n",
       "    }\n",
       "\n",
       "    .dataframe tbody tr th {\n",
       "        vertical-align: top;\n",
       "    }\n",
       "\n",
       "    .dataframe thead th {\n",
       "        text-align: right;\n",
       "    }\n",
       "</style>\n",
       "<table border=\"1\" class=\"dataframe\">\n",
       "  <thead>\n",
       "    <tr style=\"text-align: right;\">\n",
       "      <th></th>\n",
       "      <th>fit_time</th>\n",
       "      <th>score_time</th>\n",
       "      <th>test_f1</th>\n",
       "      <th>train_f1</th>\n",
       "    </tr>\n",
       "  </thead>\n",
       "  <tbody>\n",
       "    <tr>\n",
       "      <th>0</th>\n",
       "      <td>4.600372</td>\n",
       "      <td>0.088432</td>\n",
       "      <td>0.997203</td>\n",
       "      <td>1.0</td>\n",
       "    </tr>\n",
       "    <tr>\n",
       "      <th>1</th>\n",
       "      <td>4.735136</td>\n",
       "      <td>0.091330</td>\n",
       "      <td>0.999005</td>\n",
       "      <td>1.0</td>\n",
       "    </tr>\n",
       "    <tr>\n",
       "      <th>2</th>\n",
       "      <td>4.449862</td>\n",
       "      <td>0.088960</td>\n",
       "      <td>0.998408</td>\n",
       "      <td>1.0</td>\n",
       "    </tr>\n",
       "    <tr>\n",
       "      <th>3</th>\n",
       "      <td>4.301876</td>\n",
       "      <td>0.087403</td>\n",
       "      <td>0.998606</td>\n",
       "      <td>1.0</td>\n",
       "    </tr>\n",
       "    <tr>\n",
       "      <th>4</th>\n",
       "      <td>4.468290</td>\n",
       "      <td>0.094638</td>\n",
       "      <td>0.981804</td>\n",
       "      <td>1.0</td>\n",
       "    </tr>\n",
       "  </tbody>\n",
       "</table>\n",
       "</div>"
      ],
      "text/plain": [
       "   fit_time  score_time   test_f1  train_f1\n",
       "0  4.600372    0.088432  0.997203       1.0\n",
       "1  4.735136    0.091330  0.999005       1.0\n",
       "2  4.449862    0.088960  0.998408       1.0\n",
       "3  4.301876    0.087403  0.998606       1.0\n",
       "4  4.468290    0.094638  0.981804       1.0"
      ]
     },
     "execution_count": 29,
     "metadata": {},
     "output_type": "execute_result"
    }
   ],
   "source": [
    "res_df=pd.DataFrame(res)\n",
    "res_df"
   ]
  },
  {
   "cell_type": "markdown",
   "metadata": {},
   "source": [
    "# Feature selection part 2"
   ]
  },
  {
   "cell_type": "markdown",
   "metadata": {},
   "source": [
    "With random forest we have been able to find which variables have\n",
    "the strongest influence on our data. These will be the final features we use \n",
    "in our prediction model"
   ]
  },
  {
   "cell_type": "code",
   "execution_count": 217,
   "metadata": {},
   "outputs": [
    {
     "data": {
      "text/html": [
       "<div>\n",
       "<style scoped>\n",
       "    .dataframe tbody tr th:only-of-type {\n",
       "        vertical-align: middle;\n",
       "    }\n",
       "\n",
       "    .dataframe tbody tr th {\n",
       "        vertical-align: top;\n",
       "    }\n",
       "\n",
       "    .dataframe thead th {\n",
       "        text-align: right;\n",
       "    }\n",
       "</style>\n",
       "<table border=\"1\" class=\"dataframe\">\n",
       "  <thead>\n",
       "    <tr style=\"text-align: right;\">\n",
       "      <th></th>\n",
       "      <th>N3</th>\n",
       "      <th>N4</th>\n",
       "      <th>N6</th>\n",
       "      <th>N8</th>\n",
       "      <th>N10</th>\n",
       "    </tr>\n",
       "  </thead>\n",
       "  <tbody>\n",
       "    <tr>\n",
       "      <th>0</th>\n",
       "      <td>-0.132073</td>\n",
       "      <td>-0.106697</td>\n",
       "      <td>-0.048464</td>\n",
       "      <td>-0.130523</td>\n",
       "      <td>-0.049696</td>\n",
       "    </tr>\n",
       "    <tr>\n",
       "      <th>1</th>\n",
       "      <td>0.645518</td>\n",
       "      <td>-0.106697</td>\n",
       "      <td>-0.048464</td>\n",
       "      <td>0.183475</td>\n",
       "      <td>-0.049696</td>\n",
       "    </tr>\n",
       "    <tr>\n",
       "      <th>2</th>\n",
       "      <td>-0.132073</td>\n",
       "      <td>-0.106697</td>\n",
       "      <td>-0.048464</td>\n",
       "      <td>-0.130523</td>\n",
       "      <td>-0.049696</td>\n",
       "    </tr>\n",
       "    <tr>\n",
       "      <th>3</th>\n",
       "      <td>-0.132073</td>\n",
       "      <td>-0.106697</td>\n",
       "      <td>-0.048464</td>\n",
       "      <td>-0.130523</td>\n",
       "      <td>-0.049696</td>\n",
       "    </tr>\n",
       "    <tr>\n",
       "      <th>4</th>\n",
       "      <td>-0.132073</td>\n",
       "      <td>-0.106697</td>\n",
       "      <td>-0.048464</td>\n",
       "      <td>-0.130523</td>\n",
       "      <td>-0.049696</td>\n",
       "    </tr>\n",
       "  </tbody>\n",
       "</table>\n",
       "</div>"
      ],
      "text/plain": [
       "         N3        N4        N6        N8       N10\n",
       "0 -0.132073 -0.106697 -0.048464 -0.130523 -0.049696\n",
       "1  0.645518 -0.106697 -0.048464  0.183475 -0.049696\n",
       "2 -0.132073 -0.106697 -0.048464 -0.130523 -0.049696\n",
       "3 -0.132073 -0.106697 -0.048464 -0.130523 -0.049696\n",
       "4 -0.132073 -0.106697 -0.048464 -0.130523 -0.049696"
      ]
     },
     "execution_count": 217,
     "metadata": {},
     "output_type": "execute_result"
    }
   ],
   "source": [
    "imp_var = rf.feature_importances_ > 0.05\n",
    "# Extract variables with gini > 0.1\n",
    "imp1 = imp_var.tolist()\n",
    "res = [i for i, val in enumerate(imp1) if val] \n",
    "XNew = X_resampledSMOTE.iloc[:,res]\n",
    "XNew.head()\n",
    "# We see that the oversampling technique doesnt change much in feature selection \n",
    "# therefore, the prediction will be made solely on the SMOTE enhanced dataset"
   ]
  },
  {
   "cell_type": "code",
   "execution_count": 219,
   "metadata": {
    "collapsed": true
   },
   "outputs": [],
   "source": [
    "rf = RandomForestClassifier(n_estimators = 100).fit(XNew,y_resampledSMOTE )"
   ]
  },
  {
   "cell_type": "code",
   "execution_count": 224,
   "metadata": {
    "collapsed": true
   },
   "outputs": [],
   "source": [
    "X_train1, X_test1, y_train1, y_test1 = train_test_split(\n",
    " XNew, y_resampledSMOTE, test_size=0.33, random_state=42)"
   ]
  },
  {
   "cell_type": "code",
   "execution_count": 239,
   "metadata": {
    "collapsed": true
   },
   "outputs": [],
   "source": [
    "predictionsRF = rf.predict(X_test1)"
   ]
  },
  {
   "cell_type": "markdown",
   "metadata": {},
   "source": [
    "# Feature Selection part 3 & Paremeter Optimization : Using GridSearchCV "
   ]
  },
  {
   "cell_type": "code",
   "execution_count": 61,
   "metadata": {
    "collapsed": true
   },
   "outputs": [],
   "source": [
    "from sklearn.model_selection import GridSearchCV\n",
    "from sklearn.feature_selection import RFECV\n",
    "from sklearn.pipeline import Pipeline as pipe"
   ]
  },
  {
   "cell_type": "code",
   "execution_count": 41,
   "metadata": {},
   "outputs": [],
   "source": [
    "X_train, X_test, y_train, y_test = train_test_split(X_resampledSMOTE, y_resampledSMOTE, random_state=42,stratify = y_resampledSMOTE)"
   ]
  },
  {
   "cell_type": "code",
   "execution_count": 43,
   "metadata": {
    "collapsed": true
   },
   "outputs": [],
   "source": [
    "rfc = RandomForestClassifier(n_jobs=-1,max_features= 'sqrt' ,n_estimators=50, oob_score = True) "
   ]
  },
  {
   "cell_type": "code",
   "execution_count": 73,
   "metadata": {},
   "outputs": [
    {
     "name": "stdout",
     "output_type": "stream",
     "text": [
      "Optimal number of features : 21\n"
     ]
    }
   ],
   "source": [
    "clf = RandomForestClassifier(random_state = 42, class_weight=\"balanced\")\n",
    "\n",
    "rfecv = RFECV(estimator=clf, step=1, cv=5, scoring='f1')\n",
    "\n",
    "rfecv.fit(X_train,y_train)\n",
    "\n",
    "print(\"Optimal number of features : %d\" % rfecv.n_features_)\n",
    "features=list(X_train.columns[rfecv.support_])"
   ]
  },
  {
   "cell_type": "code",
   "execution_count": 74,
   "metadata": {},
   "outputs": [
    {
     "data": {
      "text/plain": [
       "['visitTime',\n",
       " 'C1',\n",
       " 'C2',\n",
       " 'C3',\n",
       " 'C4',\n",
       " 'C5',\n",
       " 'C6',\n",
       " 'C7',\n",
       " 'C8',\n",
       " 'N1',\n",
       " 'C9',\n",
       " 'N2',\n",
       " 'N3',\n",
       " 'N4',\n",
       " 'N6',\n",
       " 'N7',\n",
       " 'N8',\n",
       " 'N10',\n",
       " 'C10',\n",
       " 'C11',\n",
       " 'C12']"
      ]
     },
     "execution_count": 74,
     "metadata": {},
     "output_type": "execute_result"
    }
   ],
   "source": [
    "features"
   ]
  },
  {
   "cell_type": "code",
   "execution_count": 55,
   "metadata": {
    "collapsed": true
   },
   "outputs": [],
   "source": [
    "param_grid = { \n",
    "    'n_estimators': [200, 300],\n",
    "    'max_features': ['auto', 'sqrt', 'log2'],\n",
    "    'criterion' :['gini', 'entropy']\n",
    "}"
   ]
  },
  {
   "cell_type": "code",
   "execution_count": 65,
   "metadata": {
    "collapsed": true
   },
   "outputs": [],
   "source": [
    "CV_rfc = GridSearchCV(estimator=rfc, param_grid=param_grid, cv= 5, scoring = 'f1')"
   ]
  },
  {
   "cell_type": "code",
   "execution_count": 56,
   "metadata": {},
   "outputs": [
    {
     "name": "stdout",
     "output_type": "stream",
     "text": [
      "{'criterion': 'gini', 'max_features': 'sqrt', 'n_estimators': 300}\n"
     ]
    }
   ],
   "source": [
    "CV_rfc.fit(X_train, y_train)\n",
    "print(CV_rfc.best_params_)"
   ]
  },
  {
   "cell_type": "code",
   "execution_count": 57,
   "metadata": {},
   "outputs": [],
   "source": [
    "results = pd.DataFrame(CV_rfc.cv_results_)"
   ]
  },
  {
   "cell_type": "code",
   "execution_count": 58,
   "metadata": {},
   "outputs": [
    {
     "data": {
      "text/plain": [
       "Index(['mean_fit_time', 'std_fit_time', 'mean_score_time', 'std_score_time',\n",
       "       'param_criterion', 'param_max_features', 'param_n_estimators', 'params',\n",
       "       'split0_test_score', 'split1_test_score', 'split2_test_score',\n",
       "       'split3_test_score', 'split4_test_score', 'mean_test_score',\n",
       "       'std_test_score', 'rank_test_score'],\n",
       "      dtype='object')"
      ]
     },
     "execution_count": 58,
     "metadata": {},
     "output_type": "execute_result"
    }
   ],
   "source": [
    "results.columns"
   ]
  },
  {
   "cell_type": "code",
   "execution_count": 59,
   "metadata": {},
   "outputs": [
    {
     "data": {
      "text/plain": [
       "0     {'criterion': 'gini', 'max_features': 'auto', ...\n",
       "1     {'criterion': 'gini', 'max_features': 'auto', ...\n",
       "2     {'criterion': 'gini', 'max_features': 'sqrt', ...\n",
       "3     {'criterion': 'gini', 'max_features': 'sqrt', ...\n",
       "4     {'criterion': 'gini', 'max_features': 'log2', ...\n",
       "5     {'criterion': 'gini', 'max_features': 'log2', ...\n",
       "6     {'criterion': 'entropy', 'max_features': 'auto...\n",
       "7     {'criterion': 'entropy', 'max_features': 'auto...\n",
       "8     {'criterion': 'entropy', 'max_features': 'sqrt...\n",
       "9     {'criterion': 'entropy', 'max_features': 'sqrt...\n",
       "10    {'criterion': 'entropy', 'max_features': 'log2...\n",
       "11    {'criterion': 'entropy', 'max_features': 'log2...\n",
       "Name: params, dtype: object"
      ]
     },
     "execution_count": 59,
     "metadata": {},
     "output_type": "execute_result"
    }
   ],
   "source": [
    "results.params"
   ]
  },
  {
   "cell_type": "markdown",
   "metadata": {},
   "source": [
    "## XGBOOST"
   ]
  },
  {
   "cell_type": "code",
   "execution_count": 156,
   "metadata": {
    "collapsed": true
   },
   "outputs": [],
   "source": [
    "import xgboost as xgb"
   ]
  },
  {
   "cell_type": "code",
   "execution_count": 225,
   "metadata": {},
   "outputs": [
    {
     "name": "stdout",
     "output_type": "stream",
     "text": [
      "[0]\tvalidation_0-error:0.01689\tvalidation_0-logloss:0.604473\tvalidation_1-error:0.018697\tvalidation_1-logloss:0.604822\n",
      "[1]\tvalidation_0-error:0.01689\tvalidation_0-logloss:0.531899\tvalidation_1-error:0.018697\tvalidation_1-logloss:0.532567\n",
      "[2]\tvalidation_0-error:0.01689\tvalidation_0-logloss:0.471496\tvalidation_1-error:0.018697\tvalidation_1-logloss:0.472458\n",
      "[3]\tvalidation_0-error:0.01689\tvalidation_0-logloss:0.420585\tvalidation_1-error:0.018697\tvalidation_1-logloss:0.421821\n",
      "[4]\tvalidation_0-error:0.01689\tvalidation_0-logloss:0.377257\tvalidation_1-error:0.018697\tvalidation_1-logloss:0.378752\n",
      "[5]\tvalidation_0-error:0.01689\tvalidation_0-logloss:0.340101\tvalidation_1-error:0.018697\tvalidation_1-logloss:0.341842\n",
      "[6]\tvalidation_0-error:0.01689\tvalidation_0-logloss:0.308045\tvalidation_1-error:0.018697\tvalidation_1-logloss:0.310021\n",
      "[7]\tvalidation_0-error:0.01689\tvalidation_0-logloss:0.280255\tvalidation_1-error:0.018697\tvalidation_1-logloss:0.282456\n",
      "[8]\tvalidation_0-error:0.01689\tvalidation_0-logloss:0.256068\tvalidation_1-error:0.018697\tvalidation_1-logloss:0.258487\n",
      "[9]\tvalidation_0-error:0.01689\tvalidation_0-logloss:0.234952\tvalidation_1-error:0.018697\tvalidation_1-logloss:0.237581\n",
      "[10]\tvalidation_0-error:0.01689\tvalidation_0-logloss:0.216471\tvalidation_1-error:0.018697\tvalidation_1-logloss:0.219304\n",
      "[11]\tvalidation_0-error:0.01689\tvalidation_0-logloss:0.200264\tvalidation_1-error:0.018697\tvalidation_1-logloss:0.203295\n",
      "[12]\tvalidation_0-error:0.01689\tvalidation_0-logloss:0.18603\tvalidation_1-error:0.018697\tvalidation_1-logloss:0.189253\n",
      "[13]\tvalidation_0-error:0.01689\tvalidation_0-logloss:0.173515\tvalidation_1-error:0.018697\tvalidation_1-logloss:0.176925\n",
      "[14]\tvalidation_0-error:0.01689\tvalidation_0-logloss:0.162503\tvalidation_1-error:0.018697\tvalidation_1-logloss:0.166095\n",
      "[15]\tvalidation_0-error:0.01689\tvalidation_0-logloss:0.15281\tvalidation_1-error:0.018697\tvalidation_1-logloss:0.15658\n",
      "[16]\tvalidation_0-error:0.01689\tvalidation_0-logloss:0.144276\tvalidation_1-error:0.018697\tvalidation_1-logloss:0.148219\n",
      "[17]\tvalidation_0-error:0.01689\tvalidation_0-logloss:0.136764\tvalidation_1-error:0.018697\tvalidation_1-logloss:0.140875\n",
      "[18]\tvalidation_0-error:0.01689\tvalidation_0-logloss:0.130153\tvalidation_1-error:0.018697\tvalidation_1-logloss:0.134429\n",
      "[19]\tvalidation_0-error:0.01689\tvalidation_0-logloss:0.124273\tvalidation_1-error:0.018697\tvalidation_1-logloss:0.128602\n",
      "[20]\tvalidation_0-error:0.01689\tvalidation_0-logloss:0.119099\tvalidation_1-error:0.018697\tvalidation_1-logloss:0.123586\n",
      "[21]\tvalidation_0-error:0.01689\tvalidation_0-logloss:0.114497\tvalidation_1-error:0.018697\tvalidation_1-logloss:0.119035\n",
      "[22]\tvalidation_0-error:0.01689\tvalidation_0-logloss:0.110454\tvalidation_1-error:0.018697\tvalidation_1-logloss:0.115142\n",
      "[23]\tvalidation_0-error:0.01689\tvalidation_0-logloss:0.106844\tvalidation_1-error:0.018697\tvalidation_1-logloss:0.111607\n",
      "[24]\tvalidation_0-error:0.01689\tvalidation_0-logloss:0.103613\tvalidation_1-error:0.018697\tvalidation_1-logloss:0.108297\n",
      "[25]\tvalidation_0-error:0.01689\tvalidation_0-logloss:0.100802\tvalidation_1-error:0.018697\tvalidation_1-logloss:0.105531\n",
      "[26]\tvalidation_0-error:0.01689\tvalidation_0-logloss:0.09829\tvalidation_1-error:0.018697\tvalidation_1-logloss:0.102939\n",
      "[27]\tvalidation_0-error:0.01689\tvalidation_0-logloss:0.096083\tvalidation_1-error:0.018697\tvalidation_1-logloss:0.100858\n",
      "[28]\tvalidation_0-error:0.01689\tvalidation_0-logloss:0.094126\tvalidation_1-error:0.018697\tvalidation_1-logloss:0.098824\n",
      "[29]\tvalidation_0-error:0.01689\tvalidation_0-logloss:0.092343\tvalidation_1-error:0.018697\tvalidation_1-logloss:0.097077\n",
      "[30]\tvalidation_0-error:0.01689\tvalidation_0-logloss:0.090795\tvalidation_1-error:0.018697\tvalidation_1-logloss:0.095564\n",
      "[31]\tvalidation_0-error:0.01689\tvalidation_0-logloss:0.089419\tvalidation_1-error:0.018697\tvalidation_1-logloss:0.094113\n",
      "[32]\tvalidation_0-error:0.01689\tvalidation_0-logloss:0.088171\tvalidation_1-error:0.018697\tvalidation_1-logloss:0.092898\n",
      "[33]\tvalidation_0-error:0.01689\tvalidation_0-logloss:0.08709\tvalidation_1-error:0.018697\tvalidation_1-logloss:0.091745\n",
      "[34]\tvalidation_0-error:0.01689\tvalidation_0-logloss:0.086115\tvalidation_1-error:0.018697\tvalidation_1-logloss:0.090801\n",
      "[35]\tvalidation_0-error:0.01689\tvalidation_0-logloss:0.085266\tvalidation_1-error:0.018697\tvalidation_1-logloss:0.089883\n",
      "[36]\tvalidation_0-error:0.01689\tvalidation_0-logloss:0.084506\tvalidation_1-error:0.018697\tvalidation_1-logloss:0.089151\n",
      "[37]\tvalidation_0-error:0.01689\tvalidation_0-logloss:0.08384\tvalidation_1-error:0.018697\tvalidation_1-logloss:0.088419\n",
      "[38]\tvalidation_0-error:0.01689\tvalidation_0-logloss:0.083249\tvalidation_1-error:0.018697\tvalidation_1-logloss:0.087853\n",
      "[39]\tvalidation_0-error:0.01689\tvalidation_0-logloss:0.082726\tvalidation_1-error:0.018697\tvalidation_1-logloss:0.087269\n",
      "[40]\tvalidation_0-error:0.01689\tvalidation_0-logloss:0.082268\tvalidation_1-error:0.018697\tvalidation_1-logloss:0.086832\n",
      "[41]\tvalidation_0-error:0.01689\tvalidation_0-logloss:0.081862\tvalidation_1-error:0.018697\tvalidation_1-logloss:0.086448\n",
      "[42]\tvalidation_0-error:0.01689\tvalidation_0-logloss:0.081496\tvalidation_1-error:0.018697\tvalidation_1-logloss:0.086025\n",
      "[43]\tvalidation_0-error:0.01689\tvalidation_0-logloss:0.081182\tvalidation_1-error:0.018697\tvalidation_1-logloss:0.085731\n",
      "[44]\tvalidation_0-error:0.01689\tvalidation_0-logloss:0.080895\tvalidation_1-error:0.018697\tvalidation_1-logloss:0.085391\n",
      "[45]\tvalidation_0-error:0.01689\tvalidation_0-logloss:0.080649\tvalidation_1-error:0.018697\tvalidation_1-logloss:0.085207\n",
      "[46]\tvalidation_0-error:0.01689\tvalidation_0-logloss:0.080429\tvalidation_1-error:0.018697\tvalidation_1-logloss:0.084938\n",
      "[47]\tvalidation_0-error:0.01689\tvalidation_0-logloss:0.08023\tvalidation_1-error:0.018697\tvalidation_1-logloss:0.084756\n",
      "[48]\tvalidation_0-error:0.01689\tvalidation_0-logloss:0.080058\tvalidation_1-error:0.018697\tvalidation_1-logloss:0.084539\n",
      "[49]\tvalidation_0-error:0.01689\tvalidation_0-logloss:0.079897\tvalidation_1-error:0.018697\tvalidation_1-logloss:0.084356\n",
      "[50]\tvalidation_0-error:0.01689\tvalidation_0-logloss:0.079759\tvalidation_1-error:0.018697\tvalidation_1-logloss:0.084177\n",
      "[51]\tvalidation_0-error:0.01689\tvalidation_0-logloss:0.079619\tvalidation_1-error:0.018697\tvalidation_1-logloss:0.084052\n",
      "[52]\tvalidation_0-error:0.01689\tvalidation_0-logloss:0.079485\tvalidation_1-error:0.018697\tvalidation_1-logloss:0.083985\n",
      "[53]\tvalidation_0-error:0.01689\tvalidation_0-logloss:0.07935\tvalidation_1-error:0.018697\tvalidation_1-logloss:0.083832\n",
      "[54]\tvalidation_0-error:0.01689\tvalidation_0-logloss:0.07922\tvalidation_1-error:0.018697\tvalidation_1-logloss:0.08377\n",
      "[55]\tvalidation_0-error:0.01689\tvalidation_0-logloss:0.079095\tvalidation_1-error:0.018697\tvalidation_1-logloss:0.083712\n",
      "[56]\tvalidation_0-error:0.01689\tvalidation_0-logloss:0.078973\tvalidation_1-error:0.018697\tvalidation_1-logloss:0.083606\n",
      "[57]\tvalidation_0-error:0.01689\tvalidation_0-logloss:0.07885\tvalidation_1-error:0.018697\tvalidation_1-logloss:0.083493\n",
      "[58]\tvalidation_0-error:0.01689\tvalidation_0-logloss:0.078731\tvalidation_1-error:0.018697\tvalidation_1-logloss:0.08344\n",
      "[59]\tvalidation_0-error:0.01689\tvalidation_0-logloss:0.078618\tvalidation_1-error:0.018697\tvalidation_1-logloss:0.083313\n",
      "[60]\tvalidation_0-error:0.01689\tvalidation_0-logloss:0.078504\tvalidation_1-error:0.018697\tvalidation_1-logloss:0.083265\n",
      "[61]\tvalidation_0-error:0.01689\tvalidation_0-logloss:0.078396\tvalidation_1-error:0.018697\tvalidation_1-logloss:0.08312\n",
      "[62]\tvalidation_0-error:0.01689\tvalidation_0-logloss:0.078288\tvalidation_1-error:0.018697\tvalidation_1-logloss:0.083018\n",
      "[63]\tvalidation_0-error:0.01689\tvalidation_0-logloss:0.078187\tvalidation_1-error:0.018697\tvalidation_1-logloss:0.082977\n",
      "[64]\tvalidation_0-error:0.01689\tvalidation_0-logloss:0.078089\tvalidation_1-error:0.018697\tvalidation_1-logloss:0.082867\n",
      "[65]\tvalidation_0-error:0.01689\tvalidation_0-logloss:0.077996\tvalidation_1-error:0.018697\tvalidation_1-logloss:0.082778\n",
      "[66]\tvalidation_0-error:0.01689\tvalidation_0-logloss:0.077902\tvalidation_1-error:0.018697\tvalidation_1-logloss:0.082649\n",
      "[67]\tvalidation_0-error:0.01689\tvalidation_0-logloss:0.077815\tvalidation_1-error:0.018697\tvalidation_1-logloss:0.082615\n",
      "[68]\tvalidation_0-error:0.01689\tvalidation_0-logloss:0.077732\tvalidation_1-error:0.018697\tvalidation_1-logloss:0.082565\n"
     ]
    },
    {
     "name": "stdout",
     "output_type": "stream",
     "text": [
      "[69]\tvalidation_0-error:0.01689\tvalidation_0-logloss:0.077651\tvalidation_1-error:0.018697\tvalidation_1-logloss:0.082487\n",
      "[70]\tvalidation_0-error:0.01689\tvalidation_0-logloss:0.077572\tvalidation_1-error:0.018697\tvalidation_1-logloss:0.082375\n",
      "[71]\tvalidation_0-error:0.01689\tvalidation_0-logloss:0.0775\tvalidation_1-error:0.018697\tvalidation_1-logloss:0.082294\n",
      "[72]\tvalidation_0-error:0.01689\tvalidation_0-logloss:0.077426\tvalidation_1-error:0.018697\tvalidation_1-logloss:0.082266\n",
      "[73]\tvalidation_0-error:0.01689\tvalidation_0-logloss:0.077357\tvalidation_1-error:0.018697\tvalidation_1-logloss:0.082199\n",
      "[74]\tvalidation_0-error:0.01689\tvalidation_0-logloss:0.077289\tvalidation_1-error:0.018697\tvalidation_1-logloss:0.082101\n",
      "[75]\tvalidation_0-error:0.01689\tvalidation_0-logloss:0.077226\tvalidation_1-error:0.018697\tvalidation_1-logloss:0.08201\n",
      "[76]\tvalidation_0-error:0.01689\tvalidation_0-logloss:0.077164\tvalidation_1-error:0.018697\tvalidation_1-logloss:0.081949\n",
      "[77]\tvalidation_0-error:0.01689\tvalidation_0-logloss:0.077107\tvalidation_1-error:0.018697\tvalidation_1-logloss:0.081864\n",
      "[78]\tvalidation_0-error:0.01689\tvalidation_0-logloss:0.077048\tvalidation_1-error:0.018697\tvalidation_1-logloss:0.081843\n",
      "[79]\tvalidation_0-error:0.01689\tvalidation_0-logloss:0.076993\tvalidation_1-error:0.018697\tvalidation_1-logloss:0.081778\n",
      "[80]\tvalidation_0-error:0.01689\tvalidation_0-logloss:0.076941\tvalidation_1-error:0.018697\tvalidation_1-logloss:0.081726\n",
      "[81]\tvalidation_0-error:0.01689\tvalidation_0-logloss:0.076891\tvalidation_1-error:0.018697\tvalidation_1-logloss:0.08165\n",
      "[82]\tvalidation_0-error:0.01689\tvalidation_0-logloss:0.076841\tvalidation_1-error:0.018697\tvalidation_1-logloss:0.081614\n",
      "[83]\tvalidation_0-error:0.017094\tvalidation_0-logloss:0.076794\tvalidation_1-error:0.018835\tvalidation_1-logloss:0.081544\n",
      "[84]\tvalidation_0-error:0.017094\tvalidation_0-logloss:0.076745\tvalidation_1-error:0.018835\tvalidation_1-logloss:0.081527\n",
      "[85]\tvalidation_0-error:0.017094\tvalidation_0-logloss:0.076701\tvalidation_1-error:0.018835\tvalidation_1-logloss:0.081497\n",
      "[86]\tvalidation_0-error:0.017094\tvalidation_0-logloss:0.076657\tvalidation_1-error:0.018835\tvalidation_1-logloss:0.081463\n",
      "[87]\tvalidation_0-error:0.017094\tvalidation_0-logloss:0.076614\tvalidation_1-error:0.018835\tvalidation_1-logloss:0.081419\n",
      "[88]\tvalidation_0-error:0.017094\tvalidation_0-logloss:0.076573\tvalidation_1-error:0.018835\tvalidation_1-logloss:0.081353\n",
      "[89]\tvalidation_0-error:0.01706\tvalidation_0-logloss:0.076533\tvalidation_1-error:0.018835\tvalidation_1-logloss:0.081316\n",
      "[90]\tvalidation_0-error:0.017094\tvalidation_0-logloss:0.076494\tvalidation_1-error:0.018835\tvalidation_1-logloss:0.081257\n",
      "[91]\tvalidation_0-error:0.01706\tvalidation_0-logloss:0.076455\tvalidation_1-error:0.018835\tvalidation_1-logloss:0.081244\n",
      "[92]\tvalidation_0-error:0.01706\tvalidation_0-logloss:0.076418\tvalidation_1-error:0.018835\tvalidation_1-logloss:0.081216\n",
      "[93]\tvalidation_0-error:0.01706\tvalidation_0-logloss:0.07638\tvalidation_1-error:0.018835\tvalidation_1-logloss:0.081169\n",
      "[94]\tvalidation_0-error:0.01706\tvalidation_0-logloss:0.076342\tvalidation_1-error:0.018835\tvalidation_1-logloss:0.081109\n",
      "[95]\tvalidation_0-error:0.01706\tvalidation_0-logloss:0.076305\tvalidation_1-error:0.018835\tvalidation_1-logloss:0.081065\n",
      "[96]\tvalidation_0-error:0.01706\tvalidation_0-logloss:0.076269\tvalidation_1-error:0.018835\tvalidation_1-logloss:0.081006\n",
      "[97]\tvalidation_0-error:0.01706\tvalidation_0-logloss:0.076233\tvalidation_1-error:0.018835\tvalidation_1-logloss:0.080969\n",
      "[98]\tvalidation_0-error:0.01706\tvalidation_0-logloss:0.076198\tvalidation_1-error:0.018835\tvalidation_1-logloss:0.08093\n",
      "[99]\tvalidation_0-error:0.01706\tvalidation_0-logloss:0.076163\tvalidation_1-error:0.018835\tvalidation_1-logloss:0.080889\n"
     ]
    }
   ],
   "source": [
    "model = xgb.XGBClassifier(max_depth=1)\n",
    "eval_set = [(X_train1, y_train1), (X_test1, y_test1)]\n",
    "model.fit(X_train1, y_train1, eval_metric=[\"error\", \"logloss\"], eval_set=eval_set, verbose=True)\n",
    "predictionsXG = model.predict(X_test1)"
   ]
  },
  {
   "cell_type": "markdown",
   "metadata": {},
   "source": [
    "# Logistic Regression"
   ]
  },
  {
   "cell_type": "code",
   "execution_count": 226,
   "metadata": {
    "collapsed": true
   },
   "outputs": [],
   "source": [
    "logmodel=LogisticRegression()\n",
    "logmodel.fit(X_train1,y_train1)\n",
    "predictionsLR = logmodel.predict(X_test1)"
   ]
  },
  {
   "cell_type": "code",
   "execution_count": 234,
   "metadata": {},
   "outputs": [
    {
     "name": "stdout",
     "output_type": "stream",
     "text": [
      "14494 14494\n",
      "14494\n"
     ]
    }
   ],
   "source": [
    "print(len(X_test1), len(y_test1))\n",
    "print(len(predictionsLR))"
   ]
  },
  {
   "cell_type": "markdown",
   "metadata": {},
   "source": [
    "# Prediction and Classifications"
   ]
  },
  {
   "cell_type": "markdown",
   "metadata": {},
   "source": [
    "Next step is to compare the performance of our models RandomForest, Logistic Regression and XGBOOST"
   ]
  },
  {
   "cell_type": "code",
   "execution_count": 185,
   "metadata": {
    "collapsed": true
   },
   "outputs": [],
   "source": [
    "from sklearn.metrics import classification_report, confusion_matrix, accuracy_score"
   ]
  },
  {
   "cell_type": "code",
   "execution_count": 186,
   "metadata": {
    "collapsed": true
   },
   "outputs": [],
   "source": [
    "from sklearn.ensemble import GradientBoostingClassifier\n"
   ]
  },
  {
   "cell_type": "code",
   "execution_count": 187,
   "metadata": {
    "collapsed": true
   },
   "outputs": [],
   "source": [
    "from sklearn.metrics import plot_roc_curve"
   ]
  },
  {
   "cell_type": "code",
   "execution_count": 240,
   "metadata": {},
   "outputs": [
    {
     "name": "stdout",
     "output_type": "stream",
     "text": [
      "              precision    recall  f1-score   support\n",
      "\n",
      "          -1       0.98      1.00      0.99     10374\n",
      "           1       1.00      0.96      0.98      4120\n",
      "\n",
      "    accuracy                           0.99     14494\n",
      "   macro avg       0.99      0.98      0.98     14494\n",
      "weighted avg       0.99      0.99      0.99     14494\n",
      "\n"
     ]
    }
   ],
   "source": [
    "print(classification_report(y_test1,predictionsRF))\n",
    "\n",
    "# Too high values to seem normal. Could be Overfitted"
   ]
  },
  {
   "cell_type": "code",
   "execution_count": 241,
   "metadata": {},
   "outputs": [
    {
     "data": {
      "text/plain": [
       "array([[10361,    13],\n",
       "       [  162,  3958]])"
      ]
     },
     "execution_count": 241,
     "metadata": {},
     "output_type": "execute_result"
    }
   ],
   "source": [
    "confusion_matrix(y_test,predictionsRF)\n",
    "# only 1 observation wrongly classified"
   ]
  },
  {
   "cell_type": "code",
   "execution_count": 236,
   "metadata": {},
   "outputs": [
    {
     "name": "stdout",
     "output_type": "stream",
     "text": [
      "              precision    recall  f1-score   support\n",
      "\n",
      "          -1       0.97      0.99      0.98     10374\n",
      "           1       0.98      0.91      0.94      4120\n",
      "\n",
      "    accuracy                           0.97     14494\n",
      "   macro avg       0.97      0.95      0.96     14494\n",
      "weighted avg       0.97      0.97      0.97     14494\n",
      "\n",
      "[[10298    76]\n",
      " [  370  3750]]\n"
     ]
    }
   ],
   "source": [
    "print(classification_report(y_test,predictionsLR))\n",
    "print(confusion_matrix(y_test,predictionsLR))"
   ]
  },
  {
   "cell_type": "code",
   "execution_count": 243,
   "metadata": {},
   "outputs": [
    {
     "name": "stdout",
     "output_type": "stream",
     "text": [
      "              precision    recall  f1-score   support\n",
      "\n",
      "          -1       0.98      0.99      0.99     10374\n",
      "           1       0.98      0.95      0.97      4120\n",
      "\n",
      "    accuracy                           0.98     14494\n",
      "   macro avg       0.98      0.97      0.98     14494\n",
      "weighted avg       0.98      0.98      0.98     14494\n",
      "\n",
      "[[10293    81]\n",
      " [  192  3928]]\n"
     ]
    }
   ],
   "source": [
    "print(classification_report(y_test,predictionsXG))\n",
    "print(confusion_matrix(y_test,predictionsXG))"
   ]
  },
  {
   "cell_type": "code",
   "execution_count": 242,
   "metadata": {},
   "outputs": [
    {
     "data": {
      "image/png": "[encoded data removed]",
      "text/plain": [
       "<Figure size 432x288 with 1 Axes>"
      ]
     },
     "metadata": {},
     "output_type": "display_data"
    }
   ],
   "source": [
    "ax = plt.gca()\n",
    "rf_roc = plot_roc_curve(rf, X_test, y_test,ax=ax, alpha=0.8)\n",
    "lr_roc = plot_roc_curve(logmodel, X_test, y_test,ax=ax, alpha=0.8)\n",
    "xg_roc = plot_roc_curve(model, X_test, y_test,ax=ax, alpha=0.8)\n",
    "plt.show()\n",
    "\n",
    "# We see the decision tree-based models are more accurate"
   ]
  },
  {
   "cell_type": "markdown",
   "metadata": {},
   "source": [
    "# Final Fitting"
   ]
  },
  {
   "cell_type": "code",
   "execution_count": 244,
   "metadata": {
    "collapsed": true
   },
   "outputs": [],
   "source": [
    "test=pd.read_csv('test1Final.csv')"
   ]
  },
  {
   "cell_type": "code",
   "execution_count": 245,
   "metadata": {
    "collapsed": true
   },
   "outputs": [],
   "source": [
    "X=test.drop([\"label\",\"purchaseTime\",'id'], axis=1)\n",
    "y=test['label']"
   ]
  },
  {
   "cell_type": "code",
   "execution_count": 246,
   "metadata": {
    "collapsed": true
   },
   "outputs": [],
   "source": [
    "for i in Numerical_Var:\n",
    "    x= X[[i]].values\n",
    "    scaler = preprocessing.StandardScaler()\n",
    "    x_scaled = scaler.fit_transform(x)\n",
    "    X[i]=x_scaled"
   ]
  },
  {
   "cell_type": "code",
   "execution_count": 247,
   "metadata": {},
   "outputs": [
    {
     "data": {
      "text/html": [
       "<div>\n",
       "<style scoped>\n",
       "    .dataframe tbody tr th:only-of-type {\n",
       "        vertical-align: middle;\n",
       "    }\n",
       "\n",
       "    .dataframe tbody tr th {\n",
       "        vertical-align: top;\n",
       "    }\n",
       "\n",
       "    .dataframe thead th {\n",
       "        text-align: right;\n",
       "    }\n",
       "</style>\n",
       "<table border=\"1\" class=\"dataframe\">\n",
       "  <thead>\n",
       "    <tr style=\"text-align: right;\">\n",
       "      <th></th>\n",
       "      <th>visitTime</th>\n",
       "      <th>hour</th>\n",
       "      <th>C1</th>\n",
       "      <th>C2</th>\n",
       "      <th>C3</th>\n",
       "      <th>C4</th>\n",
       "      <th>C5</th>\n",
       "      <th>C6</th>\n",
       "      <th>C7</th>\n",
       "      <th>C8</th>\n",
       "      <th>...</th>\n",
       "      <th>N4</th>\n",
       "      <th>N5</th>\n",
       "      <th>N6</th>\n",
       "      <th>N7</th>\n",
       "      <th>N8</th>\n",
       "      <th>N9</th>\n",
       "      <th>N10</th>\n",
       "      <th>C10</th>\n",
       "      <th>C11</th>\n",
       "      <th>C12</th>\n",
       "    </tr>\n",
       "  </thead>\n",
       "  <tbody>\n",
       "    <tr>\n",
       "      <th>0</th>\n",
       "      <td>19360733</td>\n",
       "      <td>0</td>\n",
       "      <td>2569487005</td>\n",
       "      <td>403381353</td>\n",
       "      <td>681762206</td>\n",
       "      <td>652481754</td>\n",
       "      <td>2967512603</td>\n",
       "      <td>580883881</td>\n",
       "      <td>2303407174</td>\n",
       "      <td>157533148</td>\n",
       "      <td>...</td>\n",
       "      <td>-0.102243</td>\n",
       "      <td>-0.01346</td>\n",
       "      <td>-0.047226</td>\n",
       "      <td>-0.032181</td>\n",
       "      <td>-0.127852</td>\n",
       "      <td>-0.033793</td>\n",
       "      <td>-0.041962</td>\n",
       "      <td>2128770044</td>\n",
       "      <td>3617851689</td>\n",
       "      <td>4220791646</td>\n",
       "    </tr>\n",
       "    <tr>\n",
       "      <th>1</th>\n",
       "      <td>19360734</td>\n",
       "      <td>0</td>\n",
       "      <td>2416811818</td>\n",
       "      <td>1235983246</td>\n",
       "      <td>3653557526</td>\n",
       "      <td>652481754</td>\n",
       "      <td>2116767313</td>\n",
       "      <td>571765677</td>\n",
       "      <td>2303407174</td>\n",
       "      <td>2374954832</td>\n",
       "      <td>...</td>\n",
       "      <td>-0.102243</td>\n",
       "      <td>-0.01346</td>\n",
       "      <td>-0.047226</td>\n",
       "      <td>-0.032181</td>\n",
       "      <td>-0.127852</td>\n",
       "      <td>-0.033793</td>\n",
       "      <td>-0.041962</td>\n",
       "      <td>4256459078</td>\n",
       "      <td>2379633508</td>\n",
       "      <td>1284343215</td>\n",
       "    </tr>\n",
       "    <tr>\n",
       "      <th>2</th>\n",
       "      <td>19360735</td>\n",
       "      <td>0</td>\n",
       "      <td>3765056181</td>\n",
       "      <td>1235983246</td>\n",
       "      <td>1310333812</td>\n",
       "      <td>652481754</td>\n",
       "      <td>2116767313</td>\n",
       "      <td>571765677</td>\n",
       "      <td>2303407174</td>\n",
       "      <td>2374954832</td>\n",
       "      <td>...</td>\n",
       "      <td>-0.102243</td>\n",
       "      <td>-0.01346</td>\n",
       "      <td>-0.047226</td>\n",
       "      <td>-0.032181</td>\n",
       "      <td>-0.127852</td>\n",
       "      <td>-0.033793</td>\n",
       "      <td>-0.041962</td>\n",
       "      <td>2840358457</td>\n",
       "      <td>3831440054</td>\n",
       "      <td>1213938795</td>\n",
       "    </tr>\n",
       "    <tr>\n",
       "      <th>3</th>\n",
       "      <td>19360737</td>\n",
       "      <td>0</td>\n",
       "      <td>955802445</td>\n",
       "      <td>403381353</td>\n",
       "      <td>2290282995</td>\n",
       "      <td>652481754</td>\n",
       "      <td>2967512603</td>\n",
       "      <td>1607619193</td>\n",
       "      <td>1342367140</td>\n",
       "      <td>3588031319</td>\n",
       "      <td>...</td>\n",
       "      <td>-0.102243</td>\n",
       "      <td>-0.01346</td>\n",
       "      <td>-0.047226</td>\n",
       "      <td>-0.032181</td>\n",
       "      <td>-0.127852</td>\n",
       "      <td>-0.033793</td>\n",
       "      <td>-0.041962</td>\n",
       "      <td>4039873369</td>\n",
       "      <td>535829057</td>\n",
       "      <td>3828748840</td>\n",
       "    </tr>\n",
       "    <tr>\n",
       "      <th>4</th>\n",
       "      <td>19360752</td>\n",
       "      <td>0</td>\n",
       "      <td>2569487005</td>\n",
       "      <td>2517724481</td>\n",
       "      <td>2463986301</td>\n",
       "      <td>2308170622</td>\n",
       "      <td>2967512603</td>\n",
       "      <td>580883881</td>\n",
       "      <td>2303407174</td>\n",
       "      <td>157533148</td>\n",
       "      <td>...</td>\n",
       "      <td>-0.102243</td>\n",
       "      <td>-0.01346</td>\n",
       "      <td>-0.047226</td>\n",
       "      <td>-0.032181</td>\n",
       "      <td>-0.127852</td>\n",
       "      <td>-0.033793</td>\n",
       "      <td>-0.041962</td>\n",
       "      <td>907610626</td>\n",
       "      <td>3617851689</td>\n",
       "      <td>4220791646</td>\n",
       "    </tr>\n",
       "  </tbody>\n",
       "</table>\n",
       "<p>5 rows × 24 columns</p>\n",
       "</div>"
      ],
      "text/plain": [
       "   visitTime  hour          C1          C2          C3          C4  \\\n",
       "0   19360733     0  2569487005   403381353   681762206   652481754   \n",
       "1   19360734     0  2416811818  1235983246  3653557526   652481754   \n",
       "2   19360735     0  3765056181  1235983246  1310333812   652481754   \n",
       "3   19360737     0   955802445   403381353  2290282995   652481754   \n",
       "4   19360752     0  2569487005  2517724481  2463986301  2308170622   \n",
       "\n",
       "           C5          C6          C7          C8  ...        N4       N5  \\\n",
       "0  2967512603   580883881  2303407174   157533148  ... -0.102243 -0.01346   \n",
       "1  2116767313   571765677  2303407174  2374954832  ... -0.102243 -0.01346   \n",
       "2  2116767313   571765677  2303407174  2374954832  ... -0.102243 -0.01346   \n",
       "3  2967512603  1607619193  1342367140  3588031319  ... -0.102243 -0.01346   \n",
       "4  2967512603   580883881  2303407174   157533148  ... -0.102243 -0.01346   \n",
       "\n",
       "         N6        N7        N8        N9       N10         C10         C11  \\\n",
       "0 -0.047226 -0.032181 -0.127852 -0.033793 -0.041962  2128770044  3617851689   \n",
       "1 -0.047226 -0.032181 -0.127852 -0.033793 -0.041962  4256459078  2379633508   \n",
       "2 -0.047226 -0.032181 -0.127852 -0.033793 -0.041962  2840358457  3831440054   \n",
       "3 -0.047226 -0.032181 -0.127852 -0.033793 -0.041962  4039873369   535829057   \n",
       "4 -0.047226 -0.032181 -0.127852 -0.033793 -0.041962   907610626  3617851689   \n",
       "\n",
       "          C12  \n",
       "0  4220791646  \n",
       "1  1284343215  \n",
       "2  1213938795  \n",
       "3  3828748840  \n",
       "4  4220791646  \n",
       "\n",
       "[5 rows x 24 columns]"
      ]
     },
     "execution_count": 247,
     "metadata": {},
     "output_type": "execute_result"
    }
   ],
   "source": [
    "X.head()"
   ]
  },
  {
   "cell_type": "code",
   "execution_count": 290,
   "metadata": {
    "collapsed": true
   },
   "outputs": [],
   "source": [
    "Y_pred = rf.predict_proba(X)\n",
    "Ypred = pd.DataFrame(Y_pred)\n",
    "test1 = test.id"
   ]
  },
  {
   "cell_type": "code",
   "execution_count": 296,
   "metadata": {
    "collapsed": true
   },
   "outputs": [],
   "source": [
    "Final_Pred = pd.concat([test1.reset_index(drop=True), Ypred.iloc[:,1].reset_index(drop=True)], axis=1)"
   ]
  },
  {
   "cell_type": "code",
   "execution_count": 298,
   "metadata": {
    "collapsed": true
   },
   "outputs": [],
   "source": [
    "Final_Pred.to_csv('/Users/JohanLg/Documents/My Documents/ESCP/Kurser/Vår/Python/Assignment_23_e197443.csv')"
   ]
  },
  {
   "cell_type": "code",
   "execution_count": null,
   "metadata": {
    "collapsed": true
   },
   "outputs": [],
   "source": []
  }
 ],
 "metadata": {
  "kernelspec": {
   "display_name": "Python 3",
   "language": "python",
   "name": "python3"
  },
  "language_info": {
   "codemirror_mode": {
    "name": "ipython",
    "version": 3
   },
   "file_extension": ".py",
   "mimetype": "text/x-python",
   "name": "python",
   "nbconvert_exporter": "python",
   "pygments_lexer": "ipython3",
   "version": "3.6.2"
  }
 },
 "nbformat": 4,
 "nbformat_minor": 2
}
