{
 "cells": [
  {
   "cell_type": "markdown",
   "metadata": {},
   "source": [
    "# Connecting To PostGres with Python\n",
    "\n",
    "In this notebook, I want to showcase how the psycopg2 library can help us execute SQL-queries directly in a python terminal, IDE or notebook. \n",
    "\n",
    "The 'SuperMarketTransactions' csv-file has been uploaded to my localhost on PostGres. It includes data over fictional transactions in a pan-american sueprmarket, and we will use SQL to retreive insights on the behaviour of these customers\n"
   ]
  },
  {
   "cell_type": "code",
   "execution_count": 30,
   "metadata": {
    "collapsed": true
   },
   "outputs": [],
   "source": [
    "import psycopg2\n",
    "import pandas as pd"
   ]
  },
  {
   "cell_type": "markdown",
   "metadata": {},
   "source": [
    "Every PostGres database has the following specs that are needed to connect to it"
   ]
  },
  {
   "cell_type": "code",
   "execution_count": 12,
   "metadata": {
    "collapsed": true
   },
   "outputs": [],
   "source": [
    "DB_NAME = \"TestData\"\n",
    "DB_USER = \"postgres\"\n",
    "DB_HOST = \"localhost\"\n",
    "DB_PORT = \"5432\""
   ]
  },
  {
   "cell_type": "markdown",
   "metadata": {},
   "source": [
    "psycopg2 creates a \"cursor\" with which we can \"fetch\" data from the DB"
   ]
  },
  {
   "cell_type": "code",
   "execution_count": 197,
   "metadata": {},
   "outputs": [
    {
     "name": "stdout",
     "output_type": "stream",
     "text": [
      "connected\n"
     ]
    }
   ],
   "source": [
    "try:\n",
    "    conn = psycopg2.connect(database = DB_NAME, user = DB_USER,\n",
    "                            host = DB_HOST, port = DB_PORT)\n",
    "    print('connected')\n",
    "except:\n",
    "    print('not connected')"
   ]
  },
  {
   "cell_type": "markdown",
   "metadata": {},
   "source": [
    "Now that we've established a connection, lets write a function to retreive the data based an a Query (here called Q). Then, we fetch the raw SQL and turn it into a dataframe with it's accompanying column names  "
   ]
  },
  {
   "cell_type": "code",
   "execution_count": 201,
   "metadata": {},
   "outputs": [],
   "source": [
    "def SQL_Query(Q):\n",
    "    \n",
    "    try:\n",
    "        conn = psycopg2.connect(database = DB_NAME, user = DB_USER,\n",
    "                            host = DB_HOST, port = DB_PORT)\n",
    "        print('connected')\n",
    "    except:\n",
    "        print('not connected')\n",
    "    \n",
    "    cur = conn.cursor()\n",
    "    cur.execute(Q)\n",
    "    rows = cur.fetchall()\n",
    "    Data = pd.DataFrame(rows)\n",
    "    colname= [desc[0] for desc in cur.description]\n",
    "    Data.columns = colname\n",
    "    return(Data)\n",
    "    curr.close()\n",
    "    conn.close()"
   ]
  },
  {
   "cell_type": "markdown",
   "metadata": {},
   "source": [
    "Let's test it out! We start simply and call the average number of children of the customers by country the operate in"
   ]
  },
  {
   "cell_type": "code",
   "execution_count": 202,
   "metadata": {},
   "outputs": [],
   "source": [
    "QUERY = '''SELECT country,round(avg(children),2) as avg_children\n",
    "           FROM sales.super \n",
    "           GROUP BY country \n",
    "           LIMIT 5 '''"
   ]
  },
  {
   "cell_type": "code",
   "execution_count": 203,
   "metadata": {},
   "outputs": [
    {
     "name": "stdout",
     "output_type": "stream",
     "text": [
      "connected\n"
     ]
    },
    {
     "data": {
      "text/html": [
       "<div>\n",
       "<style scoped>\n",
       "    .dataframe tbody tr th:only-of-type {\n",
       "        vertical-align: middle;\n",
       "    }\n",
       "\n",
       "    .dataframe tbody tr th {\n",
       "        vertical-align: top;\n",
       "    }\n",
       "\n",
       "    .dataframe thead th {\n",
       "        text-align: right;\n",
       "    }\n",
       "</style>\n",
       "<table border=\"1\" class=\"dataframe\">\n",
       "  <thead>\n",
       "    <tr style=\"text-align: right;\">\n",
       "      <th></th>\n",
       "      <th>country</th>\n",
       "      <th>avg_children</th>\n",
       "    </tr>\n",
       "  </thead>\n",
       "  <tbody>\n",
       "    <tr>\n",
       "      <th>0</th>\n",
       "      <td>Canada</td>\n",
       "      <td>2.51</td>\n",
       "    </tr>\n",
       "    <tr>\n",
       "      <th>1</th>\n",
       "      <td>Mexico</td>\n",
       "      <td>2.54</td>\n",
       "    </tr>\n",
       "    <tr>\n",
       "      <th>2</th>\n",
       "      <td>USA</td>\n",
       "      <td>2.57</td>\n",
       "    </tr>\n",
       "  </tbody>\n",
       "</table>\n",
       "</div>"
      ],
      "text/plain": [
       "  country avg_children\n",
       "0  Canada         2.51\n",
       "1  Mexico         2.54\n",
       "2     USA         2.57"
      ]
     },
     "execution_count": 203,
     "metadata": {},
     "output_type": "execute_result"
    }
   ],
   "source": [
    "SQL_Query(QUERY)"
   ]
  },
  {
   "cell_type": "markdown",
   "metadata": {},
   "source": [
    "It works! We see that even the alias was included. Let's try something more complicated, like incorporating a window function. In the Query below, we look at total revenue per city, ranked from highest to lowest, but also the ranking within country (Hidalgo bering the top performer in Mexico but only 7th overall."
   ]
  },
  {
   "cell_type": "code",
   "execution_count": 204,
   "metadata": {
    "collapsed": true
   },
   "outputs": [],
   "source": [
    "QUERY1 = '''SELECT country, city, round(sum(revenue),2) as tot_rev,\n",
    "                   RANK() OVER(ORDER BY round(sum(revenue),2)DESC),\n",
    "                   RANK() OVER(PARTITION BY Country ORDER BY round(sum(revenue),2) DESC)\n",
    "            FROM sales.super\n",
    "            GROUP BY city, Country\n",
    "            ORDER BY 3 DESC\n",
    "            LIMIT 10'''"
   ]
  },
  {
   "cell_type": "code",
   "execution_count": 205,
   "metadata": {},
   "outputs": [
    {
     "name": "stdout",
     "output_type": "stream",
     "text": [
      "connected\n"
     ]
    },
    {
     "data": {
      "text/html": [
       "<div>\n",
       "<style scoped>\n",
       "    .dataframe tbody tr th:only-of-type {\n",
       "        vertical-align: middle;\n",
       "    }\n",
       "\n",
       "    .dataframe tbody tr th {\n",
       "        vertical-align: top;\n",
       "    }\n",
       "\n",
       "    .dataframe thead th {\n",
       "        text-align: right;\n",
       "    }\n",
       "</style>\n",
       "<table border=\"1\" class=\"dataframe\">\n",
       "  <thead>\n",
       "    <tr style=\"text-align: right;\">\n",
       "      <th></th>\n",
       "      <th>country</th>\n",
       "      <th>city</th>\n",
       "      <th>tot_rev</th>\n",
       "      <th>rank</th>\n",
       "      <th>rank</th>\n",
       "    </tr>\n",
       "  </thead>\n",
       "  <tbody>\n",
       "    <tr>\n",
       "      <th>0</th>\n",
       "      <td>USA</td>\n",
       "      <td>Salem</td>\n",
       "      <td>4647.42</td>\n",
       "      <td>1</td>\n",
       "      <td>1</td>\n",
       "    </tr>\n",
       "    <tr>\n",
       "      <th>1</th>\n",
       "      <td>USA</td>\n",
       "      <td>Tacoma</td>\n",
       "      <td>4428.90</td>\n",
       "      <td>2</td>\n",
       "      <td>2</td>\n",
       "    </tr>\n",
       "    <tr>\n",
       "      <th>2</th>\n",
       "      <td>USA</td>\n",
       "      <td>Portland</td>\n",
       "      <td>3118.70</td>\n",
       "      <td>3</td>\n",
       "      <td>3</td>\n",
       "    </tr>\n",
       "    <tr>\n",
       "      <th>3</th>\n",
       "      <td>USA</td>\n",
       "      <td>Bremerton</td>\n",
       "      <td>3060.50</td>\n",
       "      <td>4</td>\n",
       "      <td>4</td>\n",
       "    </tr>\n",
       "    <tr>\n",
       "      <th>4</th>\n",
       "      <td>USA</td>\n",
       "      <td>Seattle</td>\n",
       "      <td>2972.34</td>\n",
       "      <td>5</td>\n",
       "      <td>5</td>\n",
       "    </tr>\n",
       "    <tr>\n",
       "      <th>5</th>\n",
       "      <td>USA</td>\n",
       "      <td>Los Angeles</td>\n",
       "      <td>2727.30</td>\n",
       "      <td>6</td>\n",
       "      <td>6</td>\n",
       "    </tr>\n",
       "    <tr>\n",
       "      <th>6</th>\n",
       "      <td>Mexico</td>\n",
       "      <td>Hidalgo</td>\n",
       "      <td>2427.70</td>\n",
       "      <td>7</td>\n",
       "      <td>1</td>\n",
       "    </tr>\n",
       "    <tr>\n",
       "      <th>7</th>\n",
       "      <td>USA</td>\n",
       "      <td>San Diego</td>\n",
       "      <td>2275.54</td>\n",
       "      <td>8</td>\n",
       "      <td>7</td>\n",
       "    </tr>\n",
       "    <tr>\n",
       "      <th>8</th>\n",
       "      <td>Mexico</td>\n",
       "      <td>Merida</td>\n",
       "      <td>2239.84</td>\n",
       "      <td>9</td>\n",
       "      <td>2</td>\n",
       "    </tr>\n",
       "    <tr>\n",
       "      <th>9</th>\n",
       "      <td>USA</td>\n",
       "      <td>Spokane</td>\n",
       "      <td>2193.92</td>\n",
       "      <td>10</td>\n",
       "      <td>8</td>\n",
       "    </tr>\n",
       "  </tbody>\n",
       "</table>\n",
       "</div>"
      ],
      "text/plain": [
       "  country         city  tot_rev  rank  rank\n",
       "0     USA        Salem  4647.42     1     1\n",
       "1     USA       Tacoma  4428.90     2     2\n",
       "2     USA     Portland  3118.70     3     3\n",
       "3     USA    Bremerton  3060.50     4     4\n",
       "4     USA      Seattle  2972.34     5     5\n",
       "5     USA  Los Angeles  2727.30     6     6\n",
       "6  Mexico      Hidalgo  2427.70     7     1\n",
       "7     USA    San Diego  2275.54     8     7\n",
       "8  Mexico       Merida  2239.84     9     2\n",
       "9     USA      Spokane  2193.92    10     8"
      ]
     },
     "execution_count": 205,
     "metadata": {},
     "output_type": "execute_result"
    }
   ],
   "source": [
    "SQL_Query(QUERY1)"
   ]
  },
  {
   "cell_type": "markdown",
   "metadata": {},
   "source": [
    "What drives profitability in these stores? We can have a look at the customerbase to get a better understanding\n"
   ]
  },
  {
   "cell_type": "code",
   "execution_count": 218,
   "metadata": {
    "collapsed": true
   },
   "outputs": [],
   "source": [
    "Query2 = '''SELECT state_or_province,\n",
    "                   round(avg(numerical_income),2) as avg_income,\n",
    "                   round(avg(children),2) as avg_children,\n",
    "                   round(avg(units_sold),2) as avg_basket_size,\n",
    "                   round(avg(revenue),2) as avg_spend,\n",
    "                   round((avg(CASE WHEN homeowner ='Y' THEN 1\n",
    "                        ELSE 0 END) * 100),2) as home_ownership_percentage\n",
    "            FROM sales.super\n",
    "            GROUP BY state_or_province\n",
    "            ORDER BY avg_spend DESC\n",
    "            LIMIT 10''' "
   ]
  },
  {
   "cell_type": "code",
   "execution_count": 219,
   "metadata": {},
   "outputs": [
    {
     "name": "stdout",
     "output_type": "stream",
     "text": [
      "connected\n"
     ]
    },
    {
     "data": {
      "text/html": [
       "<div>\n",
       "<style scoped>\n",
       "    .dataframe tbody tr th:only-of-type {\n",
       "        vertical-align: middle;\n",
       "    }\n",
       "\n",
       "    .dataframe tbody tr th {\n",
       "        vertical-align: top;\n",
       "    }\n",
       "\n",
       "    .dataframe thead th {\n",
       "        text-align: right;\n",
       "    }\n",
       "</style>\n",
       "<table border=\"1\" class=\"dataframe\">\n",
       "  <thead>\n",
       "    <tr style=\"text-align: right;\">\n",
       "      <th></th>\n",
       "      <th>state_or_province</th>\n",
       "      <th>avg_income</th>\n",
       "      <th>avg_children</th>\n",
       "      <th>avg_basket_size</th>\n",
       "      <th>avg_spend</th>\n",
       "      <th>home_ownership_percentage</th>\n",
       "    </tr>\n",
       "  </thead>\n",
       "  <tbody>\n",
       "    <tr>\n",
       "      <th>0</th>\n",
       "      <td>Guerrero</td>\n",
       "      <td>52765.96</td>\n",
       "      <td>2.74</td>\n",
       "      <td>4.38</td>\n",
       "      <td>15.97</td>\n",
       "      <td>55.32</td>\n",
       "    </tr>\n",
       "    <tr>\n",
       "      <th>1</th>\n",
       "      <td>DF</td>\n",
       "      <td>55268.82</td>\n",
       "      <td>2.51</td>\n",
       "      <td>4.16</td>\n",
       "      <td>15.06</td>\n",
       "      <td>62.37</td>\n",
       "    </tr>\n",
       "    <tr>\n",
       "      <th>2</th>\n",
       "      <td>Yucatan</td>\n",
       "      <td>62400.00</td>\n",
       "      <td>2.59</td>\n",
       "      <td>4.29</td>\n",
       "      <td>14.93</td>\n",
       "      <td>68.00</td>\n",
       "    </tr>\n",
       "    <tr>\n",
       "      <th>3</th>\n",
       "      <td>OR</td>\n",
       "      <td>57777.78</td>\n",
       "      <td>2.52</td>\n",
       "      <td>4.11</td>\n",
       "      <td>14.88</td>\n",
       "      <td>60.92</td>\n",
       "    </tr>\n",
       "    <tr>\n",
       "      <th>4</th>\n",
       "      <td>BC</td>\n",
       "      <td>57631.58</td>\n",
       "      <td>2.51</td>\n",
       "      <td>3.88</td>\n",
       "      <td>14.83</td>\n",
       "      <td>64.47</td>\n",
       "    </tr>\n",
       "    <tr>\n",
       "      <th>5</th>\n",
       "      <td>Zacatecas</td>\n",
       "      <td>57517.24</td>\n",
       "      <td>2.41</td>\n",
       "      <td>3.97</td>\n",
       "      <td>14.54</td>\n",
       "      <td>63.45</td>\n",
       "    </tr>\n",
       "    <tr>\n",
       "      <th>6</th>\n",
       "      <td>WA</td>\n",
       "      <td>59388.49</td>\n",
       "      <td>2.59</td>\n",
       "      <td>3.99</td>\n",
       "      <td>12.85</td>\n",
       "      <td>63.49</td>\n",
       "    </tr>\n",
       "    <tr>\n",
       "      <th>7</th>\n",
       "      <td>CA</td>\n",
       "      <td>59860.63</td>\n",
       "      <td>2.57</td>\n",
       "      <td>4.16</td>\n",
       "      <td>12.80</td>\n",
       "      <td>66.20</td>\n",
       "    </tr>\n",
       "    <tr>\n",
       "      <th>8</th>\n",
       "      <td>Veracruz</td>\n",
       "      <td>69130.43</td>\n",
       "      <td>2.63</td>\n",
       "      <td>3.93</td>\n",
       "      <td>12.73</td>\n",
       "      <td>65.22</td>\n",
       "    </tr>\n",
       "    <tr>\n",
       "      <th>9</th>\n",
       "      <td>Jalisco</td>\n",
       "      <td>50000.00</td>\n",
       "      <td>2.79</td>\n",
       "      <td>2.57</td>\n",
       "      <td>7.88</td>\n",
       "      <td>35.71</td>\n",
       "    </tr>\n",
       "  </tbody>\n",
       "</table>\n",
       "</div>"
      ],
      "text/plain": [
       "  state_or_province avg_income avg_children avg_basket_size avg_spend  \\\n",
       "0          Guerrero   52765.96         2.74            4.38     15.97   \n",
       "1                DF   55268.82         2.51            4.16     15.06   \n",
       "2           Yucatan   62400.00         2.59            4.29     14.93   \n",
       "3                OR   57777.78         2.52            4.11     14.88   \n",
       "4                BC   57631.58         2.51            3.88     14.83   \n",
       "5         Zacatecas   57517.24         2.41            3.97     14.54   \n",
       "6                WA   59388.49         2.59            3.99     12.85   \n",
       "7                CA   59860.63         2.57            4.16     12.80   \n",
       "8          Veracruz   69130.43         2.63            3.93     12.73   \n",
       "9           Jalisco   50000.00         2.79            2.57      7.88   \n",
       "\n",
       "  home_ownership_percentage  \n",
       "0                     55.32  \n",
       "1                     62.37  \n",
       "2                     68.00  \n",
       "3                     60.92  \n",
       "4                     64.47  \n",
       "5                     63.45  \n",
       "6                     63.49  \n",
       "7                     66.20  \n",
       "8                     65.22  \n",
       "9                     35.71  "
      ]
     },
     "execution_count": 219,
     "metadata": {},
     "output_type": "execute_result"
    }
   ],
   "source": [
    "SQL_Query(Query2)"
   ]
  },
  {
   "cell_type": "code",
   "execution_count": null,
   "metadata": {
    "collapsed": true
   },
   "outputs": [],
   "source": []
  }
 ],
 "metadata": {
  "kernelspec": {
   "display_name": "Python 3",
   "language": "python",
   "name": "python3"
  },
  "language_info": {
   "codemirror_mode": {
    "name": "ipython",
    "version": 3
   },
   "file_extension": ".py",
   "mimetype": "text/x-python",
   "name": "python",
   "nbconvert_exporter": "python",
   "pygments_lexer": "ipython3",
   "version": "3.6.2"
  }
 },
 "nbformat": 4,
 "nbformat_minor": 2
}
