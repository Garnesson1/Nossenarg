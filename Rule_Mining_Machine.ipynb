{
 "cells": [
  {
   "cell_type": "markdown",
   "metadata": {},
   "source": [
    "## Features based on Association Rules "
   ]
  },
  {
   "cell_type": "markdown",
   "metadata": {},
   "source": [
    "In this notebook we, we will try to understand machine failure using sensor data. The failures are be recorded as Codes ranging from 0 to 1000. The codes could have different meaning (like full stop of the engine, warnings, communication problems). Some codes lead to longer failures (10 hours) but most errors won't even stop the machine.\n",
    "\n",
    "My first intution was that before a prolonged failure, a certain set of warnings or errors might preced them. If the company could know which error-codes have a tendency to precede a full-stop, this could be tracked as KPI (ex Critical Warnings/Week) to better anticipate failure. \n",
    "\n",
    "## ENTER the Association Rule Miner! \n",
    "\n",
    "Association Rule Mining, also known as Market Basket, is a technique used in marketing to decide which products are frequently bought together. It calculates confidence (amount of pairs bought together/all) and support (how frequently the pair appears /all) to show patterns in objects.\n",
    "\n",
    "With this approach, we will try to find which error codes seem to happen the week before a failure! "
   ]
  },
  {
   "cell_type": "code",
   "execution_count": 1,
   "metadata": {
    "collapsed": true
   },
   "outputs": [],
   "source": [
    "#!pip install mlxtend"
   ]
  },
  {
   "cell_type": "code",
   "execution_count": 1,
   "metadata": {
    "collapsed": true
   },
   "outputs": [],
   "source": [
    "import pandas as pd \n",
    "from mlxtend.frequent_patterns import apriori\n",
    "from mlxtend.frequent_patterns import association_rules"
   ]
  },
  {
   "cell_type": "code",
   "execution_count": 56,
   "metadata": {
    "collapsed": true
   },
   "outputs": [],
   "source": [
    "import os as os \n",
    "os.chdir('-----')"
   ]
  },
  {
   "cell_type": "code",
   "execution_count": 3,
   "metadata": {},
   "outputs": [
    {
     "name": "stderr",
     "output_type": "stream",
     "text": [
      "/anaconda/lib/python3.6/site-packages/IPython/core/interactiveshell.py:2698: DtypeWarning: Columns (0,1,2,3,4,5,6,32,33,34,35,36,37,38,40,41,42,50) have mixed types.Specify dtype option on import or set low_memory=False.\n",
      "  interactivity=interactivity, compiler=compiler, result=result)\n"
     ]
    }
   ],
   "source": [
    "data = pd.read_csv('----\")"
   ]
  },
  {
   "cell_type": "markdown",
   "metadata": {},
   "source": [
    "# Cleaning \n",
    "\n",
    "The dataset has a \"countdown\" feature that counts the number of instances between each important failure of the turbine. As the data is divided in to 10 min cycles, we filter out all cycles above 1000 (1000 x 10min ~= 1 week) "
   ]
  },
  {
   "cell_type": "code",
   "execution_count": 4,
   "metadata": {
    "collapsed": true
   },
   "outputs": [],
   "source": [
    "Apriori = data[data.Countdown < 1000]"
   ]
  },
  {
   "cell_type": "code",
   "execution_count": 5,
   "metadata": {
    "collapsed": true
   },
   "outputs": [],
   "source": [
    "New = Apriori.iloc[:,[52,54,55,56]]"
   ]
  },
  {
   "cell_type": "code",
   "execution_count": 6,
   "metadata": {},
   "outputs": [
    {
     "data": {
      "text/plain": [
       "Code         float64\n",
       "Comment       object\n",
       "Countdown    float64\n",
       "Group        float64\n",
       "dtype: object"
      ]
     },
     "execution_count": 6,
     "metadata": {},
     "output_type": "execute_result"
    }
   ],
   "source": [
    "New.dtypes"
   ]
  },
  {
   "cell_type": "code",
   "execution_count": 7,
   "metadata": {
    "collapsed": true,
    "scrolled": true
   },
   "outputs": [],
   "source": [
    "New2 = New[(New['Code']!= 9997) &(New['Code'] != 900)]"
   ]
  },
  {
   "cell_type": "markdown",
   "metadata": {},
   "source": [
    "As we can see below, each coundown til failure is also assigned a \"group\". This value is arbitrary and is just a way for the association rule miner to recoginse \"transactions\", which in this case is represented as the errors in a 1-week cycle"
   ]
  },
  {
   "cell_type": "code",
   "execution_count": 11,
   "metadata": {},
   "outputs": [
    {
     "data": {
      "text/html": [
       "<div>\n",
       "<style scoped>\n",
       "    .dataframe tbody tr th:only-of-type {\n",
       "        vertical-align: middle;\n",
       "    }\n",
       "\n",
       "    .dataframe tbody tr th {\n",
       "        vertical-align: top;\n",
       "    }\n",
       "\n",
       "    .dataframe thead th {\n",
       "        text-align: right;\n",
       "    }\n",
       "</style>\n",
       "<table border=\"1\" class=\"dataframe\">\n",
       "  <thead>\n",
       "    <tr style=\"text-align: right;\">\n",
       "      <th></th>\n",
       "      <th>Code</th>\n",
       "      <th>Comment</th>\n",
       "      <th>Countdown</th>\n",
       "      <th>Group</th>\n",
       "    </tr>\n",
       "  </thead>\n",
       "  <tbody>\n",
       "    <tr>\n",
       "      <th>353</th>\n",
       "      <td>NaN</td>\n",
       "      <td>NaN</td>\n",
       "      <td>999.0</td>\n",
       "      <td>1.0</td>\n",
       "    </tr>\n",
       "    <tr>\n",
       "      <th>354</th>\n",
       "      <td>NaN</td>\n",
       "      <td>NaN</td>\n",
       "      <td>998.0</td>\n",
       "      <td>1.0</td>\n",
       "    </tr>\n",
       "    <tr>\n",
       "      <th>355</th>\n",
       "      <td>NaN</td>\n",
       "      <td>NaN</td>\n",
       "      <td>997.0</td>\n",
       "      <td>1.0</td>\n",
       "    </tr>\n",
       "    <tr>\n",
       "      <th>356</th>\n",
       "      <td>NaN</td>\n",
       "      <td>NaN</td>\n",
       "      <td>996.0</td>\n",
       "      <td>1.0</td>\n",
       "    </tr>\n",
       "    <tr>\n",
       "      <th>357</th>\n",
       "      <td>NaN</td>\n",
       "      <td>NaN</td>\n",
       "      <td>995.0</td>\n",
       "      <td>1.0</td>\n",
       "    </tr>\n",
       "  </tbody>\n",
       "</table>\n",
       "</div>"
      ],
      "text/plain": [
       "     Code Comment  Countdown  Group\n",
       "353   NaN     NaN      999.0    1.0\n",
       "354   NaN     NaN      998.0    1.0\n",
       "355   NaN     NaN      997.0    1.0\n",
       "356   NaN     NaN      996.0    1.0\n",
       "357   NaN     NaN      995.0    1.0"
      ]
     },
     "execution_count": 11,
     "metadata": {},
     "output_type": "execute_result"
    }
   ],
   "source": [
    "New2.head()"
   ]
  },
  {
   "cell_type": "code",
   "execution_count": 12,
   "metadata": {
    "collapsed": true
   },
   "outputs": [],
   "source": [
    "New1 = New2.dropna()"
   ]
  },
  {
   "cell_type": "code",
   "execution_count": 13,
   "metadata": {},
   "outputs": [
    {
     "data": {
      "text/plain": [
       "214.0    316\n",
       "147.0    150\n",
       "276.0    129\n",
       "155.0    105\n",
       "325.0     88\n",
       "        ... \n",
       "237.0      1\n",
       "889.0      1\n",
       "111.0      1\n",
       "340.0      1\n",
       "441.0      1\n",
       "Name: Code, Length: 73, dtype: int64"
      ]
     },
     "execution_count": 13,
     "metadata": {},
     "output_type": "execute_result"
    }
   ],
   "source": [
    "New1.Code.value_counts()"
   ]
  },
  {
   "cell_type": "code",
   "execution_count": 16,
   "metadata": {},
   "outputs": [
    {
     "data": {
      "text/plain": [
       "Group\n",
       "22.0      1\n",
       "23.0      1\n",
       "24.0      1\n",
       "26.0      1\n",
       "42.0      3\n",
       "         ..\n",
       "2240.0    4\n",
       "2242.0    1\n",
       "2243.0    1\n",
       "2248.0    6\n",
       "2251.0    3\n",
       "Name: Code, Length: 771, dtype: int64"
      ]
     },
     "execution_count": 16,
     "metadata": {},
     "output_type": "execute_result"
    }
   ],
   "source": [
    "New1.groupby('Group')['Code'].count()\n",
    "\n",
    "# We see that some cycles ex 2240 had 4 errors in total"
   ]
  },
  {
   "cell_type": "code",
   "execution_count": 17,
   "metadata": {},
   "outputs": [
    {
     "data": {
      "text/html": [
       "<div>\n",
       "<style scoped>\n",
       "    .dataframe tbody tr th:only-of-type {\n",
       "        vertical-align: middle;\n",
       "    }\n",
       "\n",
       "    .dataframe tbody tr th {\n",
       "        vertical-align: top;\n",
       "    }\n",
       "\n",
       "    .dataframe thead th {\n",
       "        text-align: right;\n",
       "    }\n",
       "</style>\n",
       "<table border=\"1\" class=\"dataframe\">\n",
       "  <thead>\n",
       "    <tr style=\"text-align: right;\">\n",
       "      <th></th>\n",
       "      <th>Code</th>\n",
       "      <th>Comment</th>\n",
       "      <th>Countdown</th>\n",
       "      <th>Group</th>\n",
       "    </tr>\n",
       "  </thead>\n",
       "  <tbody>\n",
       "    <tr>\n",
       "      <th>8882</th>\n",
       "      <td>144.0</td>\n",
       "      <td>environnement</td>\n",
       "      <td>7.0</td>\n",
       "      <td>22.0</td>\n",
       "    </tr>\n",
       "    <tr>\n",
       "      <th>9117</th>\n",
       "      <td>341.0</td>\n",
       "      <td>Acquittement automatique</td>\n",
       "      <td>8.0</td>\n",
       "      <td>23.0</td>\n",
       "    </tr>\n",
       "    <tr>\n",
       "      <th>9988</th>\n",
       "      <td>275.0</td>\n",
       "      <td>DÌ©roulement de cÌ¢ble</td>\n",
       "      <td>9.0</td>\n",
       "      <td>24.0</td>\n",
       "    </tr>\n",
       "    <tr>\n",
       "      <th>12579</th>\n",
       "      <td>149.0</td>\n",
       "      <td>Acquittement automatique</td>\n",
       "      <td>19.0</td>\n",
       "      <td>26.0</td>\n",
       "    </tr>\n",
       "    <tr>\n",
       "      <th>46360</th>\n",
       "      <td>149.0</td>\n",
       "      <td>En attente du dÌ©montage du rÌ©trofit. Panne r...</td>\n",
       "      <td>49.0</td>\n",
       "      <td>42.0</td>\n",
       "    </tr>\n",
       "  </tbody>\n",
       "</table>\n",
       "</div>"
      ],
      "text/plain": [
       "        Code                                            Comment  Countdown  \\\n",
       "8882   144.0                                      environnement        7.0   \n",
       "9117   341.0                           Acquittement automatique        8.0   \n",
       "9988   275.0                             DÌ©roulement de cÌ¢ble        9.0   \n",
       "12579  149.0                           Acquittement automatique       19.0   \n",
       "46360  149.0  En attente du dÌ©montage du rÌ©trofit. Panne r...       49.0   \n",
       "\n",
       "       Group  \n",
       "8882    22.0  \n",
       "9117    23.0  \n",
       "9988    24.0  \n",
       "12579   26.0  \n",
       "46360   42.0  "
      ]
     },
     "execution_count": 17,
     "metadata": {},
     "output_type": "execute_result"
    }
   ],
   "source": [
    "New1.head()"
   ]
  },
  {
   "cell_type": "markdown",
   "metadata": {},
   "source": [
    "## Mining\n",
    "\n",
    "For the rule miner to work, we need \"transactional\" data. "
   ]
  },
  {
   "cell_type": "code",
   "execution_count": 35,
   "metadata": {
    "collapsed": true
   },
   "outputs": [],
   "source": [
    "df = New1.groupby(['Group','Code']).size().reset_index(name='count')\n",
    "\n",
    "# We count the number of instances for every code in every group,\n",
    "# then set an index for the values"
   ]
  },
  {
   "cell_type": "code",
   "execution_count": 42,
   "metadata": {
    "collapsed": true
   },
   "outputs": [],
   "source": [
    "basket = (df.groupby(['Group', 'Code'])['count']\n",
    "        # Group the data on their code count.\n",
    "          .sum().unstack()\n",
    "        # Pivot the table with group as rows and code as columns\n",
    "          .reset_index().fillna(0)\n",
    "        # Fill the empty spaces with 0, representing that a code \n",
    "        # did not happen during that period\n",
    "          .set_index('Group'))"
   ]
  },
  {
   "cell_type": "code",
   "execution_count": 43,
   "metadata": {},
   "outputs": [
    {
     "data": {
      "text/html": [
       "<div>\n",
       "<style scoped>\n",
       "    .dataframe tbody tr th:only-of-type {\n",
       "        vertical-align: middle;\n",
       "    }\n",
       "\n",
       "    .dataframe tbody tr th {\n",
       "        vertical-align: top;\n",
       "    }\n",
       "\n",
       "    .dataframe thead th {\n",
       "        text-align: right;\n",
       "    }\n",
       "</style>\n",
       "<table border=\"1\" class=\"dataframe\">\n",
       "  <thead>\n",
       "    <tr style=\"text-align: right;\">\n",
       "      <th>Code</th>\n",
       "      <th>36.0</th>\n",
       "      <th>38.0</th>\n",
       "      <th>49.0</th>\n",
       "      <th>62.0</th>\n",
       "      <th>63.0</th>\n",
       "      <th>79.0</th>\n",
       "      <th>80.0</th>\n",
       "      <th>83.0</th>\n",
       "      <th>100.0</th>\n",
       "      <th>101.0</th>\n",
       "      <th>...</th>\n",
       "      <th>441.0</th>\n",
       "      <th>601.0</th>\n",
       "      <th>687.0</th>\n",
       "      <th>725.0</th>\n",
       "      <th>726.0</th>\n",
       "      <th>803.0</th>\n",
       "      <th>852.0</th>\n",
       "      <th>889.0</th>\n",
       "      <th>899.0</th>\n",
       "      <th>919.0</th>\n",
       "    </tr>\n",
       "    <tr>\n",
       "      <th>Group</th>\n",
       "      <th></th>\n",
       "      <th></th>\n",
       "      <th></th>\n",
       "      <th></th>\n",
       "      <th></th>\n",
       "      <th></th>\n",
       "      <th></th>\n",
       "      <th></th>\n",
       "      <th></th>\n",
       "      <th></th>\n",
       "      <th></th>\n",
       "      <th></th>\n",
       "      <th></th>\n",
       "      <th></th>\n",
       "      <th></th>\n",
       "      <th></th>\n",
       "      <th></th>\n",
       "      <th></th>\n",
       "      <th></th>\n",
       "      <th></th>\n",
       "      <th></th>\n",
       "    </tr>\n",
       "  </thead>\n",
       "  <tbody>\n",
       "    <tr>\n",
       "      <th>22.0</th>\n",
       "      <td>0.0</td>\n",
       "      <td>0.0</td>\n",
       "      <td>0.0</td>\n",
       "      <td>0.0</td>\n",
       "      <td>0.0</td>\n",
       "      <td>0.0</td>\n",
       "      <td>0.0</td>\n",
       "      <td>0.0</td>\n",
       "      <td>0.0</td>\n",
       "      <td>0.0</td>\n",
       "      <td>...</td>\n",
       "      <td>0.0</td>\n",
       "      <td>0.0</td>\n",
       "      <td>0.0</td>\n",
       "      <td>0.0</td>\n",
       "      <td>0.0</td>\n",
       "      <td>0.0</td>\n",
       "      <td>0.0</td>\n",
       "      <td>0.0</td>\n",
       "      <td>0.0</td>\n",
       "      <td>0.0</td>\n",
       "    </tr>\n",
       "    <tr>\n",
       "      <th>23.0</th>\n",
       "      <td>0.0</td>\n",
       "      <td>0.0</td>\n",
       "      <td>0.0</td>\n",
       "      <td>0.0</td>\n",
       "      <td>0.0</td>\n",
       "      <td>0.0</td>\n",
       "      <td>0.0</td>\n",
       "      <td>0.0</td>\n",
       "      <td>0.0</td>\n",
       "      <td>0.0</td>\n",
       "      <td>...</td>\n",
       "      <td>0.0</td>\n",
       "      <td>0.0</td>\n",
       "      <td>0.0</td>\n",
       "      <td>0.0</td>\n",
       "      <td>0.0</td>\n",
       "      <td>0.0</td>\n",
       "      <td>0.0</td>\n",
       "      <td>0.0</td>\n",
       "      <td>0.0</td>\n",
       "      <td>0.0</td>\n",
       "    </tr>\n",
       "    <tr>\n",
       "      <th>24.0</th>\n",
       "      <td>0.0</td>\n",
       "      <td>0.0</td>\n",
       "      <td>0.0</td>\n",
       "      <td>0.0</td>\n",
       "      <td>0.0</td>\n",
       "      <td>0.0</td>\n",
       "      <td>0.0</td>\n",
       "      <td>0.0</td>\n",
       "      <td>0.0</td>\n",
       "      <td>0.0</td>\n",
       "      <td>...</td>\n",
       "      <td>0.0</td>\n",
       "      <td>0.0</td>\n",
       "      <td>0.0</td>\n",
       "      <td>0.0</td>\n",
       "      <td>0.0</td>\n",
       "      <td>0.0</td>\n",
       "      <td>0.0</td>\n",
       "      <td>0.0</td>\n",
       "      <td>0.0</td>\n",
       "      <td>0.0</td>\n",
       "    </tr>\n",
       "    <tr>\n",
       "      <th>26.0</th>\n",
       "      <td>0.0</td>\n",
       "      <td>0.0</td>\n",
       "      <td>0.0</td>\n",
       "      <td>0.0</td>\n",
       "      <td>0.0</td>\n",
       "      <td>0.0</td>\n",
       "      <td>0.0</td>\n",
       "      <td>0.0</td>\n",
       "      <td>0.0</td>\n",
       "      <td>0.0</td>\n",
       "      <td>...</td>\n",
       "      <td>0.0</td>\n",
       "      <td>0.0</td>\n",
       "      <td>0.0</td>\n",
       "      <td>0.0</td>\n",
       "      <td>0.0</td>\n",
       "      <td>0.0</td>\n",
       "      <td>0.0</td>\n",
       "      <td>0.0</td>\n",
       "      <td>0.0</td>\n",
       "      <td>0.0</td>\n",
       "    </tr>\n",
       "    <tr>\n",
       "      <th>42.0</th>\n",
       "      <td>0.0</td>\n",
       "      <td>0.0</td>\n",
       "      <td>0.0</td>\n",
       "      <td>0.0</td>\n",
       "      <td>0.0</td>\n",
       "      <td>0.0</td>\n",
       "      <td>0.0</td>\n",
       "      <td>0.0</td>\n",
       "      <td>0.0</td>\n",
       "      <td>0.0</td>\n",
       "      <td>...</td>\n",
       "      <td>0.0</td>\n",
       "      <td>0.0</td>\n",
       "      <td>0.0</td>\n",
       "      <td>0.0</td>\n",
       "      <td>0.0</td>\n",
       "      <td>0.0</td>\n",
       "      <td>0.0</td>\n",
       "      <td>0.0</td>\n",
       "      <td>0.0</td>\n",
       "      <td>0.0</td>\n",
       "    </tr>\n",
       "  </tbody>\n",
       "</table>\n",
       "<p>5 rows × 73 columns</p>\n",
       "</div>"
      ],
      "text/plain": [
       "Code   36.0   38.0   49.0   62.0   63.0   79.0   80.0   83.0   100.0  101.0  \\\n",
       "Group                                                                         \n",
       "22.0     0.0    0.0    0.0    0.0    0.0    0.0    0.0    0.0    0.0    0.0   \n",
       "23.0     0.0    0.0    0.0    0.0    0.0    0.0    0.0    0.0    0.0    0.0   \n",
       "24.0     0.0    0.0    0.0    0.0    0.0    0.0    0.0    0.0    0.0    0.0   \n",
       "26.0     0.0    0.0    0.0    0.0    0.0    0.0    0.0    0.0    0.0    0.0   \n",
       "42.0     0.0    0.0    0.0    0.0    0.0    0.0    0.0    0.0    0.0    0.0   \n",
       "\n",
       "Code   ...  441.0  601.0  687.0  725.0  726.0  803.0  852.0  889.0  899.0  \\\n",
       "Group  ...                                                                  \n",
       "22.0   ...    0.0    0.0    0.0    0.0    0.0    0.0    0.0    0.0    0.0   \n",
       "23.0   ...    0.0    0.0    0.0    0.0    0.0    0.0    0.0    0.0    0.0   \n",
       "24.0   ...    0.0    0.0    0.0    0.0    0.0    0.0    0.0    0.0    0.0   \n",
       "26.0   ...    0.0    0.0    0.0    0.0    0.0    0.0    0.0    0.0    0.0   \n",
       "42.0   ...    0.0    0.0    0.0    0.0    0.0    0.0    0.0    0.0    0.0   \n",
       "\n",
       "Code   919.0  \n",
       "Group         \n",
       "22.0     0.0  \n",
       "23.0     0.0  \n",
       "24.0     0.0  \n",
       "26.0     0.0  \n",
       "42.0     0.0  \n",
       "\n",
       "[5 rows x 73 columns]"
      ]
     },
     "execution_count": 43,
     "metadata": {},
     "output_type": "execute_result"
    }
   ],
   "source": [
    "basket.head()"
   ]
  },
  {
   "cell_type": "code",
   "execution_count": 44,
   "metadata": {
    "collapsed": true
   },
   "outputs": [],
   "source": [
    "def encode_units(x):\n",
    "    if x <= 0:\n",
    "        return 0\n",
    "    if x >= 1:\n",
    "        return 1\n",
    "    \n",
    "# Hot-encode every observation"
   ]
  },
  {
   "cell_type": "code",
   "execution_count": 45,
   "metadata": {
    "collapsed": true
   },
   "outputs": [],
   "source": [
    "basket_sets = basket.applymap(encode_units)"
   ]
  },
  {
   "cell_type": "markdown",
   "metadata": {},
   "source": [
    "## Rules\n",
    "\n",
    "And below we get our rules! Apparently, 179 and 79 happen often before the 318, 214 and 919 before 147 etc. \n",
    "\n",
    "Confidence is high, meaning that in the case that 176 and 79 happen during a cycle, 318 will be the consquent 100% of the time. But the support shows us that this only happens in 1.2% of the cycles. Not very useful! \n",
    "\n",
    "This is due to the fact that some codes are labeled as warning and not stops. 318 might be a warning and not a full Stop! Therefore, we will make sure that all CONSEQUENTS are labeled as STOP."
   ]
  },
  {
   "cell_type": "code",
   "execution_count": 57,
   "metadata": {},
   "outputs": [
    {
     "data": {
      "text/html": [
       "<div>\n",
       "<style scoped>\n",
       "    .dataframe tbody tr th:only-of-type {\n",
       "        vertical-align: middle;\n",
       "    }\n",
       "\n",
       "    .dataframe tbody tr th {\n",
       "        vertical-align: top;\n",
       "    }\n",
       "\n",
       "    .dataframe thead th {\n",
       "        text-align: right;\n",
       "    }\n",
       "</style>\n",
       "<table border=\"1\" class=\"dataframe\">\n",
       "  <thead>\n",
       "    <tr style=\"text-align: right;\">\n",
       "      <th></th>\n",
       "      <th>antecedents</th>\n",
       "      <th>consequents</th>\n",
       "      <th>antecedent support</th>\n",
       "      <th>consequent support</th>\n",
       "      <th>support</th>\n",
       "      <th>confidence</th>\n",
       "      <th>lift</th>\n",
       "      <th>leverage</th>\n",
       "      <th>conviction</th>\n",
       "    </tr>\n",
       "  </thead>\n",
       "  <tbody>\n",
       "    <tr>\n",
       "      <th>191</th>\n",
       "      <td>(176.0, 79.0)</td>\n",
       "      <td>(318.0)</td>\n",
       "      <td>0.001297</td>\n",
       "      <td>0.012970</td>\n",
       "      <td>0.001297</td>\n",
       "      <td>1.0</td>\n",
       "      <td>77.100000</td>\n",
       "      <td>0.001280</td>\n",
       "      <td>inf</td>\n",
       "    </tr>\n",
       "    <tr>\n",
       "      <th>300</th>\n",
       "      <td>(214.0, 919.0)</td>\n",
       "      <td>(147.0)</td>\n",
       "      <td>0.001297</td>\n",
       "      <td>0.068742</td>\n",
       "      <td>0.001297</td>\n",
       "      <td>1.0</td>\n",
       "      <td>14.547170</td>\n",
       "      <td>0.001208</td>\n",
       "      <td>inf</td>\n",
       "    </tr>\n",
       "    <tr>\n",
       "      <th>234</th>\n",
       "      <td>(338.0, 100.0)</td>\n",
       "      <td>(176.0)</td>\n",
       "      <td>0.001297</td>\n",
       "      <td>0.029831</td>\n",
       "      <td>0.001297</td>\n",
       "      <td>1.0</td>\n",
       "      <td>33.521739</td>\n",
       "      <td>0.001258</td>\n",
       "      <td>inf</td>\n",
       "    </tr>\n",
       "    <tr>\n",
       "      <th>239</th>\n",
       "      <td>(176.0, 919.0)</td>\n",
       "      <td>(100.0)</td>\n",
       "      <td>0.001297</td>\n",
       "      <td>0.016861</td>\n",
       "      <td>0.001297</td>\n",
       "      <td>1.0</td>\n",
       "      <td>59.307692</td>\n",
       "      <td>0.001275</td>\n",
       "      <td>inf</td>\n",
       "    </tr>\n",
       "    <tr>\n",
       "      <th>240</th>\n",
       "      <td>(100.0, 919.0)</td>\n",
       "      <td>(176.0)</td>\n",
       "      <td>0.001297</td>\n",
       "      <td>0.029831</td>\n",
       "      <td>0.001297</td>\n",
       "      <td>1.0</td>\n",
       "      <td>33.521739</td>\n",
       "      <td>0.001258</td>\n",
       "      <td>inf</td>\n",
       "    </tr>\n",
       "  </tbody>\n",
       "</table>\n",
       "</div>"
      ],
      "text/plain": [
       "        antecedents consequents  antecedent support  consequent support  \\\n",
       "191   (176.0, 79.0)     (318.0)            0.001297            0.012970   \n",
       "300  (214.0, 919.0)     (147.0)            0.001297            0.068742   \n",
       "234  (338.0, 100.0)     (176.0)            0.001297            0.029831   \n",
       "239  (176.0, 919.0)     (100.0)            0.001297            0.016861   \n",
       "240  (100.0, 919.0)     (176.0)            0.001297            0.029831   \n",
       "\n",
       "      support  confidence       lift  leverage  conviction  \n",
       "191  0.001297         1.0  77.100000  0.001280         inf  \n",
       "300  0.001297         1.0  14.547170  0.001208         inf  \n",
       "234  0.001297         1.0  33.521739  0.001258         inf  \n",
       "239  0.001297         1.0  59.307692  0.001275         inf  \n",
       "240  0.001297         1.0  33.521739  0.001258         inf  "
      ]
     },
     "execution_count": 57,
     "metadata": {},
     "output_type": "execute_result"
    }
   ],
   "source": [
    "code_rules = apriori(basket_sets, min_support=0.001, use_colnames=True)\n",
    "rules = association_rules(code_rules, metric=\"lift\")\n",
    "rules.sort_values('confidence', ascending = False, inplace = True)\n",
    "rules.head(5)\n",
    "\n"
   ]
  },
  {
   "cell_type": "code",
   "execution_count": 58,
   "metadata": {
    "collapsed": true
   },
   "outputs": [],
   "source": [
    "Rules = pd.DataFrame(rules)"
   ]
  },
  {
   "cell_type": "code",
   "execution_count": 59,
   "metadata": {
    "collapsed": true
   },
   "outputs": [],
   "source": [
    "Stop_Codes = Apriori[Apriori.Status == 'Stop']"
   ]
  },
  {
   "cell_type": "code",
   "execution_count": 60,
   "metadata": {
    "collapsed": true
   },
   "outputs": [],
   "source": [
    "Stop_Code_list = Stop_Codes.Code.unique()"
   ]
  },
  {
   "cell_type": "code",
   "execution_count": 61,
   "metadata": {
    "collapsed": true
   },
   "outputs": [],
   "source": [
    "Stop = pd.DataFrame(Stop_Code_list)"
   ]
  },
  {
   "cell_type": "code",
   "execution_count": 62,
   "metadata": {},
   "outputs": [
    {
     "data": {
      "text/plain": [
       "frozenset"
      ]
     },
     "execution_count": 62,
     "metadata": {},
     "output_type": "execute_result"
    }
   ],
   "source": [
    "type(Rules.consequents[0])"
   ]
  },
  {
   "cell_type": "code",
   "execution_count": 63,
   "metadata": {},
   "outputs": [
    {
     "name": "stderr",
     "output_type": "stream",
     "text": [
      "/anaconda/lib/python3.6/site-packages/ipykernel_launcher.py:8: DeprecationWarning: elementwise comparison failed; this will raise an error in the future.\n",
      "  \n"
     ]
    }
   ],
   "source": [
    "a= list(rules.consequents)\n",
    "\n",
    "a= [list(i) for i in a]\n",
    "rules.consequents=a\n",
    "\n",
    "lst=[]\n",
    "for i in rules.consequents:\n",
    "    if i in Stop_Code_list:\n",
    "        lst.append(True)\n",
    "    else:\n",
    "        lst.append(False)\n",
    "\n",
    "rules['S']=lst"
   ]
  },
  {
   "cell_type": "code",
   "execution_count": 64,
   "metadata": {},
   "outputs": [
    {
     "name": "stdout",
     "output_type": "stream",
     "text": [
      "[[147.0], [176.0], [100.0], [176.0], [100.0], [312.0], [318.0], [100.0], [338.0], [340.0], [325.0], [100.0], [100.0, 325.0], [725.0]]\n"
     ]
    }
   ],
   "source": [
    "a= list(rules.consequents)\n",
    "print(a[1:15])"
   ]
  },
  {
   "cell_type": "code",
   "execution_count": 65,
   "metadata": {
    "collapsed": true
   },
   "outputs": [],
   "source": [
    "a= [list(i) for i in a]\n",
    "rules.consequents=a"
   ]
  },
  {
   "cell_type": "code",
   "execution_count": 68,
   "metadata": {},
   "outputs": [
    {
     "data": {
      "text/html": [
       "<div>\n",
       "<style scoped>\n",
       "    .dataframe tbody tr th:only-of-type {\n",
       "        vertical-align: middle;\n",
       "    }\n",
       "\n",
       "    .dataframe tbody tr th {\n",
       "        vertical-align: top;\n",
       "    }\n",
       "\n",
       "    .dataframe thead th {\n",
       "        text-align: right;\n",
       "    }\n",
       "</style>\n",
       "<table border=\"1\" class=\"dataframe\">\n",
       "  <thead>\n",
       "    <tr style=\"text-align: right;\">\n",
       "      <th></th>\n",
       "      <th>antecedents</th>\n",
       "      <th>consequents</th>\n",
       "      <th>antecedent support</th>\n",
       "      <th>consequent support</th>\n",
       "      <th>support</th>\n",
       "      <th>confidence</th>\n",
       "      <th>lift</th>\n",
       "      <th>leverage</th>\n",
       "      <th>conviction</th>\n",
       "      <th>S</th>\n",
       "    </tr>\n",
       "  </thead>\n",
       "  <tbody>\n",
       "    <tr>\n",
       "      <th>23</th>\n",
       "      <td>(79.0)</td>\n",
       "      <td>[276.0]</td>\n",
       "      <td>0.027237</td>\n",
       "      <td>0.167315</td>\n",
       "      <td>0.007782</td>\n",
       "      <td>0.285714</td>\n",
       "      <td>1.707641</td>\n",
       "      <td>0.003225</td>\n",
       "      <td>1.165759</td>\n",
       "      <td>True</td>\n",
       "    </tr>\n",
       "    <tr>\n",
       "      <th>22</th>\n",
       "      <td>(276.0)</td>\n",
       "      <td>[79.0]</td>\n",
       "      <td>0.167315</td>\n",
       "      <td>0.027237</td>\n",
       "      <td>0.007782</td>\n",
       "      <td>0.046512</td>\n",
       "      <td>1.707641</td>\n",
       "      <td>0.003225</td>\n",
       "      <td>1.020214</td>\n",
       "      <td>True</td>\n",
       "    </tr>\n",
       "    <tr>\n",
       "      <th>39</th>\n",
       "      <td>(214.0)</td>\n",
       "      <td>[100.0]</td>\n",
       "      <td>0.112840</td>\n",
       "      <td>0.016861</td>\n",
       "      <td>0.006485</td>\n",
       "      <td>0.057471</td>\n",
       "      <td>3.408488</td>\n",
       "      <td>0.004582</td>\n",
       "      <td>1.043086</td>\n",
       "      <td>True</td>\n",
       "    </tr>\n",
       "    <tr>\n",
       "      <th>38</th>\n",
       "      <td>(100.0)</td>\n",
       "      <td>[214.0]</td>\n",
       "      <td>0.016861</td>\n",
       "      <td>0.112840</td>\n",
       "      <td>0.006485</td>\n",
       "      <td>0.384615</td>\n",
       "      <td>3.408488</td>\n",
       "      <td>0.004582</td>\n",
       "      <td>1.441634</td>\n",
       "      <td>True</td>\n",
       "    </tr>\n",
       "    <tr>\n",
       "      <th>70</th>\n",
       "      <td>(144.0)</td>\n",
       "      <td>[899.0]</td>\n",
       "      <td>0.046693</td>\n",
       "      <td>0.049287</td>\n",
       "      <td>0.005188</td>\n",
       "      <td>0.111111</td>\n",
       "      <td>2.254386</td>\n",
       "      <td>0.002887</td>\n",
       "      <td>1.069553</td>\n",
       "      <td>True</td>\n",
       "    </tr>\n",
       "  </tbody>\n",
       "</table>\n",
       "</div>"
      ],
      "text/plain": [
       "   antecedents consequents  antecedent support  consequent support   support  \\\n",
       "23      (79.0)     [276.0]            0.027237            0.167315  0.007782   \n",
       "22     (276.0)      [79.0]            0.167315            0.027237  0.007782   \n",
       "39     (214.0)     [100.0]            0.112840            0.016861  0.006485   \n",
       "38     (100.0)     [214.0]            0.016861            0.112840  0.006485   \n",
       "70     (144.0)     [899.0]            0.046693            0.049287  0.005188   \n",
       "\n",
       "    confidence      lift  leverage  conviction     S  \n",
       "23    0.285714  1.707641  0.003225    1.165759  True  \n",
       "22    0.046512  1.707641  0.003225    1.020214  True  \n",
       "39    0.057471  3.408488  0.004582    1.043086  True  \n",
       "38    0.384615  3.408488  0.004582    1.441634  True  \n",
       "70    0.111111  2.254386  0.002887    1.069553  True  "
      ]
     },
     "execution_count": 68,
     "metadata": {},
     "output_type": "execute_result"
    }
   ],
   "source": [
    "#Top rules with STOPs as rhs\n",
    "stop = rules[(rules['S']== True) & (rules['lift']>1.2)]\n",
    "stop.sort_values('support', ascending=False).head(5)"
   ]
  },
  {
   "cell_type": "markdown",
   "metadata": {
    "collapsed": true
   },
   "source": [
    "And there we have it! 79 and 276 seem to happen together. Sadly, we see that the support is again very low. Therefore, we conclude that there arent any useful rules to mine before a stop code.  "
   ]
  },
  {
   "cell_type": "code",
   "execution_count": null,
   "metadata": {
    "collapsed": true
   },
   "outputs": [],
   "source": []
  }
 ],
 "metadata": {
  "kernelspec": {
   "display_name": "Python 3",
   "language": "python",
   "name": "python3"
  },
  "language_info": {
   "codemirror_mode": {
    "name": "ipython",
    "version": 3
   },
   "file_extension": ".py",
   "mimetype": "text/x-python",
   "name": "python",
   "nbconvert_exporter": "python",
   "pygments_lexer": "ipython3",
   "version": "3.6.2"
  }
 },
 "nbformat": 4,
 "nbformat_minor": 2
}
