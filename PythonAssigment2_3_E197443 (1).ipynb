{
 "cells": [
  {
   "cell_type": "markdown",
   "metadata": {},
   "source": [
    "# Prediction with imbalanced classes"
   ]
  },
  {
   "cell_type": "code",
   "execution_count": 208,
   "metadata": {
    "collapsed": true
   },
   "outputs": [],
   "source": [
    "import pandas as pd\n",
    "import numpy as np\n",
    "from sklearn.model_selection import train_test_split\n",
    "from sklearn import preprocessing\n",
    "import collections\n",
    "from sklearn.model_selection import train_test_split\n",
    "from sklearn.metrics import confusion_matrix"
   ]
  },
  {
   "cell_type": "code",
   "execution_count": 266,
   "metadata": {
    "collapsed": true
   },
   "outputs": [],
   "source": [
    "import matplotlib.pyplot as plt"
   ]
  },
  {
   "cell_type": "code",
   "execution_count": 267,
   "metadata": {},
   "outputs": [
    {
     "data": {
      "text/plain": [
       "'/Users/JohanLg/Documents/My Documents/ESCP/Kurser/Vår/Python'"
      ]
     },
     "execution_count": 267,
     "metadata": {},
     "output_type": "execute_result"
    }
   ],
   "source": [
    "import os\n",
    "os.getcwd()"
   ]
  },
  {
   "cell_type": "code",
   "execution_count": 211,
   "metadata": {
    "collapsed": true
   },
   "outputs": [],
   "source": [
    "os.chdir('/Users/JohanLg/Documents/My Documents/ESCP/Kurser/Vår/Python')"
   ]
  },
  {
   "cell_type": "code",
   "execution_count": 212,
   "metadata": {},
   "outputs": [],
   "source": [
    "data = pd.read_csv('train (2).csv')"
   ]
  },
  {
   "cell_type": "code",
   "execution_count": 213,
   "metadata": {},
   "outputs": [
    {
     "name": "stdout",
     "output_type": "stream",
     "text": [
      "(31428, 27)\n"
     ]
    }
   ],
   "source": [
    "print(data.shape)"
   ]
  },
  {
   "cell_type": "code",
   "execution_count": 214,
   "metadata": {},
   "outputs": [
    {
     "data": {
      "text/html": [
       "<div>\n",
       "<style scoped>\n",
       "    .dataframe tbody tr th:only-of-type {\n",
       "        vertical-align: middle;\n",
       "    }\n",
       "\n",
       "    .dataframe tbody tr th {\n",
       "        vertical-align: top;\n",
       "    }\n",
       "\n",
       "    .dataframe thead th {\n",
       "        text-align: right;\n",
       "    }\n",
       "</style>\n",
       "<table border=\"1\" class=\"dataframe\">\n",
       "  <thead>\n",
       "    <tr style=\"text-align: right;\">\n",
       "      <th></th>\n",
       "      <th>label</th>\n",
       "      <th>id</th>\n",
       "      <th>visitTime</th>\n",
       "      <th>purchaseTime</th>\n",
       "      <th>hour</th>\n",
       "      <th>C1</th>\n",
       "      <th>C2</th>\n",
       "      <th>C3</th>\n",
       "      <th>C4</th>\n",
       "      <th>C5</th>\n",
       "      <th>...</th>\n",
       "      <th>N4</th>\n",
       "      <th>N5</th>\n",
       "      <th>N6</th>\n",
       "      <th>N7</th>\n",
       "      <th>N8</th>\n",
       "      <th>N9</th>\n",
       "      <th>N10</th>\n",
       "      <th>C10</th>\n",
       "      <th>C11</th>\n",
       "      <th>C12</th>\n",
       "    </tr>\n",
       "  </thead>\n",
       "  <tbody>\n",
       "    <tr>\n",
       "      <th>0</th>\n",
       "      <td>-1</td>\n",
       "      <td>37</td>\n",
       "      <td>19274330</td>\n",
       "      <td>-1</td>\n",
       "      <td>0</td>\n",
       "      <td>2569487005</td>\n",
       "      <td>1830830742</td>\n",
       "      <td>4228834423</td>\n",
       "      <td>652481754</td>\n",
       "      <td>2967512603</td>\n",
       "      <td>...</td>\n",
       "      <td>0</td>\n",
       "      <td>0</td>\n",
       "      <td>0</td>\n",
       "      <td>0</td>\n",
       "      <td>0</td>\n",
       "      <td>0</td>\n",
       "      <td>0</td>\n",
       "      <td>419316267</td>\n",
       "      <td>3617851689</td>\n",
       "      <td>4220791646</td>\n",
       "    </tr>\n",
       "    <tr>\n",
       "      <th>1</th>\n",
       "      <td>-1</td>\n",
       "      <td>55</td>\n",
       "      <td>19274334</td>\n",
       "      <td>-1</td>\n",
       "      <td>0</td>\n",
       "      <td>3191875643</td>\n",
       "      <td>403381353</td>\n",
       "      <td>1238330876</td>\n",
       "      <td>652481754</td>\n",
       "      <td>2967512603</td>\n",
       "      <td>...</td>\n",
       "      <td>0</td>\n",
       "      <td>0</td>\n",
       "      <td>0</td>\n",
       "      <td>0</td>\n",
       "      <td>1</td>\n",
       "      <td>0</td>\n",
       "      <td>0</td>\n",
       "      <td>1968545380</td>\n",
       "      <td>3831440054</td>\n",
       "      <td>1213938795</td>\n",
       "    </tr>\n",
       "    <tr>\n",
       "      <th>2</th>\n",
       "      <td>-1</td>\n",
       "      <td>114</td>\n",
       "      <td>19274353</td>\n",
       "      <td>-1</td>\n",
       "      <td>0</td>\n",
       "      <td>2634604934</td>\n",
       "      <td>403381353</td>\n",
       "      <td>1928325921</td>\n",
       "      <td>652481754</td>\n",
       "      <td>2967512603</td>\n",
       "      <td>...</td>\n",
       "      <td>0</td>\n",
       "      <td>0</td>\n",
       "      <td>0</td>\n",
       "      <td>0</td>\n",
       "      <td>0</td>\n",
       "      <td>0</td>\n",
       "      <td>0</td>\n",
       "      <td>1405802835</td>\n",
       "      <td>2379633508</td>\n",
       "      <td>1284343215</td>\n",
       "    </tr>\n",
       "    <tr>\n",
       "      <th>3</th>\n",
       "      <td>-1</td>\n",
       "      <td>128</td>\n",
       "      <td>19274358</td>\n",
       "      <td>-1</td>\n",
       "      <td>0</td>\n",
       "      <td>2569487005</td>\n",
       "      <td>403381353</td>\n",
       "      <td>296915027</td>\n",
       "      <td>652481754</td>\n",
       "      <td>2967512603</td>\n",
       "      <td>...</td>\n",
       "      <td>0</td>\n",
       "      <td>0</td>\n",
       "      <td>0</td>\n",
       "      <td>0</td>\n",
       "      <td>0</td>\n",
       "      <td>0</td>\n",
       "      <td>0</td>\n",
       "      <td>2299319102</td>\n",
       "      <td>3617851689</td>\n",
       "      <td>4220791646</td>\n",
       "    </tr>\n",
       "    <tr>\n",
       "      <th>4</th>\n",
       "      <td>-1</td>\n",
       "      <td>164</td>\n",
       "      <td>19274367</td>\n",
       "      <td>-1</td>\n",
       "      <td>0</td>\n",
       "      <td>2569487005</td>\n",
       "      <td>403381353</td>\n",
       "      <td>681762206</td>\n",
       "      <td>652481754</td>\n",
       "      <td>2967512603</td>\n",
       "      <td>...</td>\n",
       "      <td>0</td>\n",
       "      <td>0</td>\n",
       "      <td>0</td>\n",
       "      <td>0</td>\n",
       "      <td>0</td>\n",
       "      <td>0</td>\n",
       "      <td>0</td>\n",
       "      <td>1306075469</td>\n",
       "      <td>3617851689</td>\n",
       "      <td>4220791646</td>\n",
       "    </tr>\n",
       "    <tr>\n",
       "      <th>5</th>\n",
       "      <td>-1</td>\n",
       "      <td>187</td>\n",
       "      <td>19274374</td>\n",
       "      <td>-1</td>\n",
       "      <td>0</td>\n",
       "      <td>3302106226</td>\n",
       "      <td>403381353</td>\n",
       "      <td>1928325921</td>\n",
       "      <td>652481754</td>\n",
       "      <td>2967512603</td>\n",
       "      <td>...</td>\n",
       "      <td>0</td>\n",
       "      <td>0</td>\n",
       "      <td>0</td>\n",
       "      <td>0</td>\n",
       "      <td>0</td>\n",
       "      <td>0</td>\n",
       "      <td>0</td>\n",
       "      <td>3182036626</td>\n",
       "      <td>2379633508</td>\n",
       "      <td>1284343215</td>\n",
       "    </tr>\n",
       "  </tbody>\n",
       "</table>\n",
       "<p>6 rows × 27 columns</p>\n",
       "</div>"
      ],
      "text/plain": [
       "   label   id  visitTime  purchaseTime  hour          C1          C2  \\\n",
       "0     -1   37   19274330            -1     0  2569487005  1830830742   \n",
       "1     -1   55   19274334            -1     0  3191875643   403381353   \n",
       "2     -1  114   19274353            -1     0  2634604934   403381353   \n",
       "3     -1  128   19274358            -1     0  2569487005   403381353   \n",
       "4     -1  164   19274367            -1     0  2569487005   403381353   \n",
       "5     -1  187   19274374            -1     0  3302106226   403381353   \n",
       "\n",
       "           C3         C4          C5  ...  N4  N5  N6  N7  N8  N9  N10  \\\n",
       "0  4228834423  652481754  2967512603  ...   0   0   0   0   0   0    0   \n",
       "1  1238330876  652481754  2967512603  ...   0   0   0   0   1   0    0   \n",
       "2  1928325921  652481754  2967512603  ...   0   0   0   0   0   0    0   \n",
       "3   296915027  652481754  2967512603  ...   0   0   0   0   0   0    0   \n",
       "4   681762206  652481754  2967512603  ...   0   0   0   0   0   0    0   \n",
       "5  1928325921  652481754  2967512603  ...   0   0   0   0   0   0    0   \n",
       "\n",
       "          C10         C11         C12  \n",
       "0   419316267  3617851689  4220791646  \n",
       "1  1968545380  3831440054  1213938795  \n",
       "2  1405802835  2379633508  1284343215  \n",
       "3  2299319102  3617851689  4220791646  \n",
       "4  1306075469  3617851689  4220791646  \n",
       "5  3182036626  2379633508  1284343215  \n",
       "\n",
       "[6 rows x 27 columns]"
      ]
     },
     "execution_count": 214,
     "metadata": {},
     "output_type": "execute_result"
    }
   ],
   "source": [
    "# We know that prefix N indicates count values\n",
    "\n",
    "data.head(6)\n",
    "\n",
    "# Next step to check for missing values"
   ]
  },
  {
   "cell_type": "code",
   "execution_count": 215,
   "metadata": {},
   "outputs": [
    {
     "data": {
      "text/plain": [
       "label           0.0\n",
       "id              0.0\n",
       "visitTime       0.0\n",
       "purchaseTime    0.0\n",
       "hour            0.0\n",
       "C1              0.0\n",
       "C2              0.0\n",
       "C3              0.0\n",
       "C4              0.0\n",
       "C5              0.0\n",
       "C6              0.0\n",
       "C7              0.0\n",
       "C8              0.0\n",
       "N1              0.0\n",
       "C9              0.0\n",
       "N2              0.0\n",
       "N3              0.0\n",
       "N4              0.0\n",
       "N5              0.0\n",
       "N6              0.0\n",
       "N7              0.0\n",
       "N8              0.0\n",
       "N9              0.0\n",
       "N10             0.0\n",
       "C10             0.0\n",
       "C11             0.0\n",
       "C12             0.0\n",
       "dtype: float64"
      ]
     },
     "execution_count": 215,
     "metadata": {},
     "output_type": "execute_result"
    }
   ],
   "source": [
    "null = data.isnull()\n",
    "null.sum()/len(data)\n",
    "\n",
    "#No missing Values"
   ]
  },
  {
   "cell_type": "code",
   "execution_count": 216,
   "metadata": {},
   "outputs": [
    {
     "name": "stdout",
     "output_type": "stream",
     "text": [
      "    Var 1     \n",
      "403381353     11098\n",
      "1235983246     6173\n",
      "2018710401     5397\n",
      "2541203883     3860\n",
      "1830830742     3625\n",
      "1258965892      635\n",
      "2517724481      635\n",
      "2201746798        5\n",
      "Name: C2, dtype: int64\n",
      "    Var 2     \n",
      "1928325921    1232\n",
      "3475347077    1212\n",
      "2780744710    1179\n",
      "1711803242     936\n",
      "1822656032     536\n",
      "              ... \n",
      "3540895230       1\n",
      "2756181513       1\n",
      "3550862535       1\n",
      "1199484467       1\n",
      "1533319149       1\n",
      "Name: C3, Length: 2863, dtype: int64\n",
      "    Var 3     \n",
      "652481754     20951\n",
      "2308170622     6081\n",
      "306394936      2844\n",
      "2210625817     1552\n",
      "Name: C4, dtype: int64\n",
      "    Var 4     \n",
      "2967512603    23045\n",
      "2116767313     8364\n",
      "3955179140       19\n",
      "Name: C5, dtype: int64\n",
      "    Var 5     \n",
      "571765677     5194\n",
      "2712499304    3835\n",
      "4003458018    1886\n",
      "85977907      1715\n",
      "152923169     1092\n",
      "              ... \n",
      "3390967276      13\n",
      "3912268313      12\n",
      "2116604436       9\n",
      "2762466016       9\n",
      "4088755483       7\n",
      "Name: C6, Length: 84, dtype: int64\n",
      "    Var 6     \n",
      "2303407174    24113\n",
      "1342367140     4123\n",
      "2411180110     1420\n",
      "730319316       940\n",
      "3649211661      764\n",
      "549342611        68\n",
      "Name: C7, dtype: int64\n",
      "    Var 7     \n",
      "2374954832    8364\n",
      "157533148     7296\n",
      "2206061889    5809\n",
      "3588031319    5696\n",
      "1804593680    1654\n",
      "434828410      998\n",
      "3999167221     587\n",
      "946099003      369\n",
      "1847029215     147\n",
      "1031653231     116\n",
      "3679482644      77\n",
      "682892729       76\n",
      "1604070580      58\n",
      "1717161695      48\n",
      "1355017680      33\n",
      "3858319324      28\n",
      "3389730139      19\n",
      "4080139522      14\n",
      "1339860380      13\n",
      "4143494761      12\n",
      "3703234237       7\n",
      "912640200        6\n",
      "2166564686       1\n",
      "Name: C8, dtype: int64\n",
      "    Var 8     \n",
      "2226682598    5194\n",
      "4287642944    4854\n",
      "385980380     3835\n",
      "1421481761    1886\n",
      "3329757940    1250\n",
      "387474876     1136\n",
      "2698786965    1069\n",
      "564075893      868\n",
      "2088887026     753\n",
      "1292559885     750\n",
      "1690004026     701\n",
      "3179660634     669\n",
      "3201792078     566\n",
      "3828882129     554\n",
      "3863488499     551\n",
      "1109321325     462\n",
      "3023418412     396\n",
      "1097313503     387\n",
      "2711086415     375\n",
      "4054959403     316\n",
      "3623356211     273\n",
      "3114503497     252\n",
      "2447802683     241\n",
      "399159304      225\n",
      "477276257      221\n",
      "3598157468     203\n",
      "659463149      193\n",
      "114495992      186\n",
      "1266140471     185\n",
      "3427046189     172\n",
      "2013640318     165\n",
      "681031001      162\n",
      "3447573537     151\n",
      "3208948300     149\n",
      "759851699      141\n",
      "3738539033     138\n",
      "3790028721     136\n",
      "1314204074     134\n",
      "986337892      133\n",
      "3898085784     131\n",
      "833114062      127\n",
      "3595738046     119\n",
      "14692648       116\n",
      "1681548983     105\n",
      "2511982975     100\n",
      "561243158       82\n",
      "138171148       76\n",
      "3878556116      72\n",
      "2998031433      68\n",
      "3597794575      62\n",
      "3911032568      58\n",
      "2505381470      53\n",
      "1627260059      47\n",
      "3272771221      44\n",
      "481692728       44\n",
      "999411610       42\n",
      "2598915713      25\n",
      "2286807896       9\n",
      "3310009198       9\n",
      "3311238116       7\n",
      "Name: C9, dtype: int64\n",
      "    Var 9     \n",
      "3469607743    1425\n",
      "3458698981      82\n",
      "3183725626      73\n",
      "1133005353      71\n",
      "3662869197      68\n",
      "              ... \n",
      "843115400        1\n",
      "762569609        1\n",
      "4142922634       1\n",
      "830608273        1\n",
      "487200771        1\n",
      "Name: C10, Length: 28653, dtype: int64\n",
      "    Var 10     \n",
      "3831440054    8848\n",
      "3617851689    8507\n",
      "2379633508    6822\n",
      "2196958187    3430\n",
      "621902171     3118\n",
      "3536580284     441\n",
      "3124632437      87\n",
      "535829057       48\n",
      "58779779        44\n",
      "2269823002      24\n",
      "1587132551      21\n",
      "891005277       14\n",
      "102858183        7\n",
      "1973513386       5\n",
      "500889696        3\n",
      "3255297627       3\n",
      "2677481500       2\n",
      "43937015         1\n",
      "943284263        1\n",
      "1706983378       1\n",
      "2268989536       1\n",
      "Name: C11, dtype: int64\n",
      "    Var 11     \n",
      "4220791646    8507\n",
      "1284343215    8037\n",
      "1213938795    6365\n",
      "830706566     4195\n",
      "3706004275    1382\n",
      "1550397227     786\n",
      "245608391      674\n",
      "2548980304     487\n",
      "1889667519     442\n",
      "4176504756     205\n",
      "1213814022     113\n",
      "3828748840     102\n",
      "3818978634      87\n",
      "3057379815      25\n",
      "800077115       10\n",
      "1269781439       5\n",
      "3091742607       3\n",
      "3960527089       2\n",
      "2971647412       1\n",
      "Name: C12, dtype: int64\n"
     ]
    }
   ],
   "source": [
    "Categorical_Var = data.iloc[:,data.columns.str.startswith('C')] \n",
    "\n",
    "for i in range(1,len(Categorical_Var.columns)):\n",
    "    Cat_Counts = Categorical_Var.iloc[:,i].value_counts()\n",
    "    print (\"    Var %s     \" % i)\n",
    "    print(Cat_Counts)"
   ]
  },
  {
   "cell_type": "code",
   "execution_count": 217,
   "metadata": {},
   "outputs": [
    {
     "name": "stdout",
     "output_type": "stream",
     "text": [
      " Var 1  \n"
     ]
    },
    {
     "data": {
      "image/png": "[encoded data removed]",
      "text/plain": [
       "<Figure size 432x288 with 1 Axes>"
      ]
     },
     "metadata": {},
     "output_type": "display_data"
    },
    {
     "name": "stdout",
     "output_type": "stream",
     "text": [
      " Var 2  \n"
     ]
    },
    {
     "data": {
      "image/png": "[encoded data removed]",
      "text/plain": [
       "<Figure size 432x288 with 1 Axes>"
      ]
     },
     "metadata": {},
     "output_type": "display_data"
    },
    {
     "name": "stdout",
     "output_type": "stream",
     "text": [
      " Var 3  \n"
     ]
    },
    {
     "data": {
      "image/png": "[encoded data removed]",
      "text/plain": [
       "<Figure size 432x288 with 1 Axes>"
      ]
     },
     "metadata": {},
     "output_type": "display_data"
    },
    {
     "name": "stdout",
     "output_type": "stream",
     "text": [
      " Var 4  \n"
     ]
    },
    {
     "data": {
      "image/png": "[encoded data removed]",
      "text/plain": [
       "<Figure size 432x288 with 1 Axes>"
      ]
     },
     "metadata": {},
     "output_type": "display_data"
    },
    {
     "name": "stdout",
     "output_type": "stream",
     "text": [
      " Var 5  \n"
     ]
    },
    {
     "data": {
      "image/png": "[encoded data removed]",
      "text/plain": [
       "<Figure size 432x288 with 1 Axes>"
      ]
     },
     "metadata": {},
     "output_type": "display_data"
    },
    {
     "name": "stdout",
     "output_type": "stream",
     "text": [
      " Var 6  \n"
     ]
    },
    {
     "data": {
      "image/png": "[encoded data removed]",
      "text/plain": [
       "<Figure size 432x288 with 1 Axes>"
      ]
     },
     "metadata": {},
     "output_type": "display_data"
    },
    {
     "name": "stdout",
     "output_type": "stream",
     "text": [
      " Var 7  \n"
     ]
    },
    {
     "data": {
      "image/png": "[encoded data removed]",
      "text/plain": [
       "<Figure size 432x288 with 1 Axes>"
      ]
     },
     "metadata": {},
     "output_type": "display_data"
    },
    {
     "name": "stdout",
     "output_type": "stream",
     "text": [
      " Var 8  \n"
     ]
    },
    {
     "data": {
      "image/png": "[encoded data removed]",
      "text/plain": [
       "<Figure size 432x288 with 1 Axes>"
      ]
     },
     "metadata": {},
     "output_type": "display_data"
    },
    {
     "name": "stdout",
     "output_type": "stream",
     "text": [
      " Var 9  \n"
     ]
    },
    {
     "data": {
      "image/png": "[encoded data removed]",
      "text/plain": [
       "<Figure size 432x288 with 1 Axes>"
      ]
     },
     "metadata": {},
     "output_type": "display_data"
    },
    {
     "ename": "IndexError",
     "evalue": "single positional indexer is out-of-bounds",
     "output_type": "error",
     "traceback": [
      "\u001b[0;31m---------------------------------------------------------------------------\u001b[0m",
      "\u001b[0;31mIndexError\u001b[0m                                Traceback (most recent call last)",
      "\u001b[0;32m<ipython-input-217-8d43b580a28a>\u001b[0m in \u001b[0;36m<module>\u001b[0;34m()\u001b[0m\n\u001b[1;32m      3\u001b[0m \u001b[0;34m\u001b[0m\u001b[0m\n\u001b[1;32m      4\u001b[0m \u001b[0;32mfor\u001b[0m \u001b[0mi\u001b[0m \u001b[0;32min\u001b[0m \u001b[0mrange\u001b[0m\u001b[0;34m(\u001b[0m\u001b[0;36m1\u001b[0m\u001b[0;34m,\u001b[0m \u001b[0mlen\u001b[0m\u001b[0;34m(\u001b[0m\u001b[0mNumerical_Var\u001b[0m\u001b[0;34m)\u001b[0m\u001b[0;34m)\u001b[0m\u001b[0;34m:\u001b[0m\u001b[0;34m\u001b[0m\u001b[0m\n\u001b[0;32m----> 5\u001b[0;31m     \u001b[0mNumerical_Var\u001b[0m\u001b[0;34m.\u001b[0m\u001b[0miloc\u001b[0m\u001b[0;34m[\u001b[0m\u001b[0;34m:\u001b[0m\u001b[0;34m,\u001b[0m\u001b[0mi\u001b[0m\u001b[0;34m]\u001b[0m\u001b[0;34m.\u001b[0m\u001b[0mplot\u001b[0m\u001b[0;34m.\u001b[0m\u001b[0mhist\u001b[0m\u001b[0;34m(\u001b[0m\u001b[0;34m)\u001b[0m\u001b[0;34m\u001b[0m\u001b[0m\n\u001b[0m\u001b[1;32m      6\u001b[0m \u001b[0;34m\u001b[0m\u001b[0m\n\u001b[1;32m      7\u001b[0m     \u001b[0mprint\u001b[0m\u001b[0;34m(\u001b[0m\u001b[0;34m\" Var %s  \"\u001b[0m \u001b[0;34m%\u001b[0m\u001b[0mi\u001b[0m\u001b[0;34m)\u001b[0m\u001b[0;34m\u001b[0m\u001b[0m\n",
      "\u001b[0;32m/anaconda/lib/python3.6/site-packages/pandas/core/indexing.py\u001b[0m in \u001b[0;36m__getitem__\u001b[0;34m(self, key)\u001b[0m\n\u001b[1;32m   1760\u001b[0m                 \u001b[0;32mexcept\u001b[0m \u001b[0;34m(\u001b[0m\u001b[0mKeyError\u001b[0m\u001b[0;34m,\u001b[0m \u001b[0mIndexError\u001b[0m\u001b[0;34m,\u001b[0m \u001b[0mAttributeError\u001b[0m\u001b[0;34m)\u001b[0m\u001b[0;34m:\u001b[0m\u001b[0;34m\u001b[0m\u001b[0m\n\u001b[1;32m   1761\u001b[0m                     \u001b[0;32mpass\u001b[0m\u001b[0;34m\u001b[0m\u001b[0m\n\u001b[0;32m-> 1762\u001b[0;31m             \u001b[0;32mreturn\u001b[0m \u001b[0mself\u001b[0m\u001b[0;34m.\u001b[0m\u001b[0m_getitem_tuple\u001b[0m\u001b[0;34m(\u001b[0m\u001b[0mkey\u001b[0m\u001b[0;34m)\u001b[0m\u001b[0;34m\u001b[0m\u001b[0m\n\u001b[0m\u001b[1;32m   1763\u001b[0m         \u001b[0;32melse\u001b[0m\u001b[0;34m:\u001b[0m\u001b[0;34m\u001b[0m\u001b[0m\n\u001b[1;32m   1764\u001b[0m             \u001b[0;31m# we by definition only have the 0th axis\u001b[0m\u001b[0;34m\u001b[0m\u001b[0;34m\u001b[0m\u001b[0m\n",
      "\u001b[0;32m/anaconda/lib/python3.6/site-packages/pandas/core/indexing.py\u001b[0m in \u001b[0;36m_getitem_tuple\u001b[0;34m(self, tup)\u001b[0m\n\u001b[1;32m   2065\u001b[0m     \u001b[0;32mdef\u001b[0m \u001b[0m_getitem_tuple\u001b[0m\u001b[0;34m(\u001b[0m\u001b[0mself\u001b[0m\u001b[0;34m,\u001b[0m \u001b[0mtup\u001b[0m\u001b[0;34m:\u001b[0m \u001b[0mTuple\u001b[0m\u001b[0;34m)\u001b[0m\u001b[0;34m:\u001b[0m\u001b[0;34m\u001b[0m\u001b[0m\n\u001b[1;32m   2066\u001b[0m \u001b[0;34m\u001b[0m\u001b[0m\n\u001b[0;32m-> 2067\u001b[0;31m         \u001b[0mself\u001b[0m\u001b[0;34m.\u001b[0m\u001b[0m_has_valid_tuple\u001b[0m\u001b[0;34m(\u001b[0m\u001b[0mtup\u001b[0m\u001b[0;34m)\u001b[0m\u001b[0;34m\u001b[0m\u001b[0m\n\u001b[0m\u001b[1;32m   2068\u001b[0m         \u001b[0;32mtry\u001b[0m\u001b[0;34m:\u001b[0m\u001b[0;34m\u001b[0m\u001b[0m\n\u001b[1;32m   2069\u001b[0m             \u001b[0;32mreturn\u001b[0m \u001b[0mself\u001b[0m\u001b[0;34m.\u001b[0m\u001b[0m_getitem_lowerdim\u001b[0m\u001b[0;34m(\u001b[0m\u001b[0mtup\u001b[0m\u001b[0;34m)\u001b[0m\u001b[0;34m\u001b[0m\u001b[0m\n",
      "\u001b[0;32m/anaconda/lib/python3.6/site-packages/pandas/core/indexing.py\u001b[0m in \u001b[0;36m_has_valid_tuple\u001b[0;34m(self, key)\u001b[0m\n\u001b[1;32m    701\u001b[0m                 \u001b[0;32mraise\u001b[0m \u001b[0mIndexingError\u001b[0m\u001b[0;34m(\u001b[0m\u001b[0;34m\"Too many indexers\"\u001b[0m\u001b[0;34m)\u001b[0m\u001b[0;34m\u001b[0m\u001b[0m\n\u001b[1;32m    702\u001b[0m             \u001b[0;32mtry\u001b[0m\u001b[0;34m:\u001b[0m\u001b[0;34m\u001b[0m\u001b[0m\n\u001b[0;32m--> 703\u001b[0;31m                 \u001b[0mself\u001b[0m\u001b[0;34m.\u001b[0m\u001b[0m_validate_key\u001b[0m\u001b[0;34m(\u001b[0m\u001b[0mk\u001b[0m\u001b[0;34m,\u001b[0m \u001b[0mi\u001b[0m\u001b[0;34m)\u001b[0m\u001b[0;34m\u001b[0m\u001b[0m\n\u001b[0m\u001b[1;32m    704\u001b[0m             \u001b[0;32mexcept\u001b[0m \u001b[0mValueError\u001b[0m\u001b[0;34m:\u001b[0m\u001b[0;34m\u001b[0m\u001b[0m\n\u001b[1;32m    705\u001b[0m                 raise ValueError(\n",
      "\u001b[0;32m/anaconda/lib/python3.6/site-packages/pandas/core/indexing.py\u001b[0m in \u001b[0;36m_validate_key\u001b[0;34m(self, key, axis)\u001b[0m\n\u001b[1;32m   1992\u001b[0m             \u001b[0;32mreturn\u001b[0m\u001b[0;34m\u001b[0m\u001b[0m\n\u001b[1;32m   1993\u001b[0m         \u001b[0;32melif\u001b[0m \u001b[0mis_integer\u001b[0m\u001b[0;34m(\u001b[0m\u001b[0mkey\u001b[0m\u001b[0;34m)\u001b[0m\u001b[0;34m:\u001b[0m\u001b[0;34m\u001b[0m\u001b[0m\n\u001b[0;32m-> 1994\u001b[0;31m             \u001b[0mself\u001b[0m\u001b[0;34m.\u001b[0m\u001b[0m_validate_integer\u001b[0m\u001b[0;34m(\u001b[0m\u001b[0mkey\u001b[0m\u001b[0;34m,\u001b[0m \u001b[0maxis\u001b[0m\u001b[0;34m)\u001b[0m\u001b[0;34m\u001b[0m\u001b[0m\n\u001b[0m\u001b[1;32m   1995\u001b[0m         \u001b[0;32melif\u001b[0m \u001b[0misinstance\u001b[0m\u001b[0;34m(\u001b[0m\u001b[0mkey\u001b[0m\u001b[0;34m,\u001b[0m \u001b[0mtuple\u001b[0m\u001b[0;34m)\u001b[0m\u001b[0;34m:\u001b[0m\u001b[0;34m\u001b[0m\u001b[0m\n\u001b[1;32m   1996\u001b[0m             \u001b[0;31m# a tuple should already have been caught by this point\u001b[0m\u001b[0;34m\u001b[0m\u001b[0;34m\u001b[0m\u001b[0m\n",
      "\u001b[0;32m/anaconda/lib/python3.6/site-packages/pandas/core/indexing.py\u001b[0m in \u001b[0;36m_validate_integer\u001b[0;34m(self, key, axis)\u001b[0m\n\u001b[1;32m   2061\u001b[0m         \u001b[0mlen_axis\u001b[0m \u001b[0;34m=\u001b[0m \u001b[0mlen\u001b[0m\u001b[0;34m(\u001b[0m\u001b[0mself\u001b[0m\u001b[0;34m.\u001b[0m\u001b[0mobj\u001b[0m\u001b[0;34m.\u001b[0m\u001b[0m_get_axis\u001b[0m\u001b[0;34m(\u001b[0m\u001b[0maxis\u001b[0m\u001b[0;34m)\u001b[0m\u001b[0;34m)\u001b[0m\u001b[0;34m\u001b[0m\u001b[0m\n\u001b[1;32m   2062\u001b[0m         \u001b[0;32mif\u001b[0m \u001b[0mkey\u001b[0m \u001b[0;34m>=\u001b[0m \u001b[0mlen_axis\u001b[0m \u001b[0;32mor\u001b[0m \u001b[0mkey\u001b[0m \u001b[0;34m<\u001b[0m \u001b[0;34m-\u001b[0m\u001b[0mlen_axis\u001b[0m\u001b[0;34m:\u001b[0m\u001b[0;34m\u001b[0m\u001b[0m\n\u001b[0;32m-> 2063\u001b[0;31m             \u001b[0;32mraise\u001b[0m \u001b[0mIndexError\u001b[0m\u001b[0;34m(\u001b[0m\u001b[0;34m\"single positional indexer is out-of-bounds\"\u001b[0m\u001b[0;34m)\u001b[0m\u001b[0;34m\u001b[0m\u001b[0m\n\u001b[0m\u001b[1;32m   2064\u001b[0m \u001b[0;34m\u001b[0m\u001b[0m\n\u001b[1;32m   2065\u001b[0m     \u001b[0;32mdef\u001b[0m \u001b[0m_getitem_tuple\u001b[0m\u001b[0;34m(\u001b[0m\u001b[0mself\u001b[0m\u001b[0;34m,\u001b[0m \u001b[0mtup\u001b[0m\u001b[0;34m:\u001b[0m \u001b[0mTuple\u001b[0m\u001b[0;34m)\u001b[0m\u001b[0;34m:\u001b[0m\u001b[0;34m\u001b[0m\u001b[0m\n",
      "\u001b[0;31mIndexError\u001b[0m: single positional indexer is out-of-bounds"
     ]
    }
   ],
   "source": [
    "Numerical_Var = data.iloc[:,data.columns.str.startswith('N')]\n",
    "\n",
    "\n",
    "for i in range(1, len(Numerical_Var)):\n",
    "    Numerical_Var.iloc[:,i].plot.hist()\n",
    "    \n",
    "    print(\" Var %s  \" %i)\n",
    "    \n",
    "    plt.show()\n",
    "\n",
    "# Dependant variable inbalanced \n"
   ]
  },
  {
   "cell_type": "code",
   "execution_count": 218,
   "metadata": {
    "collapsed": true
   },
   "outputs": [],
   "source": [
    "X=data.drop([\"label\",\"purchaseTime\"], axis=1)\n",
    "y=data['label']"
   ]
  },
  {
   "cell_type": "code",
   "execution_count": 219,
   "metadata": {},
   "outputs": [],
   "source": [
    "# Normalizing numeric data\n",
    "\n",
    "for i in Numerical_Var:\n",
    "    x= X[[i]].values\n",
    "    scaler = preprocessing.StandardScaler()\n",
    "    x_scaled = scaler.fit_transform(x)\n",
    "    X[i]=x_scaled\n",
    "    "
   ]
  },
  {
   "cell_type": "code",
   "execution_count": 220,
   "metadata": {},
   "outputs": [
    {
     "data": {
      "text/html": [
       "<div>\n",
       "<style scoped>\n",
       "    .dataframe tbody tr th:only-of-type {\n",
       "        vertical-align: middle;\n",
       "    }\n",
       "\n",
       "    .dataframe tbody tr th {\n",
       "        vertical-align: top;\n",
       "    }\n",
       "\n",
       "    .dataframe thead th {\n",
       "        text-align: right;\n",
       "    }\n",
       "</style>\n",
       "<table border=\"1\" class=\"dataframe\">\n",
       "  <thead>\n",
       "    <tr style=\"text-align: right;\">\n",
       "      <th></th>\n",
       "      <th>id</th>\n",
       "      <th>visitTime</th>\n",
       "      <th>hour</th>\n",
       "      <th>C1</th>\n",
       "      <th>C2</th>\n",
       "      <th>C3</th>\n",
       "      <th>C4</th>\n",
       "      <th>C5</th>\n",
       "      <th>C6</th>\n",
       "      <th>C7</th>\n",
       "      <th>...</th>\n",
       "      <th>N4</th>\n",
       "      <th>N5</th>\n",
       "      <th>N6</th>\n",
       "      <th>N7</th>\n",
       "      <th>N8</th>\n",
       "      <th>N9</th>\n",
       "      <th>N10</th>\n",
       "      <th>C10</th>\n",
       "      <th>C11</th>\n",
       "      <th>C12</th>\n",
       "    </tr>\n",
       "  </thead>\n",
       "  <tbody>\n",
       "    <tr>\n",
       "      <th>0</th>\n",
       "      <td>37</td>\n",
       "      <td>19274330</td>\n",
       "      <td>0</td>\n",
       "      <td>2569487005</td>\n",
       "      <td>1830830742</td>\n",
       "      <td>4228834423</td>\n",
       "      <td>652481754</td>\n",
       "      <td>2967512603</td>\n",
       "      <td>3624739744</td>\n",
       "      <td>2303407174</td>\n",
       "      <td>...</td>\n",
       "      <td>-0.106697</td>\n",
       "      <td>-0.015298</td>\n",
       "      <td>-0.048464</td>\n",
       "      <td>-0.027133</td>\n",
       "      <td>-0.130523</td>\n",
       "      <td>-0.041971</td>\n",
       "      <td>-0.049696</td>\n",
       "      <td>419316267</td>\n",
       "      <td>3617851689</td>\n",
       "      <td>4220791646</td>\n",
       "    </tr>\n",
       "    <tr>\n",
       "      <th>1</th>\n",
       "      <td>55</td>\n",
       "      <td>19274334</td>\n",
       "      <td>0</td>\n",
       "      <td>3191875643</td>\n",
       "      <td>403381353</td>\n",
       "      <td>1238330876</td>\n",
       "      <td>652481754</td>\n",
       "      <td>2967512603</td>\n",
       "      <td>179712055</td>\n",
       "      <td>2303407174</td>\n",
       "      <td>...</td>\n",
       "      <td>-0.106697</td>\n",
       "      <td>-0.015298</td>\n",
       "      <td>-0.048464</td>\n",
       "      <td>-0.027133</td>\n",
       "      <td>0.183475</td>\n",
       "      <td>-0.041971</td>\n",
       "      <td>-0.049696</td>\n",
       "      <td>1968545380</td>\n",
       "      <td>3831440054</td>\n",
       "      <td>1213938795</td>\n",
       "    </tr>\n",
       "    <tr>\n",
       "      <th>2</th>\n",
       "      <td>114</td>\n",
       "      <td>19274353</td>\n",
       "      <td>0</td>\n",
       "      <td>2634604934</td>\n",
       "      <td>403381353</td>\n",
       "      <td>1928325921</td>\n",
       "      <td>652481754</td>\n",
       "      <td>2967512603</td>\n",
       "      <td>1607619193</td>\n",
       "      <td>2303407174</td>\n",
       "      <td>...</td>\n",
       "      <td>-0.106697</td>\n",
       "      <td>-0.015298</td>\n",
       "      <td>-0.048464</td>\n",
       "      <td>-0.027133</td>\n",
       "      <td>-0.130523</td>\n",
       "      <td>-0.041971</td>\n",
       "      <td>-0.049696</td>\n",
       "      <td>1405802835</td>\n",
       "      <td>2379633508</td>\n",
       "      <td>1284343215</td>\n",
       "    </tr>\n",
       "    <tr>\n",
       "      <th>3</th>\n",
       "      <td>128</td>\n",
       "      <td>19274358</td>\n",
       "      <td>0</td>\n",
       "      <td>2569487005</td>\n",
       "      <td>403381353</td>\n",
       "      <td>296915027</td>\n",
       "      <td>652481754</td>\n",
       "      <td>2967512603</td>\n",
       "      <td>10212495</td>\n",
       "      <td>2303407174</td>\n",
       "      <td>...</td>\n",
       "      <td>-0.106697</td>\n",
       "      <td>-0.015298</td>\n",
       "      <td>-0.048464</td>\n",
       "      <td>-0.027133</td>\n",
       "      <td>-0.130523</td>\n",
       "      <td>-0.041971</td>\n",
       "      <td>-0.049696</td>\n",
       "      <td>2299319102</td>\n",
       "      <td>3617851689</td>\n",
       "      <td>4220791646</td>\n",
       "    </tr>\n",
       "    <tr>\n",
       "      <th>4</th>\n",
       "      <td>164</td>\n",
       "      <td>19274367</td>\n",
       "      <td>0</td>\n",
       "      <td>2569487005</td>\n",
       "      <td>403381353</td>\n",
       "      <td>681762206</td>\n",
       "      <td>652481754</td>\n",
       "      <td>2967512603</td>\n",
       "      <td>580883881</td>\n",
       "      <td>2303407174</td>\n",
       "      <td>...</td>\n",
       "      <td>-0.106697</td>\n",
       "      <td>-0.015298</td>\n",
       "      <td>-0.048464</td>\n",
       "      <td>-0.027133</td>\n",
       "      <td>-0.130523</td>\n",
       "      <td>-0.041971</td>\n",
       "      <td>-0.049696</td>\n",
       "      <td>1306075469</td>\n",
       "      <td>3617851689</td>\n",
       "      <td>4220791646</td>\n",
       "    </tr>\n",
       "    <tr>\n",
       "      <th>...</th>\n",
       "      <td>...</td>\n",
       "      <td>...</td>\n",
       "      <td>...</td>\n",
       "      <td>...</td>\n",
       "      <td>...</td>\n",
       "      <td>...</td>\n",
       "      <td>...</td>\n",
       "      <td>...</td>\n",
       "      <td>...</td>\n",
       "      <td>...</td>\n",
       "      <td>...</td>\n",
       "      <td>...</td>\n",
       "      <td>...</td>\n",
       "      <td>...</td>\n",
       "      <td>...</td>\n",
       "      <td>...</td>\n",
       "      <td>...</td>\n",
       "      <td>...</td>\n",
       "      <td>...</td>\n",
       "      <td>...</td>\n",
       "      <td>...</td>\n",
       "    </tr>\n",
       "    <tr>\n",
       "      <th>31423</th>\n",
       "      <td>638420</td>\n",
       "      <td>19360259</td>\n",
       "      <td>23</td>\n",
       "      <td>2569487005</td>\n",
       "      <td>2018710401</td>\n",
       "      <td>1712143179</td>\n",
       "      <td>2308170622</td>\n",
       "      <td>2967512603</td>\n",
       "      <td>3624739744</td>\n",
       "      <td>2303407174</td>\n",
       "      <td>...</td>\n",
       "      <td>-0.106697</td>\n",
       "      <td>-0.015298</td>\n",
       "      <td>-0.048464</td>\n",
       "      <td>-0.027133</td>\n",
       "      <td>-0.130523</td>\n",
       "      <td>-0.041971</td>\n",
       "      <td>-0.049696</td>\n",
       "      <td>773194559</td>\n",
       "      <td>3617851689</td>\n",
       "      <td>4220791646</td>\n",
       "    </tr>\n",
       "    <tr>\n",
       "      <th>31424</th>\n",
       "      <td>638422</td>\n",
       "      <td>19360260</td>\n",
       "      <td>23</td>\n",
       "      <td>2569487005</td>\n",
       "      <td>403381353</td>\n",
       "      <td>2280365090</td>\n",
       "      <td>652481754</td>\n",
       "      <td>2967512603</td>\n",
       "      <td>3624739744</td>\n",
       "      <td>2303407174</td>\n",
       "      <td>...</td>\n",
       "      <td>-0.106697</td>\n",
       "      <td>-0.015298</td>\n",
       "      <td>-0.048464</td>\n",
       "      <td>-0.027133</td>\n",
       "      <td>-0.130523</td>\n",
       "      <td>-0.041971</td>\n",
       "      <td>-0.049696</td>\n",
       "      <td>4038791635</td>\n",
       "      <td>3617851689</td>\n",
       "      <td>4220791646</td>\n",
       "    </tr>\n",
       "    <tr>\n",
       "      <th>31425</th>\n",
       "      <td>638461</td>\n",
       "      <td>19360392</td>\n",
       "      <td>23</td>\n",
       "      <td>497926344</td>\n",
       "      <td>1235983246</td>\n",
       "      <td>1379688777</td>\n",
       "      <td>652481754</td>\n",
       "      <td>2116767313</td>\n",
       "      <td>2304197778</td>\n",
       "      <td>2303407174</td>\n",
       "      <td>...</td>\n",
       "      <td>-0.106697</td>\n",
       "      <td>-0.015298</td>\n",
       "      <td>-0.048464</td>\n",
       "      <td>-0.027133</td>\n",
       "      <td>-0.130523</td>\n",
       "      <td>-0.041971</td>\n",
       "      <td>-0.049696</td>\n",
       "      <td>1169636883</td>\n",
       "      <td>621902171</td>\n",
       "      <td>3706004275</td>\n",
       "    </tr>\n",
       "    <tr>\n",
       "      <th>31426</th>\n",
       "      <td>638496</td>\n",
       "      <td>19360528</td>\n",
       "      <td>23</td>\n",
       "      <td>2569487005</td>\n",
       "      <td>403381353</td>\n",
       "      <td>2780744710</td>\n",
       "      <td>652481754</td>\n",
       "      <td>2967512603</td>\n",
       "      <td>3624739744</td>\n",
       "      <td>2303407174</td>\n",
       "      <td>...</td>\n",
       "      <td>-0.106697</td>\n",
       "      <td>-0.015298</td>\n",
       "      <td>-0.048464</td>\n",
       "      <td>-0.027133</td>\n",
       "      <td>-0.130523</td>\n",
       "      <td>-0.041971</td>\n",
       "      <td>-0.049696</td>\n",
       "      <td>357042422</td>\n",
       "      <td>3617851689</td>\n",
       "      <td>4220791646</td>\n",
       "    </tr>\n",
       "    <tr>\n",
       "      <th>31427</th>\n",
       "      <td>638505</td>\n",
       "      <td>19360545</td>\n",
       "      <td>23</td>\n",
       "      <td>2569487005</td>\n",
       "      <td>403381353</td>\n",
       "      <td>4214696082</td>\n",
       "      <td>652481754</td>\n",
       "      <td>2967512603</td>\n",
       "      <td>3624739744</td>\n",
       "      <td>2303407174</td>\n",
       "      <td>...</td>\n",
       "      <td>-0.106697</td>\n",
       "      <td>-0.015298</td>\n",
       "      <td>-0.048464</td>\n",
       "      <td>-0.027133</td>\n",
       "      <td>-0.130523</td>\n",
       "      <td>-0.041971</td>\n",
       "      <td>-0.049696</td>\n",
       "      <td>2237502949</td>\n",
       "      <td>3617851689</td>\n",
       "      <td>4220791646</td>\n",
       "    </tr>\n",
       "  </tbody>\n",
       "</table>\n",
       "<p>31428 rows × 25 columns</p>\n",
       "</div>"
      ],
      "text/plain": [
       "           id  visitTime  hour          C1          C2          C3  \\\n",
       "0          37   19274330     0  2569487005  1830830742  4228834423   \n",
       "1          55   19274334     0  3191875643   403381353  1238330876   \n",
       "2         114   19274353     0  2634604934   403381353  1928325921   \n",
       "3         128   19274358     0  2569487005   403381353   296915027   \n",
       "4         164   19274367     0  2569487005   403381353   681762206   \n",
       "...       ...        ...   ...         ...         ...         ...   \n",
       "31423  638420   19360259    23  2569487005  2018710401  1712143179   \n",
       "31424  638422   19360260    23  2569487005   403381353  2280365090   \n",
       "31425  638461   19360392    23   497926344  1235983246  1379688777   \n",
       "31426  638496   19360528    23  2569487005   403381353  2780744710   \n",
       "31427  638505   19360545    23  2569487005   403381353  4214696082   \n",
       "\n",
       "               C4          C5          C6          C7  ...        N4  \\\n",
       "0       652481754  2967512603  3624739744  2303407174  ... -0.106697   \n",
       "1       652481754  2967512603   179712055  2303407174  ... -0.106697   \n",
       "2       652481754  2967512603  1607619193  2303407174  ... -0.106697   \n",
       "3       652481754  2967512603    10212495  2303407174  ... -0.106697   \n",
       "4       652481754  2967512603   580883881  2303407174  ... -0.106697   \n",
       "...           ...         ...         ...         ...  ...       ...   \n",
       "31423  2308170622  2967512603  3624739744  2303407174  ... -0.106697   \n",
       "31424   652481754  2967512603  3624739744  2303407174  ... -0.106697   \n",
       "31425   652481754  2116767313  2304197778  2303407174  ... -0.106697   \n",
       "31426   652481754  2967512603  3624739744  2303407174  ... -0.106697   \n",
       "31427   652481754  2967512603  3624739744  2303407174  ... -0.106697   \n",
       "\n",
       "             N5        N6        N7        N8        N9       N10         C10  \\\n",
       "0     -0.015298 -0.048464 -0.027133 -0.130523 -0.041971 -0.049696   419316267   \n",
       "1     -0.015298 -0.048464 -0.027133  0.183475 -0.041971 -0.049696  1968545380   \n",
       "2     -0.015298 -0.048464 -0.027133 -0.130523 -0.041971 -0.049696  1405802835   \n",
       "3     -0.015298 -0.048464 -0.027133 -0.130523 -0.041971 -0.049696  2299319102   \n",
       "4     -0.015298 -0.048464 -0.027133 -0.130523 -0.041971 -0.049696  1306075469   \n",
       "...         ...       ...       ...       ...       ...       ...         ...   \n",
       "31423 -0.015298 -0.048464 -0.027133 -0.130523 -0.041971 -0.049696   773194559   \n",
       "31424 -0.015298 -0.048464 -0.027133 -0.130523 -0.041971 -0.049696  4038791635   \n",
       "31425 -0.015298 -0.048464 -0.027133 -0.130523 -0.041971 -0.049696  1169636883   \n",
       "31426 -0.015298 -0.048464 -0.027133 -0.130523 -0.041971 -0.049696   357042422   \n",
       "31427 -0.015298 -0.048464 -0.027133 -0.130523 -0.041971 -0.049696  2237502949   \n",
       "\n",
       "              C11         C12  \n",
       "0      3617851689  4220791646  \n",
       "1      3831440054  1213938795  \n",
       "2      2379633508  1284343215  \n",
       "3      3617851689  4220791646  \n",
       "4      3617851689  4220791646  \n",
       "...           ...         ...  \n",
       "31423  3617851689  4220791646  \n",
       "31424  3617851689  4220791646  \n",
       "31425   621902171  3706004275  \n",
       "31426  3617851689  4220791646  \n",
       "31427  3617851689  4220791646  \n",
       "\n",
       "[31428 rows x 25 columns]"
      ]
     },
     "execution_count": 220,
     "metadata": {},
     "output_type": "execute_result"
    }
   ],
   "source": [
    "X"
   ]
  },
  {
   "cell_type": "markdown",
   "metadata": {},
   "source": [
    "# Inbalanced classes. Running different variants of sampling methods\n",
    "\n",
    "\n",
    "## NAIVE RESAMPLING , SMOTE\n"
   ]
  },
  {
   "cell_type": "code",
   "execution_count": 56,
   "metadata": {
    "scrolled": true
   },
   "outputs": [
    {
     "name": "stdout",
     "output_type": "stream",
     "text": [
      "Collecting imbalanced-learn\n",
      "  Using cached imbalanced_learn-0.6.2-py3-none-any.whl (163 kB)\n",
      "Collecting scikit-learn\n",
      "  Using cached scikit_learn-0.22.2.post1-cp36-cp36m-macosx_10_9_x86_64.whl (7.2 MB)\n",
      "Collecting scipy>=0.17\n",
      "  Using cached scipy-1.4.1-cp36-cp36m-macosx_10_6_intel.whl (28.5 MB)\n",
      "Collecting numpy>=1.11\n",
      "  Downloading numpy-1.18.2-cp36-cp36m-macosx_10_9_x86_64.whl (15.2 MB)\n",
      "\u001b[K     |████████████████████████████████| 15.2 MB 504 kB/s eta 0:00:01    |█████▉                          | 2.8 MB 378 kB/s eta 0:00:33     |██████████                      | 4.8 MB 478 kB/s eta 0:00:22     |█████████████████████████▏      | 11.9 MB 614 kB/s eta 0:00:06\n",
      "\u001b[?25hCollecting joblib>=0.11\n",
      "  Using cached joblib-0.14.1-py2.py3-none-any.whl (294 kB)\n",
      "Installing collected packages: numpy, scipy, joblib, scikit-learn, imbalanced-learn\n",
      "\u001b[31mERROR: Could not install packages due to an EnvironmentError: [Errno 13] Permission denied: '/anaconda/lib/python3.6/site-packages/numpy/.dylibs/libopenblasp-r0.3.7.dylib'\n",
      "Consider using the `--user` option or check the permissions.\n",
      "\u001b[0m\n"
     ]
    }
   ],
   "source": [
    "import sys\n",
    "!{sys.executable} -m pip install -U imbalanced-learn --ignore-installed scikit-learn "
   ]
  },
  {
   "cell_type": "code",
   "execution_count": 221,
   "metadata": {},
   "outputs": [],
   "source": [
    "from imblearn.over_sampling import RandomOverSampler\n"
   ]
  },
  {
   "cell_type": "code",
   "execution_count": 222,
   "metadata": {
    "collapsed": true
   },
   "outputs": [],
   "source": [
    "from imblearn.over_sampling import SMOTE, ADASYN"
   ]
  },
  {
   "cell_type": "markdown",
   "metadata": {},
   "source": [
    "### Oversample and then re-shuffle naively"
   ]
  },
  {
   "cell_type": "code",
   "execution_count": 223,
   "metadata": {
    "collapsed": true
   },
   "outputs": [],
   "source": [
    "ros = RandomOverSampler(random_state=1, sampling_strategy=0.1)"
   ]
  },
  {
   "cell_type": "code",
   "execution_count": 224,
   "metadata": {
    "collapsed": true
   },
   "outputs": [],
   "source": [
    "X_resampled, y_resampled = ros.fit_resample(X, y)"
   ]
  },
  {
   "cell_type": "code",
   "execution_count": 225,
   "metadata": {},
   "outputs": [
    {
     "data": {
      "text/plain": [
       "-1    31371\n",
       " 1     3137\n",
       "Name: label, dtype: int64"
      ]
     },
     "execution_count": 225,
     "metadata": {},
     "output_type": "execute_result"
    }
   ],
   "source": [
    "y_resampled.value_counts()\n",
    "\n",
    "# Class rebalanced to equal occurances "
   ]
  },
  {
   "cell_type": "markdown",
   "metadata": {},
   "source": [
    "### Resample with SMOTE"
   ]
  },
  {
   "cell_type": "code",
   "execution_count": 226,
   "metadata": {},
   "outputs": [],
   "source": [
    "X_resampledSMOTE, y_resampledSMOTE = SMOTE(random_state=1, sampling_strategy=0.1).fit_resample(X, y)"
   ]
  },
  {
   "cell_type": "code",
   "execution_count": 227,
   "metadata": {},
   "outputs": [
    {
     "data": {
      "text/plain": [
       "-1    31371\n",
       " 1     3137\n",
       "Name: label, dtype: int64"
      ]
     },
     "execution_count": 227,
     "metadata": {},
     "output_type": "execute_result"
    }
   ],
   "source": [
    "y_resampledSMOTE.value_counts()"
   ]
  },
  {
   "cell_type": "markdown",
   "metadata": {},
   "source": [
    "### Train Test splitting with NaiveS"
   ]
  },
  {
   "cell_type": "code",
   "execution_count": 228,
   "metadata": {
    "collapsed": true
   },
   "outputs": [],
   "source": [
    "X_train, X_test, y_train, y_test = train_test_split(\n",
    " X_resampled, y_resampled, test_size=0.33, random_state=42)"
   ]
  },
  {
   "cell_type": "code",
   "execution_count": 229,
   "metadata": {
    "collapsed": true
   },
   "outputs": [],
   "source": [
    "from sklearn.ensemble import RandomForestClassifier"
   ]
  },
  {
   "cell_type": "markdown",
   "metadata": {},
   "source": [
    "### Train Test splitting with SMOTE"
   ]
  },
  {
   "cell_type": "code",
   "execution_count": 230,
   "metadata": {
    "collapsed": true
   },
   "outputs": [],
   "source": [
    "X_trainS, X_testS, y_trainS, y_testS = train_test_split(\n",
    " X_resampledSMOTE, y_resampledSMOTE, test_size=0.33, random_state=42)"
   ]
  },
  {
   "cell_type": "code",
   "execution_count": 231,
   "metadata": {
    "collapsed": true
   },
   "outputs": [],
   "source": [
    "from sklearn.metrics import classification_report\n",
    "from sklearn.linear_model import LogisticRegression"
   ]
  },
  {
   "cell_type": "markdown",
   "metadata": {},
   "source": [
    "### Random Forest"
   ]
  },
  {
   "cell_type": "code",
   "execution_count": 232,
   "metadata": {},
   "outputs": [],
   "source": [
    "rf = RandomForestClassifier(n_estimators = 100).fit(X_train, y_train)"
   ]
  },
  {
   "cell_type": "code",
   "execution_count": 233,
   "metadata": {},
   "outputs": [
    {
     "data": {
      "text/plain": [
       "array([0.03055176, 0.03132368, 0.01584719, 0.01196097, 0.00479328,\n",
       "       0.01668011, 0.00318243, 0.00194642, 0.01791883, 0.00730987,\n",
       "       0.01939471, 0.01082303, 0.01650657, 0.00236325, 0.05856803,\n",
       "       0.04225862, 0.00106258, 0.11748599, 0.00222571, 0.07538201,\n",
       "       0.24230091, 0.22935167, 0.02739031, 0.00437037, 0.00900171])"
      ]
     },
     "execution_count": 233,
     "metadata": {},
     "output_type": "execute_result"
    }
   ],
   "source": [
    "rf.feature_importances_"
   ]
  },
  {
   "cell_type": "code",
   "execution_count": 235,
   "metadata": {},
   "outputs": [
    {
     "data": {
      "image/png": "[encoded data removed]",
      "text/plain": [
       "<Figure size 432x288 with 1 Axes>"
      ]
     },
     "metadata": {},
     "output_type": "display_data"
    }
   ],
   "source": [
    "plt.barh(range(25), rf.feature_importances_)\n",
    "plt.show(range(25))"
   ]
  },
  {
   "cell_type": "code",
   "execution_count": 240,
   "metadata": {
    "collapsed": true
   },
   "outputs": [],
   "source": [
    "imp_var = rf.feature_importances_ > 0.05\n",
    "# Extract variables with gini > 0.1"
   ]
  },
  {
   "cell_type": "code",
   "execution_count": 241,
   "metadata": {
    "collapsed": true
   },
   "outputs": [],
   "source": [
    "imp1 = imp_var.tolist()"
   ]
  },
  {
   "cell_type": "code",
   "execution_count": 242,
   "metadata": {
    "collapsed": true
   },
   "outputs": [],
   "source": [
    "\n",
    "res = [i for i, val in enumerate(imp1) if val] "
   ]
  },
  {
   "cell_type": "code",
   "execution_count": 243,
   "metadata": {},
   "outputs": [
    {
     "data": {
      "text/html": [
       "<div>\n",
       "<style scoped>\n",
       "    .dataframe tbody tr th:only-of-type {\n",
       "        vertical-align: middle;\n",
       "    }\n",
       "\n",
       "    .dataframe tbody tr th {\n",
       "        vertical-align: top;\n",
       "    }\n",
       "\n",
       "    .dataframe thead th {\n",
       "        text-align: right;\n",
       "    }\n",
       "</style>\n",
       "<table border=\"1\" class=\"dataframe\">\n",
       "  <thead>\n",
       "    <tr style=\"text-align: right;\">\n",
       "      <th></th>\n",
       "      <th>N3</th>\n",
       "      <th>N6</th>\n",
       "      <th>N8</th>\n",
       "      <th>N9</th>\n",
       "      <th>N10</th>\n",
       "    </tr>\n",
       "  </thead>\n",
       "  <tbody>\n",
       "    <tr>\n",
       "      <th>25474</th>\n",
       "      <td>-0.132073</td>\n",
       "      <td>-0.048464</td>\n",
       "      <td>-0.130523</td>\n",
       "      <td>-0.041971</td>\n",
       "      <td>-0.049696</td>\n",
       "    </tr>\n",
       "    <tr>\n",
       "      <th>31368</th>\n",
       "      <td>-0.132073</td>\n",
       "      <td>-0.048464</td>\n",
       "      <td>-0.130523</td>\n",
       "      <td>-0.041971</td>\n",
       "      <td>-0.049696</td>\n",
       "    </tr>\n",
       "    <tr>\n",
       "      <th>7453</th>\n",
       "      <td>-0.132073</td>\n",
       "      <td>-0.048464</td>\n",
       "      <td>-0.130523</td>\n",
       "      <td>-0.041971</td>\n",
       "      <td>-0.049696</td>\n",
       "    </tr>\n",
       "    <tr>\n",
       "      <th>11051</th>\n",
       "      <td>-0.132073</td>\n",
       "      <td>-0.048464</td>\n",
       "      <td>-0.130523</td>\n",
       "      <td>-0.041971</td>\n",
       "      <td>-0.049696</td>\n",
       "    </tr>\n",
       "    <tr>\n",
       "      <th>102</th>\n",
       "      <td>-0.132073</td>\n",
       "      <td>-0.048464</td>\n",
       "      <td>-0.130523</td>\n",
       "      <td>-0.041971</td>\n",
       "      <td>-0.049696</td>\n",
       "    </tr>\n",
       "    <tr>\n",
       "      <th>898</th>\n",
       "      <td>-0.132073</td>\n",
       "      <td>-0.048464</td>\n",
       "      <td>-0.130523</td>\n",
       "      <td>-0.041971</td>\n",
       "      <td>-0.049696</td>\n",
       "    </tr>\n",
       "  </tbody>\n",
       "</table>\n",
       "</div>"
      ],
      "text/plain": [
       "             N3        N6        N8        N9       N10\n",
       "25474 -0.132073 -0.048464 -0.130523 -0.041971 -0.049696\n",
       "31368 -0.132073 -0.048464 -0.130523 -0.041971 -0.049696\n",
       "7453  -0.132073 -0.048464 -0.130523 -0.041971 -0.049696\n",
       "11051 -0.132073 -0.048464 -0.130523 -0.041971 -0.049696\n",
       "102   -0.132073 -0.048464 -0.130523 -0.041971 -0.049696\n",
       "898   -0.132073 -0.048464 -0.130523 -0.041971 -0.049696"
      ]
     },
     "execution_count": 243,
     "metadata": {},
     "output_type": "execute_result"
    }
   ],
   "source": [
    "X_train.iloc[:,res].head(6)\n",
    "\n",
    "# NEW variables to be used to train model"
   ]
  },
  {
   "cell_type": "markdown",
   "metadata": {},
   "source": [
    "### Random Forest on SMOTE "
   ]
  },
  {
   "cell_type": "code",
   "execution_count": 244,
   "metadata": {
    "collapsed": true
   },
   "outputs": [],
   "source": [
    "rf = RandomForestClassifier(n_estimators = 100).fit(X_trainS, y_trainS)"
   ]
  },
  {
   "cell_type": "code",
   "execution_count": 246,
   "metadata": {},
   "outputs": [
    {
     "data": {
      "image/png": "[encoded data removed]",
      "text/plain": [
       "<Figure size 432x288 with 1 Axes>"
      ]
     },
     "metadata": {},
     "output_type": "display_data"
    }
   ],
   "source": [
    "plt.barh(range(25), rf.feature_importances_)\n",
    "plt.show(range(25))"
   ]
  },
  {
   "cell_type": "code",
   "execution_count": 248,
   "metadata": {},
   "outputs": [
    {
     "data": {
      "text/html": [
       "<div>\n",
       "<style scoped>\n",
       "    .dataframe tbody tr th:only-of-type {\n",
       "        vertical-align: middle;\n",
       "    }\n",
       "\n",
       "    .dataframe tbody tr th {\n",
       "        vertical-align: top;\n",
       "    }\n",
       "\n",
       "    .dataframe thead th {\n",
       "        text-align: right;\n",
       "    }\n",
       "</style>\n",
       "<table border=\"1\" class=\"dataframe\">\n",
       "  <thead>\n",
       "    <tr style=\"text-align: right;\">\n",
       "      <th></th>\n",
       "      <th>N3</th>\n",
       "      <th>N6</th>\n",
       "      <th>N8</th>\n",
       "      <th>N9</th>\n",
       "      <th>N10</th>\n",
       "    </tr>\n",
       "  </thead>\n",
       "  <tbody>\n",
       "    <tr>\n",
       "      <th>25474</th>\n",
       "      <td>-0.132073</td>\n",
       "      <td>-0.048464</td>\n",
       "      <td>-0.130523</td>\n",
       "      <td>-0.041971</td>\n",
       "      <td>-0.049696</td>\n",
       "    </tr>\n",
       "    <tr>\n",
       "      <th>31368</th>\n",
       "      <td>-0.132073</td>\n",
       "      <td>-0.048464</td>\n",
       "      <td>-0.130523</td>\n",
       "      <td>-0.041971</td>\n",
       "      <td>-0.049696</td>\n",
       "    </tr>\n",
       "    <tr>\n",
       "      <th>7453</th>\n",
       "      <td>-0.132073</td>\n",
       "      <td>-0.048464</td>\n",
       "      <td>-0.130523</td>\n",
       "      <td>-0.041971</td>\n",
       "      <td>-0.049696</td>\n",
       "    </tr>\n",
       "    <tr>\n",
       "      <th>11051</th>\n",
       "      <td>-0.132073</td>\n",
       "      <td>-0.048464</td>\n",
       "      <td>-0.130523</td>\n",
       "      <td>-0.041971</td>\n",
       "      <td>-0.049696</td>\n",
       "    </tr>\n",
       "    <tr>\n",
       "      <th>102</th>\n",
       "      <td>-0.132073</td>\n",
       "      <td>-0.048464</td>\n",
       "      <td>-0.130523</td>\n",
       "      <td>-0.041971</td>\n",
       "      <td>-0.049696</td>\n",
       "    </tr>\n",
       "    <tr>\n",
       "      <th>898</th>\n",
       "      <td>-0.132073</td>\n",
       "      <td>-0.048464</td>\n",
       "      <td>-0.130523</td>\n",
       "      <td>-0.041971</td>\n",
       "      <td>-0.049696</td>\n",
       "    </tr>\n",
       "  </tbody>\n",
       "</table>\n",
       "</div>"
      ],
      "text/plain": [
       "             N3        N6        N8        N9       N10\n",
       "25474 -0.132073 -0.048464 -0.130523 -0.041971 -0.049696\n",
       "31368 -0.132073 -0.048464 -0.130523 -0.041971 -0.049696\n",
       "7453  -0.132073 -0.048464 -0.130523 -0.041971 -0.049696\n",
       "11051 -0.132073 -0.048464 -0.130523 -0.041971 -0.049696\n",
       "102   -0.132073 -0.048464 -0.130523 -0.041971 -0.049696\n",
       "898   -0.132073 -0.048464 -0.130523 -0.041971 -0.049696"
      ]
     },
     "execution_count": 248,
     "metadata": {},
     "output_type": "execute_result"
    }
   ],
   "source": [
    "imp_var = rf.feature_importances_ > 0.05\n",
    "# Extract variables with gini > 0.1\n",
    "imp1 = imp_var.tolist()\n",
    "res = [i for i, val in enumerate(imp1) if val] \n",
    "X_trainS.iloc[:,res].head(6)\n",
    "\n",
    "# We see that the oversampling technique doesnt change much in feature selection \n",
    "# therefore, the prediction will be made solely on the Random Oversampled enhanced dataset"
   ]
  },
  {
   "cell_type": "code",
   "execution_count": 273,
   "metadata": {},
   "outputs": [],
   "source": [
    "predictionsRF = rf.predict(X_test)"
   ]
  },
  {
   "cell_type": "markdown",
   "metadata": {},
   "source": [
    "## XGBOOST"
   ]
  },
  {
   "cell_type": "code",
   "execution_count": 249,
   "metadata": {
    "collapsed": true
   },
   "outputs": [],
   "source": [
    "import xgboost as xgb"
   ]
  },
  {
   "cell_type": "code",
   "execution_count": 280,
   "metadata": {},
   "outputs": [
    {
     "name": "stdout",
     "output_type": "stream",
     "text": [
      "[0]\tvalidation_0-error:0.018945\tvalidation_0-logloss:0.605184\tvalidation_1-error:0.016772\tvalidation_1-logloss:0.604794\n",
      "[1]\tvalidation_0-error:0.018945\tvalidation_0-logloss:0.533197\tvalidation_1-error:0.016772\tvalidation_1-logloss:0.532453\n",
      "[2]\tvalidation_0-error:0.018945\tvalidation_0-logloss:0.473291\tvalidation_1-error:0.016772\tvalidation_1-logloss:0.47222\n",
      "[3]\tvalidation_0-error:0.018945\tvalidation_0-logloss:0.42281\tvalidation_1-error:0.016772\tvalidation_1-logloss:0.421436\n",
      "[4]\tvalidation_0-error:0.018945\tvalidation_0-logloss:0.379861\tvalidation_1-error:0.016772\tvalidation_1-logloss:0.378202\n",
      "[5]\tvalidation_0-error:0.018945\tvalidation_0-logloss:0.343044\tvalidation_1-error:0.016772\tvalidation_1-logloss:0.341115\n",
      "[6]\tvalidation_0-error:0.018945\tvalidation_0-logloss:0.311292\tvalidation_1-error:0.016772\tvalidation_1-logloss:0.309107\n",
      "[7]\tvalidation_0-error:0.018945\tvalidation_0-logloss:0.283777\tvalidation_1-error:0.016772\tvalidation_1-logloss:0.281349\n",
      "[8]\tvalidation_0-error:0.018945\tvalidation_0-logloss:0.259842\tvalidation_1-error:0.016772\tvalidation_1-logloss:0.257182\n",
      "[9]\tvalidation_0-error:0.018945\tvalidation_0-logloss:0.238955\tvalidation_1-error:0.016772\tvalidation_1-logloss:0.236073\n",
      "[10]\tvalidation_0-error:0.018945\tvalidation_0-logloss:0.220684\tvalidation_1-error:0.016772\tvalidation_1-logloss:0.21759\n",
      "[11]\tvalidation_0-error:0.018945\tvalidation_0-logloss:0.20467\tvalidation_1-error:0.016772\tvalidation_1-logloss:0.201371\n",
      "[12]\tvalidation_0-error:0.018945\tvalidation_0-logloss:0.190613\tvalidation_1-error:0.016772\tvalidation_1-logloss:0.187119\n",
      "[13]\tvalidation_0-error:0.018945\tvalidation_0-logloss:0.17826\tvalidation_1-error:0.016772\tvalidation_1-logloss:0.174578\n",
      "[14]\tvalidation_0-error:0.018945\tvalidation_0-logloss:0.167392\tvalidation_1-error:0.016772\tvalidation_1-logloss:0.163704\n",
      "[15]\tvalidation_0-error:0.018945\tvalidation_0-logloss:0.157766\tvalidation_1-error:0.016772\tvalidation_1-logloss:0.153908\n",
      "[16]\tvalidation_0-error:0.018945\tvalidation_0-logloss:0.149296\tvalidation_1-error:0.016772\tvalidation_1-logloss:0.145275\n",
      "[17]\tvalidation_0-error:0.018945\tvalidation_0-logloss:0.141779\tvalidation_1-error:0.016772\tvalidation_1-logloss:0.137841\n",
      "[18]\tvalidation_0-error:0.018945\tvalidation_0-logloss:0.135109\tvalidation_1-error:0.016772\tvalidation_1-logloss:0.131176\n",
      "[19]\tvalidation_0-error:0.018945\tvalidation_0-logloss:0.129231\tvalidation_1-error:0.016772\tvalidation_1-logloss:0.125379\n",
      "[20]\tvalidation_0-error:0.018945\tvalidation_0-logloss:0.124012\tvalidation_1-error:0.016772\tvalidation_1-logloss:0.120024\n",
      "[21]\tvalidation_0-error:0.018945\tvalidation_0-logloss:0.119409\tvalidation_1-error:0.016772\tvalidation_1-logloss:0.1155\n",
      "[22]\tvalidation_0-error:0.018945\tvalidation_0-logloss:0.115304\tvalidation_1-error:0.016772\tvalidation_1-logloss:0.111329\n",
      "[23]\tvalidation_0-error:0.018945\tvalidation_0-logloss:0.111598\tvalidation_1-error:0.016772\tvalidation_1-logloss:0.107495\n",
      "[24]\tvalidation_0-error:0.018945\tvalidation_0-logloss:0.108289\tvalidation_1-error:0.016772\tvalidation_1-logloss:0.104114\n",
      "[25]\tvalidation_0-error:0.018945\tvalidation_0-logloss:0.105232\tvalidation_1-error:0.016772\tvalidation_1-logloss:0.101132\n",
      "[26]\tvalidation_0-error:0.018945\tvalidation_0-logloss:0.102549\tvalidation_1-error:0.016772\tvalidation_1-logloss:0.098373\n",
      "[27]\tvalidation_0-error:0.018945\tvalidation_0-logloss:0.100078\tvalidation_1-error:0.016772\tvalidation_1-logloss:0.095972\n",
      "[28]\tvalidation_0-error:0.018945\tvalidation_0-logloss:0.09788\tvalidation_1-error:0.016772\tvalidation_1-logloss:0.093449\n",
      "[29]\tvalidation_0-error:0.018945\tvalidation_0-logloss:0.095844\tvalidation_1-error:0.016772\tvalidation_1-logloss:0.091328\n",
      "[30]\tvalidation_0-error:0.018945\tvalidation_0-logloss:0.093985\tvalidation_1-error:0.016772\tvalidation_1-logloss:0.089553\n",
      "[31]\tvalidation_0-error:0.018945\tvalidation_0-logloss:0.092314\tvalidation_1-error:0.016772\tvalidation_1-logloss:0.087798\n",
      "[32]\tvalidation_0-error:0.018945\tvalidation_0-logloss:0.09075\tvalidation_1-error:0.016772\tvalidation_1-logloss:0.086294\n",
      "[33]\tvalidation_0-error:0.018945\tvalidation_0-logloss:0.089376\tvalidation_1-error:0.016772\tvalidation_1-logloss:0.084837\n",
      "[34]\tvalidation_0-error:0.018945\tvalidation_0-logloss:0.088079\tvalidation_1-error:0.016772\tvalidation_1-logloss:0.08351\n",
      "[35]\tvalidation_0-error:0.018945\tvalidation_0-logloss:0.086879\tvalidation_1-error:0.016772\tvalidation_1-logloss:0.081997\n",
      "[36]\tvalidation_0-error:0.018945\tvalidation_0-logloss:0.085782\tvalidation_1-error:0.016772\tvalidation_1-logloss:0.08097\n",
      "[37]\tvalidation_0-error:0.018945\tvalidation_0-logloss:0.084707\tvalidation_1-error:0.016772\tvalidation_1-logloss:0.079804\n",
      "[38]\tvalidation_0-error:0.018945\tvalidation_0-logloss:0.083787\tvalidation_1-error:0.016772\tvalidation_1-logloss:0.078786\n",
      "[39]\tvalidation_0-error:0.018945\tvalidation_0-logloss:0.082896\tvalidation_1-error:0.016772\tvalidation_1-logloss:0.077807\n",
      "[40]\tvalidation_0-error:0.018945\tvalidation_0-logloss:0.082085\tvalidation_1-error:0.016772\tvalidation_1-logloss:0.076715\n",
      "[41]\tvalidation_0-error:0.018945\tvalidation_0-logloss:0.081308\tvalidation_1-error:0.016772\tvalidation_1-logloss:0.075997\n",
      "[42]\tvalidation_0-error:0.018945\tvalidation_0-logloss:0.080587\tvalidation_1-error:0.016772\tvalidation_1-logloss:0.075192\n",
      "[43]\tvalidation_0-error:0.018945\tvalidation_0-logloss:0.079905\tvalidation_1-error:0.016772\tvalidation_1-logloss:0.074462\n",
      "[44]\tvalidation_0-error:0.018945\tvalidation_0-logloss:0.0793\tvalidation_1-error:0.016772\tvalidation_1-logloss:0.073776\n",
      "[45]\tvalidation_0-error:0.018945\tvalidation_0-logloss:0.078701\tvalidation_1-error:0.016772\tvalidation_1-logloss:0.073232\n",
      "[46]\tvalidation_0-error:0.018945\tvalidation_0-logloss:0.078144\tvalidation_1-error:0.016772\tvalidation_1-logloss:0.07242\n",
      "[47]\tvalidation_0-error:0.018945\tvalidation_0-logloss:0.077631\tvalidation_1-error:0.016772\tvalidation_1-logloss:0.071945\n",
      "[48]\tvalidation_0-error:0.018945\tvalidation_0-logloss:0.077118\tvalidation_1-error:0.016772\tvalidation_1-logloss:0.071353\n",
      "[49]\tvalidation_0-error:0.018945\tvalidation_0-logloss:0.076648\tvalidation_1-error:0.016772\tvalidation_1-logloss:0.070946\n",
      "[50]\tvalidation_0-error:0.018945\tvalidation_0-logloss:0.076199\tvalidation_1-error:0.016772\tvalidation_1-logloss:0.070489\n",
      "[51]\tvalidation_0-error:0.018339\tvalidation_0-logloss:0.075785\tvalidation_1-error:0.016421\tvalidation_1-logloss:0.069847\n",
      "[52]\tvalidation_0-error:0.018685\tvalidation_0-logloss:0.075385\tvalidation_1-error:0.016509\tvalidation_1-logloss:0.069451\n",
      "[53]\tvalidation_0-error:0.018339\tvalidation_0-logloss:0.074987\tvalidation_1-error:0.016421\tvalidation_1-logloss:0.069066\n",
      "[54]\tvalidation_0-error:0.018339\tvalidation_0-logloss:0.074598\tvalidation_1-error:0.016421\tvalidation_1-logloss:0.068603\n",
      "[55]\tvalidation_0-error:0.018339\tvalidation_0-logloss:0.074221\tvalidation_1-error:0.016421\tvalidation_1-logloss:0.068269\n",
      "[56]\tvalidation_0-error:0.018339\tvalidation_0-logloss:0.073832\tvalidation_1-error:0.016421\tvalidation_1-logloss:0.067931\n",
      "[57]\tvalidation_0-error:0.018382\tvalidation_0-logloss:0.073485\tvalidation_1-error:0.016421\tvalidation_1-logloss:0.067663\n",
      "[58]\tvalidation_0-error:0.018339\tvalidation_0-logloss:0.073142\tvalidation_1-error:0.016421\tvalidation_1-logloss:0.067321\n",
      "[59]\tvalidation_0-error:0.018382\tvalidation_0-logloss:0.072801\tvalidation_1-error:0.016421\tvalidation_1-logloss:0.066972\n",
      "[60]\tvalidation_0-error:0.018382\tvalidation_0-logloss:0.072472\tvalidation_1-error:0.016421\tvalidation_1-logloss:0.066689\n",
      "[61]\tvalidation_0-error:0.018382\tvalidation_0-logloss:0.072157\tvalidation_1-error:0.016421\tvalidation_1-logloss:0.06639\n",
      "[62]\tvalidation_0-error:0.018382\tvalidation_0-logloss:0.071833\tvalidation_1-error:0.016421\tvalidation_1-logloss:0.065994\n",
      "[63]\tvalidation_0-error:0.018382\tvalidation_0-logloss:0.071535\tvalidation_1-error:0.016421\tvalidation_1-logloss:0.065699\n",
      "[64]\tvalidation_0-error:0.018382\tvalidation_0-logloss:0.071224\tvalidation_1-error:0.016421\tvalidation_1-logloss:0.065432\n",
      "[65]\tvalidation_0-error:0.018382\tvalidation_0-logloss:0.070921\tvalidation_1-error:0.016421\tvalidation_1-logloss:0.065129\n",
      "[66]\tvalidation_0-error:0.018339\tvalidation_0-logloss:0.070632\tvalidation_1-error:0.016421\tvalidation_1-logloss:0.064864\n",
      "[67]\tvalidation_0-error:0.018382\tvalidation_0-logloss:0.070336\tvalidation_1-error:0.016421\tvalidation_1-logloss:0.06437\n"
     ]
    },
    {
     "name": "stdout",
     "output_type": "stream",
     "text": [
      "[68]\tvalidation_0-error:0.018382\tvalidation_0-logloss:0.070054\tvalidation_1-error:0.016421\tvalidation_1-logloss:0.064022\n",
      "[69]\tvalidation_0-error:0.018339\tvalidation_0-logloss:0.06977\tvalidation_1-error:0.016421\tvalidation_1-logloss:0.063699\n",
      "[70]\tvalidation_0-error:0.018339\tvalidation_0-logloss:0.069495\tvalidation_1-error:0.016421\tvalidation_1-logloss:0.063449\n",
      "[71]\tvalidation_0-error:0.018296\tvalidation_0-logloss:0.069231\tvalidation_1-error:0.016421\tvalidation_1-logloss:0.063119\n",
      "[72]\tvalidation_0-error:0.018296\tvalidation_0-logloss:0.068969\tvalidation_1-error:0.016421\tvalidation_1-logloss:0.062799\n",
      "[73]\tvalidation_0-error:0.018296\tvalidation_0-logloss:0.068698\tvalidation_1-error:0.016421\tvalidation_1-logloss:0.062571\n",
      "[74]\tvalidation_0-error:0.018296\tvalidation_0-logloss:0.068427\tvalidation_1-error:0.016421\tvalidation_1-logloss:0.062285\n",
      "[75]\tvalidation_0-error:0.018296\tvalidation_0-logloss:0.06817\tvalidation_1-error:0.016421\tvalidation_1-logloss:0.06203\n",
      "[76]\tvalidation_0-error:0.018296\tvalidation_0-logloss:0.067914\tvalidation_1-error:0.016509\tvalidation_1-logloss:0.061788\n",
      "[77]\tvalidation_0-error:0.018296\tvalidation_0-logloss:0.067662\tvalidation_1-error:0.016509\tvalidation_1-logloss:0.061528\n",
      "[78]\tvalidation_0-error:0.018253\tvalidation_0-logloss:0.067413\tvalidation_1-error:0.016509\tvalidation_1-logloss:0.061302\n",
      "[79]\tvalidation_0-error:0.018296\tvalidation_0-logloss:0.067168\tvalidation_1-error:0.016509\tvalidation_1-logloss:0.061098\n",
      "[80]\tvalidation_0-error:0.018253\tvalidation_0-logloss:0.066927\tvalidation_1-error:0.016509\tvalidation_1-logloss:0.060842\n",
      "[81]\tvalidation_0-error:0.018166\tvalidation_0-logloss:0.066686\tvalidation_1-error:0.016421\tvalidation_1-logloss:0.060631\n",
      "[82]\tvalidation_0-error:0.018209\tvalidation_0-logloss:0.066447\tvalidation_1-error:0.016421\tvalidation_1-logloss:0.06033\n",
      "[83]\tvalidation_0-error:0.018209\tvalidation_0-logloss:0.06622\tvalidation_1-error:0.016421\tvalidation_1-logloss:0.060142\n",
      "[84]\tvalidation_0-error:0.018339\tvalidation_0-logloss:0.06599\tvalidation_1-error:0.016509\tvalidation_1-logloss:0.059853\n",
      "[85]\tvalidation_0-error:0.018209\tvalidation_0-logloss:0.065759\tvalidation_1-error:0.016421\tvalidation_1-logloss:0.059608\n",
      "[86]\tvalidation_0-error:0.018166\tvalidation_0-logloss:0.065536\tvalidation_1-error:0.016421\tvalidation_1-logloss:0.059385\n",
      "[87]\tvalidation_0-error:0.018166\tvalidation_0-logloss:0.065314\tvalidation_1-error:0.016421\tvalidation_1-logloss:0.059202\n",
      "[88]\tvalidation_0-error:0.018166\tvalidation_0-logloss:0.065095\tvalidation_1-error:0.016421\tvalidation_1-logloss:0.058976\n",
      "[89]\tvalidation_0-error:0.018166\tvalidation_0-logloss:0.064877\tvalidation_1-error:0.016421\tvalidation_1-logloss:0.058779\n",
      "[90]\tvalidation_0-error:0.018209\tvalidation_0-logloss:0.064657\tvalidation_1-error:0.016421\tvalidation_1-logloss:0.058396\n",
      "[91]\tvalidation_0-error:0.018253\tvalidation_0-logloss:0.064448\tvalidation_1-error:0.016421\tvalidation_1-logloss:0.058213\n",
      "[92]\tvalidation_0-error:0.018209\tvalidation_0-logloss:0.064232\tvalidation_1-error:0.016421\tvalidation_1-logloss:0.057994\n",
      "[93]\tvalidation_0-error:0.018209\tvalidation_0-logloss:0.064028\tvalidation_1-error:0.016421\tvalidation_1-logloss:0.057777\n",
      "[94]\tvalidation_0-error:0.018209\tvalidation_0-logloss:0.063823\tvalidation_1-error:0.016421\tvalidation_1-logloss:0.05761\n",
      "[95]\tvalidation_0-error:0.018209\tvalidation_0-logloss:0.063621\tvalidation_1-error:0.016421\tvalidation_1-logloss:0.057471\n",
      "[96]\tvalidation_0-error:0.018123\tvalidation_0-logloss:0.063423\tvalidation_1-error:0.016333\tvalidation_1-logloss:0.05722\n",
      "[97]\tvalidation_0-error:0.018166\tvalidation_0-logloss:0.063219\tvalidation_1-error:0.016333\tvalidation_1-logloss:0.057077\n",
      "[98]\tvalidation_0-error:0.018123\tvalidation_0-logloss:0.063021\tvalidation_1-error:0.016333\tvalidation_1-logloss:0.056945\n",
      "[99]\tvalidation_0-error:0.018123\tvalidation_0-logloss:0.062828\tvalidation_1-error:0.016333\tvalidation_1-logloss:0.056745\n"
     ]
    }
   ],
   "source": [
    "model = xgb.XGBClassifier(max_depth=1)\n",
    "eval_set = [(X_train, y_train), (X_test, y_test)]\n",
    "model.fit(X_train, y_train, eval_metric=[\"error\", \"logloss\"], eval_set=eval_set, verbose=True)\n",
    "predictionsXG = model.predict(X_test)"
   ]
  },
  {
   "cell_type": "markdown",
   "metadata": {},
   "source": [
    "# Logistic Regression"
   ]
  },
  {
   "cell_type": "code",
   "execution_count": 281,
   "metadata": {
    "collapsed": true
   },
   "outputs": [],
   "source": [
    "logmodel=LogisticRegression()\n",
    "logmodel.fit(X_train,y_train)\n",
    "predictionsLR = logmodel.predict(X_test)"
   ]
  },
  {
   "cell_type": "markdown",
   "metadata": {},
   "source": [
    "# Prediction and Classifications"
   ]
  },
  {
   "cell_type": "markdown",
   "metadata": {},
   "source": [
    "Next step is to compare the performance of our models RandomForest, Logistic Regression and XGBOOST"
   ]
  },
  {
   "cell_type": "code",
   "execution_count": 96,
   "metadata": {
    "collapsed": true
   },
   "outputs": [],
   "source": [
    "from sklearn.metrics import classification_report, confusion_matrix, accuracy_score"
   ]
  },
  {
   "cell_type": "code",
   "execution_count": 254,
   "metadata": {},
   "outputs": [],
   "source": [
    "from sklearn.ensemble import GradientBoostingClassifier\n"
   ]
  },
  {
   "cell_type": "code",
   "execution_count": 105,
   "metadata": {
    "collapsed": true
   },
   "outputs": [],
   "source": [
    "from sklearn.metrics import plot_roc_curve"
   ]
  },
  {
   "cell_type": "code",
   "execution_count": 282,
   "metadata": {},
   "outputs": [
    {
     "name": "stdout",
     "output_type": "stream",
     "text": [
      "              precision    recall  f1-score   support\n",
      "\n",
      "          -1       0.99      1.00      1.00     10340\n",
      "           1       1.00      0.92      0.95      1048\n",
      "\n",
      "    accuracy                           0.99     11388\n",
      "   macro avg       0.99      0.96      0.98     11388\n",
      "weighted avg       0.99      0.99      0.99     11388\n",
      "\n"
     ]
    }
   ],
   "source": [
    "print(classification_report(y_test,predictionsRF))"
   ]
  },
  {
   "cell_type": "code",
   "execution_count": 283,
   "metadata": {},
   "outputs": [
    {
     "name": "stdout",
     "output_type": "stream",
     "text": [
      "              precision    recall  f1-score   support\n",
      "\n",
      "          -1       0.91      0.99      0.95     10340\n",
      "           1       0.39      0.07      0.12      1048\n",
      "\n",
      "    accuracy                           0.90     11388\n",
      "   macro avg       0.65      0.53      0.54     11388\n",
      "weighted avg       0.87      0.90      0.87     11388\n",
      "\n"
     ]
    }
   ],
   "source": [
    "print(classification_report(y_test,predictionsLR))"
   ]
  },
  {
   "cell_type": "code",
   "execution_count": 284,
   "metadata": {},
   "outputs": [
    {
     "name": "stdout",
     "output_type": "stream",
     "text": [
      "              precision    recall  f1-score   support\n",
      "\n",
      "          -1       0.98      1.00      0.99     10340\n",
      "           1       0.97      0.85      0.91      1048\n",
      "\n",
      "    accuracy                           0.98     11388\n",
      "   macro avg       0.98      0.92      0.95     11388\n",
      "weighted avg       0.98      0.98      0.98     11388\n",
      "\n"
     ]
    }
   ],
   "source": [
    "print(classification_report(y_testS,predictionsXG))"
   ]
  },
  {
   "cell_type": "code",
   "execution_count": 285,
   "metadata": {},
   "outputs": [
    {
     "data": {
      "image/png": "[encoded data removed]",
      "text/plain": [
       "<Figure size 432x288 with 1 Axes>"
      ]
     },
     "metadata": {},
     "output_type": "display_data"
    }
   ],
   "source": [
    "ax = plt.gca()\n",
    "rf_roc = plot_roc_curve(rf, X_test, y_test,ax=ax, alpha=0.8)\n",
    "lr_roc = plot_roc_curve(logmodel, X_test, y_test,ax=ax, alpha=0.8)\n",
    "xg_roc = plot_roc_curve(model, X_test, y_test,ax=ax, alpha=0.8)\n",
    "plt.show()\n",
    "\n",
    "# We see the decision tree-based models are more accurate"
   ]
  },
  {
   "cell_type": "markdown",
   "metadata": {},
   "source": [
    "# Final Fitting"
   ]
  },
  {
   "cell_type": "code",
   "execution_count": 286,
   "metadata": {
    "collapsed": true
   },
   "outputs": [],
   "source": [
    "test=pd.read_csv('test1Final.csv')"
   ]
  },
  {
   "cell_type": "code",
   "execution_count": 287,
   "metadata": {
    "collapsed": true
   },
   "outputs": [],
   "source": [
    "X=test.drop([\"label\",\"purchaseTime\"], axis=1)\n",
    "y=test['label']"
   ]
  },
  {
   "cell_type": "code",
   "execution_count": 288,
   "metadata": {},
   "outputs": [],
   "source": [
    "for i in Numerical_Var:\n",
    "    x= X[[i]].values\n",
    "    scaler = preprocessing.StandardScaler()\n",
    "    x_scaled = scaler.fit_transform(x)\n",
    "    X[i]=x_scaled"
   ]
  },
  {
   "cell_type": "code",
   "execution_count": 289,
   "metadata": {},
   "outputs": [
    {
     "data": {
      "text/html": [
       "<div>\n",
       "<style scoped>\n",
       "    .dataframe tbody tr th:only-of-type {\n",
       "        vertical-align: middle;\n",
       "    }\n",
       "\n",
       "    .dataframe tbody tr th {\n",
       "        vertical-align: top;\n",
       "    }\n",
       "\n",
       "    .dataframe thead th {\n",
       "        text-align: right;\n",
       "    }\n",
       "</style>\n",
       "<table border=\"1\" class=\"dataframe\">\n",
       "  <thead>\n",
       "    <tr style=\"text-align: right;\">\n",
       "      <th></th>\n",
       "      <th>id</th>\n",
       "      <th>visitTime</th>\n",
       "      <th>hour</th>\n",
       "      <th>C1</th>\n",
       "      <th>C2</th>\n",
       "      <th>C3</th>\n",
       "      <th>C4</th>\n",
       "      <th>C5</th>\n",
       "      <th>C6</th>\n",
       "      <th>C7</th>\n",
       "      <th>...</th>\n",
       "      <th>N4</th>\n",
       "      <th>N5</th>\n",
       "      <th>N6</th>\n",
       "      <th>N7</th>\n",
       "      <th>N8</th>\n",
       "      <th>N9</th>\n",
       "      <th>N10</th>\n",
       "      <th>C10</th>\n",
       "      <th>C11</th>\n",
       "      <th>C12</th>\n",
       "    </tr>\n",
       "  </thead>\n",
       "  <tbody>\n",
       "    <tr>\n",
       "      <th>0</th>\n",
       "      <td>1</td>\n",
       "      <td>19360733</td>\n",
       "      <td>0</td>\n",
       "      <td>2569487005</td>\n",
       "      <td>403381353</td>\n",
       "      <td>681762206</td>\n",
       "      <td>652481754</td>\n",
       "      <td>2967512603</td>\n",
       "      <td>580883881</td>\n",
       "      <td>2303407174</td>\n",
       "      <td>...</td>\n",
       "      <td>-0.102243</td>\n",
       "      <td>-0.01346</td>\n",
       "      <td>-0.047226</td>\n",
       "      <td>-0.032181</td>\n",
       "      <td>-0.127852</td>\n",
       "      <td>-0.033793</td>\n",
       "      <td>-0.041962</td>\n",
       "      <td>2128770044</td>\n",
       "      <td>3617851689</td>\n",
       "      <td>4220791646</td>\n",
       "    </tr>\n",
       "    <tr>\n",
       "      <th>1</th>\n",
       "      <td>2</td>\n",
       "      <td>19360734</td>\n",
       "      <td>0</td>\n",
       "      <td>2416811818</td>\n",
       "      <td>1235983246</td>\n",
       "      <td>3653557526</td>\n",
       "      <td>652481754</td>\n",
       "      <td>2116767313</td>\n",
       "      <td>571765677</td>\n",
       "      <td>2303407174</td>\n",
       "      <td>...</td>\n",
       "      <td>-0.102243</td>\n",
       "      <td>-0.01346</td>\n",
       "      <td>-0.047226</td>\n",
       "      <td>-0.032181</td>\n",
       "      <td>-0.127852</td>\n",
       "      <td>-0.033793</td>\n",
       "      <td>-0.041962</td>\n",
       "      <td>4256459078</td>\n",
       "      <td>2379633508</td>\n",
       "      <td>1284343215</td>\n",
       "    </tr>\n",
       "    <tr>\n",
       "      <th>2</th>\n",
       "      <td>3</td>\n",
       "      <td>19360735</td>\n",
       "      <td>0</td>\n",
       "      <td>3765056181</td>\n",
       "      <td>1235983246</td>\n",
       "      <td>1310333812</td>\n",
       "      <td>652481754</td>\n",
       "      <td>2116767313</td>\n",
       "      <td>571765677</td>\n",
       "      <td>2303407174</td>\n",
       "      <td>...</td>\n",
       "      <td>-0.102243</td>\n",
       "      <td>-0.01346</td>\n",
       "      <td>-0.047226</td>\n",
       "      <td>-0.032181</td>\n",
       "      <td>-0.127852</td>\n",
       "      <td>-0.033793</td>\n",
       "      <td>-0.041962</td>\n",
       "      <td>2840358457</td>\n",
       "      <td>3831440054</td>\n",
       "      <td>1213938795</td>\n",
       "    </tr>\n",
       "    <tr>\n",
       "      <th>3</th>\n",
       "      <td>4</td>\n",
       "      <td>19360737</td>\n",
       "      <td>0</td>\n",
       "      <td>955802445</td>\n",
       "      <td>403381353</td>\n",
       "      <td>2290282995</td>\n",
       "      <td>652481754</td>\n",
       "      <td>2967512603</td>\n",
       "      <td>1607619193</td>\n",
       "      <td>1342367140</td>\n",
       "      <td>...</td>\n",
       "      <td>-0.102243</td>\n",
       "      <td>-0.01346</td>\n",
       "      <td>-0.047226</td>\n",
       "      <td>-0.032181</td>\n",
       "      <td>-0.127852</td>\n",
       "      <td>-0.033793</td>\n",
       "      <td>-0.041962</td>\n",
       "      <td>4039873369</td>\n",
       "      <td>535829057</td>\n",
       "      <td>3828748840</td>\n",
       "    </tr>\n",
       "    <tr>\n",
       "      <th>4</th>\n",
       "      <td>5</td>\n",
       "      <td>19360752</td>\n",
       "      <td>0</td>\n",
       "      <td>2569487005</td>\n",
       "      <td>2517724481</td>\n",
       "      <td>2463986301</td>\n",
       "      <td>2308170622</td>\n",
       "      <td>2967512603</td>\n",
       "      <td>580883881</td>\n",
       "      <td>2303407174</td>\n",
       "      <td>...</td>\n",
       "      <td>-0.102243</td>\n",
       "      <td>-0.01346</td>\n",
       "      <td>-0.047226</td>\n",
       "      <td>-0.032181</td>\n",
       "      <td>-0.127852</td>\n",
       "      <td>-0.033793</td>\n",
       "      <td>-0.041962</td>\n",
       "      <td>907610626</td>\n",
       "      <td>3617851689</td>\n",
       "      <td>4220791646</td>\n",
       "    </tr>\n",
       "  </tbody>\n",
       "</table>\n",
       "<p>5 rows × 25 columns</p>\n",
       "</div>"
      ],
      "text/plain": [
       "   id  visitTime  hour          C1          C2          C3          C4  \\\n",
       "0   1   19360733     0  2569487005   403381353   681762206   652481754   \n",
       "1   2   19360734     0  2416811818  1235983246  3653557526   652481754   \n",
       "2   3   19360735     0  3765056181  1235983246  1310333812   652481754   \n",
       "3   4   19360737     0   955802445   403381353  2290282995   652481754   \n",
       "4   5   19360752     0  2569487005  2517724481  2463986301  2308170622   \n",
       "\n",
       "           C5          C6          C7  ...        N4       N5        N6  \\\n",
       "0  2967512603   580883881  2303407174  ... -0.102243 -0.01346 -0.047226   \n",
       "1  2116767313   571765677  2303407174  ... -0.102243 -0.01346 -0.047226   \n",
       "2  2116767313   571765677  2303407174  ... -0.102243 -0.01346 -0.047226   \n",
       "3  2967512603  1607619193  1342367140  ... -0.102243 -0.01346 -0.047226   \n",
       "4  2967512603   580883881  2303407174  ... -0.102243 -0.01346 -0.047226   \n",
       "\n",
       "         N7        N8        N9       N10         C10         C11         C12  \n",
       "0 -0.032181 -0.127852 -0.033793 -0.041962  2128770044  3617851689  4220791646  \n",
       "1 -0.032181 -0.127852 -0.033793 -0.041962  4256459078  2379633508  1284343215  \n",
       "2 -0.032181 -0.127852 -0.033793 -0.041962  2840358457  3831440054  1213938795  \n",
       "3 -0.032181 -0.127852 -0.033793 -0.041962  4039873369   535829057  3828748840  \n",
       "4 -0.032181 -0.127852 -0.033793 -0.041962   907610626  3617851689  4220791646  \n",
       "\n",
       "[5 rows x 25 columns]"
      ]
     },
     "execution_count": 289,
     "metadata": {},
     "output_type": "execute_result"
    }
   ],
   "source": [
    "X.head()"
   ]
  },
  {
   "cell_type": "code",
   "execution_count": 290,
   "metadata": {},
   "outputs": [],
   "source": [
    "Y_pred = rf.predict_proba(X)\n",
    "Ypred = pd.DataFrame(Y_pred)\n",
    "test1 = test.id"
   ]
  },
  {
   "cell_type": "code",
   "execution_count": 296,
   "metadata": {},
   "outputs": [],
   "source": [
    "Final_Pred = pd.concat([test1.reset_index(drop=True), Ypred.iloc[:,1].reset_index(drop=True)], axis=1)"
   ]
  },
  {
   "cell_type": "code",
   "execution_count": 297,
   "metadata": {},
   "outputs": [
    {
     "name": "stdout",
     "output_type": "stream",
     "text": [
      "          id     1\n",
      "0          1  0.19\n",
      "1          2  0.15\n",
      "2          3  0.16\n",
      "3          4  0.09\n",
      "4          5  0.19\n",
      "...      ...   ...\n",
      "32081  32082  0.36\n",
      "32082  32083  0.31\n",
      "32083  32084  0.30\n",
      "32084  32085  0.39\n",
      "32085  32086  0.30\n",
      "\n",
      "[32086 rows x 2 columns]\n",
      "32086 32086\n",
      "0    1\n",
      "1    2\n",
      "2    3\n",
      "3    4\n",
      "4    5\n",
      "Name: id, dtype: int64       0     1\n",
      "0  0.81  0.19\n",
      "1  0.85  0.15\n",
      "2  0.84  0.16\n",
      "3  0.91  0.09\n",
      "4  0.81  0.19\n"
     ]
    }
   ],
   "source": [
    "print(Final_Pred)\n",
    "\n",
    "print(len(test1) , len(Ypred))\n",
    "\n",
    "print(test1.head(), Ypred.head())"
   ]
  },
  {
   "cell_type": "code",
   "execution_count": 298,
   "metadata": {},
   "outputs": [],
   "source": [
    "Final_Pred.to_csv('/Users/JohanLg/Documents/My Documents/ESCP/Kurser/Vår/Python/Assignment_23_e197443.csv')"
   ]
  },
  {
   "cell_type": "code",
   "execution_count": null,
   "metadata": {
    "collapsed": true
   },
   "outputs": [],
   "source": []
  }
 ],
 "metadata": {
  "kernelspec": {
   "display_name": "Python 3",
   "language": "python",
   "name": "python3"
  },
  "language_info": {
   "codemirror_mode": {
    "name": "ipython",
    "version": 3
   },
   "file_extension": ".py",
   "mimetype": "text/x-python",
   "name": "python",
   "nbconvert_exporter": "python",
   "pygments_lexer": "ipython3",
   "version": "3.6.2"
  }
 },
 "nbformat": 4,
 "nbformat_minor": 2
}
