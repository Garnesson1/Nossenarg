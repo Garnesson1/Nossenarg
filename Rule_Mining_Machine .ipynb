{
 "cells": [
  {
   "cell_type": "markdown",
   "metadata": {},
   "source": [
    "## Features based on Association Rules "
   ]
  },
  {
   "cell_type": "markdown",
   "metadata": {},
   "source": [
    "In this notebook we, we will try to understand machine failure using sensor data. The failures are be recorded as Codes \n",
    "(All codes a fake, data was anonymised for this purpose). The codes could have different meaning (like full stop of the engine, warnings, communication problems). Some codes lead to longer failures (10 hours) but most errors won't even stop the machine.\n",
    "\n",
    "My first intution was that before a prolonged failure, a certain set of warnings or errors might preced them. If the company could know which error-codes have a tendency to precede a full-stop, this could be tracked as KPI (ex Critical Warnings/Week) to better anticipate failure. \n",
    "\n",
    "## ENTER the Association Rule Miner! \n",
    "\n",
    "Association Rule Mining, also known as Market Basket, is a technique used in marketing to decide which products are frequently bought together. It calculates confidence (amount of pairs bought together/all) and support (how frequently the pair appears /all) to show patterns in objects.\n",
    "\n",
    "With this approach, we will try to find which error codes seem to happen the week before a failure! "
   ]
  },
  {
   "cell_type": "code",
   "execution_count": 1,
   "metadata": {
    "collapsed": true
   },
   "outputs": [],
   "source": [
    "#!pip install mlxtend"
   ]
  },
  {
   "cell_type": "code",
   "execution_count": 3,
   "metadata": {
    "collapsed": true
   },
   "outputs": [],
   "source": [
    "import pandas as pd \n",
    "from mlxtend.frequent_patterns import apriori\n",
    "from mlxtend.frequent_patterns import association_rules"
   ]
  },
  {
   "cell_type": "code",
   "execution_count": 4,
   "metadata": {
    "collapsed": true
   },
   "outputs": [],
   "source": [
    "import os as os \n",
    "os.chdir('/Users/JohanLg/Documents/My Documents/ESCP/Kurser/Vår/Hackathon')"
   ]
  },
  {
   "cell_type": "code",
   "execution_count": 9,
   "metadata": {},
   "outputs": [
    {
     "name": "stderr",
     "output_type": "stream",
     "text": [
      "/anaconda/lib/python3.6/site-packages/IPython/core/interactiveshell.py:2698: DtypeWarning: Columns (0,1,2,3,4,5,6,32,33,34,35,36,37,38,40,41,42,50) have mixed types.Specify dtype option on import or set low_memory=False.\n",
      "  interactivity=interactivity, compiler=compiler, result=result)\n"
     ]
    }
   ],
   "source": [
    "data = pd.read_csv('AllTurbData', encoding='iso-8859-1')"
   ]
  },
  {
   "cell_type": "markdown",
   "metadata": {},
   "source": [
    "# Cleaning \n",
    "\n",
    "The dataset has a \"countdown\" feature that counts the number of instances between each important failure of the turbine. As the data is divided in to 10 min cycles, we filter out all cycles above 1000 (1000 x 10min ~= 1 week) "
   ]
  },
  {
   "cell_type": "code",
   "execution_count": 10,
   "metadata": {
    "collapsed": true
   },
   "outputs": [],
   "source": [
    "Apriori = data[data.Countdown < 1000]"
   ]
  },
  {
   "cell_type": "code",
   "execution_count": 11,
   "metadata": {
    "collapsed": true
   },
   "outputs": [],
   "source": [
    "New = Apriori.iloc[:,[52,54,55,56]]"
   ]
  },
  {
   "cell_type": "code",
   "execution_count": 12,
   "metadata": {},
   "outputs": [
    {
     "data": {
      "text/plain": [
       "Code         float64\n",
       "Comment       object\n",
       "Countdown    float64\n",
       "Group        float64\n",
       "dtype: object"
      ]
     },
     "execution_count": 12,
     "metadata": {},
     "output_type": "execute_result"
    }
   ],
   "source": [
    "New.dtypes"
   ]
  },
  {
   "cell_type": "markdown",
   "metadata": {},
   "source": [
    "As we can see below, each coundown til failure is also assigned a \"group\". This value is arbitrary and is just a way for the association rule miner to recoginse \"transactions\", which in this case is represented as the errors in a 1-week cycle"
   ]
  },
  {
   "cell_type": "code",
   "execution_count": 15,
   "metadata": {
    "collapsed": true
   },
   "outputs": [],
   "source": [
    "New1 = New2.dropna()"
   ]
  },
  {
   "cell_type": "code",
   "execution_count": 21,
   "metadata": {},
   "outputs": [
    {
     "name": "stderr",
     "output_type": "stream",
     "text": [
      "/anaconda/lib/python3.6/site-packages/ipykernel_launcher.py:3: SettingWithCopyWarning: \n",
      "A value is trying to be set on a copy of a slice from a DataFrame.\n",
      "Try using .loc[row_indexer,col_indexer] = value instead\n",
      "\n",
      "See the caveats in the documentation: https://pandas.pydata.org/pandas-docs/stable/user_guide/indexing.html#returning-a-view-versus-a-copy\n",
      "  This is separate from the ipykernel package so we can avoid doing imports until\n"
     ]
    }
   ],
   "source": [
    "# Anonymise codes\n",
    "New1['Code'] = New1['Code'].astype('category').cat.codes"
   ]
  },
  {
   "cell_type": "code",
   "execution_count": 22,
   "metadata": {},
   "outputs": [
    {
     "data": {
      "text/plain": [
       "Group\n",
       "22.0      1\n",
       "23.0      1\n",
       "24.0      1\n",
       "26.0      1\n",
       "42.0      3\n",
       "         ..\n",
       "2240.0    4\n",
       "2242.0    1\n",
       "2243.0    1\n",
       "2248.0    6\n",
       "2251.0    3\n",
       "Name: Code, Length: 771, dtype: int64"
      ]
     },
     "execution_count": 22,
     "metadata": {},
     "output_type": "execute_result"
    }
   ],
   "source": [
    "New1.groupby('Group')['Code'].count()\n",
    "\n",
    "# We see that some cycles ex 2240 had 4 errors in total"
   ]
  },
  {
   "cell_type": "markdown",
   "metadata": {},
   "source": [
    "## Mining\n",
    "\n",
    "For the rule miner to work, we need \"transactional\" data. "
   ]
  },
  {
   "cell_type": "code",
   "execution_count": 24,
   "metadata": {
    "collapsed": true
   },
   "outputs": [],
   "source": [
    "df = New1.groupby(['Group','Code']).size().reset_index(name='count')\n",
    "\n",
    "# We count the number of instances for every code in every group,\n",
    "# then set an index for the values"
   ]
  },
  {
   "cell_type": "code",
   "execution_count": 25,
   "metadata": {
    "collapsed": true
   },
   "outputs": [],
   "source": [
    "basket = (df.groupby(['Group', 'Code'])['count']\n",
    "        # Group the data on their code count.\n",
    "          .sum().unstack()\n",
    "        # Pivot the table with group as rows and code as columns\n",
    "          .reset_index().fillna(0)\n",
    "        # Fill the empty spaces with 0, representing that a code \n",
    "        # did not happen during that period\n",
    "          .set_index('Group'))"
   ]
  },
  {
   "cell_type": "code",
   "execution_count": 26,
   "metadata": {},
   "outputs": [
    {
     "data": {
      "text/html": [
       "<div>\n",
       "<style scoped>\n",
       "    .dataframe tbody tr th:only-of-type {\n",
       "        vertical-align: middle;\n",
       "    }\n",
       "\n",
       "    .dataframe tbody tr th {\n",
       "        vertical-align: top;\n",
       "    }\n",
       "\n",
       "    .dataframe thead th {\n",
       "        text-align: right;\n",
       "    }\n",
       "</style>\n",
       "<table border=\"1\" class=\"dataframe\">\n",
       "  <thead>\n",
       "    <tr style=\"text-align: right;\">\n",
       "      <th>Code</th>\n",
       "      <th>0</th>\n",
       "      <th>1</th>\n",
       "      <th>2</th>\n",
       "      <th>3</th>\n",
       "      <th>4</th>\n",
       "      <th>5</th>\n",
       "      <th>6</th>\n",
       "      <th>7</th>\n",
       "      <th>8</th>\n",
       "      <th>9</th>\n",
       "      <th>...</th>\n",
       "      <th>63</th>\n",
       "      <th>64</th>\n",
       "      <th>65</th>\n",
       "      <th>66</th>\n",
       "      <th>67</th>\n",
       "      <th>68</th>\n",
       "      <th>69</th>\n",
       "      <th>70</th>\n",
       "      <th>71</th>\n",
       "      <th>72</th>\n",
       "    </tr>\n",
       "    <tr>\n",
       "      <th>Group</th>\n",
       "      <th></th>\n",
       "      <th></th>\n",
       "      <th></th>\n",
       "      <th></th>\n",
       "      <th></th>\n",
       "      <th></th>\n",
       "      <th></th>\n",
       "      <th></th>\n",
       "      <th></th>\n",
       "      <th></th>\n",
       "      <th></th>\n",
       "      <th></th>\n",
       "      <th></th>\n",
       "      <th></th>\n",
       "      <th></th>\n",
       "      <th></th>\n",
       "      <th></th>\n",
       "      <th></th>\n",
       "      <th></th>\n",
       "      <th></th>\n",
       "      <th></th>\n",
       "    </tr>\n",
       "  </thead>\n",
       "  <tbody>\n",
       "    <tr>\n",
       "      <th>22.0</th>\n",
       "      <td>0.0</td>\n",
       "      <td>0.0</td>\n",
       "      <td>0.0</td>\n",
       "      <td>0.0</td>\n",
       "      <td>0.0</td>\n",
       "      <td>0.0</td>\n",
       "      <td>0.0</td>\n",
       "      <td>0.0</td>\n",
       "      <td>0.0</td>\n",
       "      <td>0.0</td>\n",
       "      <td>...</td>\n",
       "      <td>0.0</td>\n",
       "      <td>0.0</td>\n",
       "      <td>0.0</td>\n",
       "      <td>0.0</td>\n",
       "      <td>0.0</td>\n",
       "      <td>0.0</td>\n",
       "      <td>0.0</td>\n",
       "      <td>0.0</td>\n",
       "      <td>0.0</td>\n",
       "      <td>0.0</td>\n",
       "    </tr>\n",
       "    <tr>\n",
       "      <th>23.0</th>\n",
       "      <td>0.0</td>\n",
       "      <td>0.0</td>\n",
       "      <td>0.0</td>\n",
       "      <td>0.0</td>\n",
       "      <td>0.0</td>\n",
       "      <td>0.0</td>\n",
       "      <td>0.0</td>\n",
       "      <td>0.0</td>\n",
       "      <td>0.0</td>\n",
       "      <td>0.0</td>\n",
       "      <td>...</td>\n",
       "      <td>0.0</td>\n",
       "      <td>0.0</td>\n",
       "      <td>0.0</td>\n",
       "      <td>0.0</td>\n",
       "      <td>0.0</td>\n",
       "      <td>0.0</td>\n",
       "      <td>0.0</td>\n",
       "      <td>0.0</td>\n",
       "      <td>0.0</td>\n",
       "      <td>0.0</td>\n",
       "    </tr>\n",
       "    <tr>\n",
       "      <th>24.0</th>\n",
       "      <td>0.0</td>\n",
       "      <td>0.0</td>\n",
       "      <td>0.0</td>\n",
       "      <td>0.0</td>\n",
       "      <td>0.0</td>\n",
       "      <td>0.0</td>\n",
       "      <td>0.0</td>\n",
       "      <td>0.0</td>\n",
       "      <td>0.0</td>\n",
       "      <td>0.0</td>\n",
       "      <td>...</td>\n",
       "      <td>0.0</td>\n",
       "      <td>0.0</td>\n",
       "      <td>0.0</td>\n",
       "      <td>0.0</td>\n",
       "      <td>0.0</td>\n",
       "      <td>0.0</td>\n",
       "      <td>0.0</td>\n",
       "      <td>0.0</td>\n",
       "      <td>0.0</td>\n",
       "      <td>0.0</td>\n",
       "    </tr>\n",
       "    <tr>\n",
       "      <th>26.0</th>\n",
       "      <td>0.0</td>\n",
       "      <td>0.0</td>\n",
       "      <td>0.0</td>\n",
       "      <td>0.0</td>\n",
       "      <td>0.0</td>\n",
       "      <td>0.0</td>\n",
       "      <td>0.0</td>\n",
       "      <td>0.0</td>\n",
       "      <td>0.0</td>\n",
       "      <td>0.0</td>\n",
       "      <td>...</td>\n",
       "      <td>0.0</td>\n",
       "      <td>0.0</td>\n",
       "      <td>0.0</td>\n",
       "      <td>0.0</td>\n",
       "      <td>0.0</td>\n",
       "      <td>0.0</td>\n",
       "      <td>0.0</td>\n",
       "      <td>0.0</td>\n",
       "      <td>0.0</td>\n",
       "      <td>0.0</td>\n",
       "    </tr>\n",
       "    <tr>\n",
       "      <th>42.0</th>\n",
       "      <td>0.0</td>\n",
       "      <td>0.0</td>\n",
       "      <td>0.0</td>\n",
       "      <td>0.0</td>\n",
       "      <td>0.0</td>\n",
       "      <td>0.0</td>\n",
       "      <td>0.0</td>\n",
       "      <td>0.0</td>\n",
       "      <td>0.0</td>\n",
       "      <td>0.0</td>\n",
       "      <td>...</td>\n",
       "      <td>0.0</td>\n",
       "      <td>0.0</td>\n",
       "      <td>0.0</td>\n",
       "      <td>0.0</td>\n",
       "      <td>0.0</td>\n",
       "      <td>0.0</td>\n",
       "      <td>0.0</td>\n",
       "      <td>0.0</td>\n",
       "      <td>0.0</td>\n",
       "      <td>0.0</td>\n",
       "    </tr>\n",
       "  </tbody>\n",
       "</table>\n",
       "<p>5 rows × 73 columns</p>\n",
       "</div>"
      ],
      "text/plain": [
       "Code    0    1    2    3    4    5    6    7    8    9   ...   63   64   65  \\\n",
       "Group                                                    ...                  \n",
       "22.0   0.0  0.0  0.0  0.0  0.0  0.0  0.0  0.0  0.0  0.0  ...  0.0  0.0  0.0   \n",
       "23.0   0.0  0.0  0.0  0.0  0.0  0.0  0.0  0.0  0.0  0.0  ...  0.0  0.0  0.0   \n",
       "24.0   0.0  0.0  0.0  0.0  0.0  0.0  0.0  0.0  0.0  0.0  ...  0.0  0.0  0.0   \n",
       "26.0   0.0  0.0  0.0  0.0  0.0  0.0  0.0  0.0  0.0  0.0  ...  0.0  0.0  0.0   \n",
       "42.0   0.0  0.0  0.0  0.0  0.0  0.0  0.0  0.0  0.0  0.0  ...  0.0  0.0  0.0   \n",
       "\n",
       "Code    66   67   68   69   70   71   72  \n",
       "Group                                     \n",
       "22.0   0.0  0.0  0.0  0.0  0.0  0.0  0.0  \n",
       "23.0   0.0  0.0  0.0  0.0  0.0  0.0  0.0  \n",
       "24.0   0.0  0.0  0.0  0.0  0.0  0.0  0.0  \n",
       "26.0   0.0  0.0  0.0  0.0  0.0  0.0  0.0  \n",
       "42.0   0.0  0.0  0.0  0.0  0.0  0.0  0.0  \n",
       "\n",
       "[5 rows x 73 columns]"
      ]
     },
     "execution_count": 26,
     "metadata": {},
     "output_type": "execute_result"
    }
   ],
   "source": [
    "basket.head()"
   ]
  },
  {
   "cell_type": "code",
   "execution_count": 27,
   "metadata": {
    "collapsed": true
   },
   "outputs": [],
   "source": [
    "def encode_units(x):\n",
    "    if x <= 0:\n",
    "        return 0\n",
    "    if x >= 1:\n",
    "        return 1\n",
    "    \n",
    "# Hot-encode every observation"
   ]
  },
  {
   "cell_type": "code",
   "execution_count": 28,
   "metadata": {
    "collapsed": true
   },
   "outputs": [],
   "source": [
    "basket_sets = basket.applymap(encode_units)"
   ]
  },
  {
   "cell_type": "markdown",
   "metadata": {},
   "source": [
    "## Rules\n",
    "\n",
    "And below we get our rules! \n",
    "\n",
    "Confidence is high, meaning that in the case that 53 happen during a cycle, 52 will be the consquent 100% of the time. But the support shows us that this only happens in 1.2% of the cycles. Not very useful! \n",
    "\n",
    "This is due to the fact that some codes are labeled as warning and not stops. 52 might be a warning and not a full Stop! Therefore, we will make sure that all CONSEQUENTS are labeled as STOP."
   ]
  },
  {
   "cell_type": "code",
   "execution_count": 29,
   "metadata": {
    "scrolled": true
   },
   "outputs": [
    {
     "data": {
      "text/html": [
       "<div>\n",
       "<style scoped>\n",
       "    .dataframe tbody tr th:only-of-type {\n",
       "        vertical-align: middle;\n",
       "    }\n",
       "\n",
       "    .dataframe tbody tr th {\n",
       "        vertical-align: top;\n",
       "    }\n",
       "\n",
       "    .dataframe thead th {\n",
       "        text-align: right;\n",
       "    }\n",
       "</style>\n",
       "<table border=\"1\" class=\"dataframe\">\n",
       "  <thead>\n",
       "    <tr style=\"text-align: right;\">\n",
       "      <th></th>\n",
       "      <th>antecedents</th>\n",
       "      <th>consequents</th>\n",
       "      <th>antecedent support</th>\n",
       "      <th>consequent support</th>\n",
       "      <th>support</th>\n",
       "      <th>confidence</th>\n",
       "      <th>lift</th>\n",
       "      <th>leverage</th>\n",
       "      <th>conviction</th>\n",
       "    </tr>\n",
       "  </thead>\n",
       "  <tbody>\n",
       "    <tr>\n",
       "      <th>155</th>\n",
       "      <td>(53)</td>\n",
       "      <td>(52)</td>\n",
       "      <td>0.001297</td>\n",
       "      <td>0.075227</td>\n",
       "      <td>0.001297</td>\n",
       "      <td>1.0</td>\n",
       "      <td>13.293103</td>\n",
       "      <td>0.001199</td>\n",
       "      <td>inf</td>\n",
       "    </tr>\n",
       "    <tr>\n",
       "      <th>260</th>\n",
       "      <td>(57)</td>\n",
       "      <td>(8, 52)</td>\n",
       "      <td>0.001297</td>\n",
       "      <td>0.001297</td>\n",
       "      <td>0.001297</td>\n",
       "      <td>1.0</td>\n",
       "      <td>771.000000</td>\n",
       "      <td>0.001295</td>\n",
       "      <td>inf</td>\n",
       "    </tr>\n",
       "    <tr>\n",
       "      <th>263</th>\n",
       "      <td>(8, 54)</td>\n",
       "      <td>(66)</td>\n",
       "      <td>0.001297</td>\n",
       "      <td>0.001297</td>\n",
       "      <td>0.001297</td>\n",
       "      <td>1.0</td>\n",
       "      <td>771.000000</td>\n",
       "      <td>0.001295</td>\n",
       "      <td>inf</td>\n",
       "    </tr>\n",
       "    <tr>\n",
       "      <th>264</th>\n",
       "      <td>(66, 54)</td>\n",
       "      <td>(8)</td>\n",
       "      <td>0.001297</td>\n",
       "      <td>0.016861</td>\n",
       "      <td>0.001297</td>\n",
       "      <td>1.0</td>\n",
       "      <td>59.307692</td>\n",
       "      <td>0.001275</td>\n",
       "      <td>inf</td>\n",
       "    </tr>\n",
       "    <tr>\n",
       "      <th>266</th>\n",
       "      <td>(66)</td>\n",
       "      <td>(8, 54)</td>\n",
       "      <td>0.001297</td>\n",
       "      <td>0.001297</td>\n",
       "      <td>0.001297</td>\n",
       "      <td>1.0</td>\n",
       "      <td>771.000000</td>\n",
       "      <td>0.001295</td>\n",
       "      <td>inf</td>\n",
       "    </tr>\n",
       "  </tbody>\n",
       "</table>\n",
       "</div>"
      ],
      "text/plain": [
       "    antecedents consequents  antecedent support  consequent support   support  \\\n",
       "155        (53)        (52)            0.001297            0.075227  0.001297   \n",
       "260        (57)     (8, 52)            0.001297            0.001297  0.001297   \n",
       "263     (8, 54)        (66)            0.001297            0.001297  0.001297   \n",
       "264    (66, 54)         (8)            0.001297            0.016861  0.001297   \n",
       "266        (66)     (8, 54)            0.001297            0.001297  0.001297   \n",
       "\n",
       "     confidence        lift  leverage  conviction  \n",
       "155         1.0   13.293103  0.001199         inf  \n",
       "260         1.0  771.000000  0.001295         inf  \n",
       "263         1.0  771.000000  0.001295         inf  \n",
       "264         1.0   59.307692  0.001275         inf  \n",
       "266         1.0  771.000000  0.001295         inf  "
      ]
     },
     "execution_count": 29,
     "metadata": {},
     "output_type": "execute_result"
    }
   ],
   "source": [
    "code_rules = apriori(basket_sets, min_support=0.001, use_colnames=True)\n",
    "rules = association_rules(code_rules, metric=\"lift\")\n",
    "rules.sort_values('confidence', ascending = False, inplace = True)\n",
    "rules.head(5)\n",
    "\n"
   ]
  },
  {
   "cell_type": "code",
   "execution_count": 30,
   "metadata": {
    "collapsed": true
   },
   "outputs": [],
   "source": [
    "Rules = pd.DataFrame(rules)"
   ]
  },
  {
   "cell_type": "code",
   "execution_count": 31,
   "metadata": {
    "collapsed": true
   },
   "outputs": [],
   "source": [
    "# Create a list of unique stop codes to use as filtering argument\n",
    "\n",
    "Stop_Codes = Apriori[Apriori.Status == 'Stop']\n",
    "Stop_Code_list = Stop_Codes.Code.unique()\n",
    "Stop = pd.DataFrame(Stop_Code_list)"
   ]
  },
  {
   "cell_type": "code",
   "execution_count": 34,
   "metadata": {},
   "outputs": [
    {
     "data": {
      "text/plain": [
       "frozenset"
      ]
     },
     "execution_count": 34,
     "metadata": {},
     "output_type": "execute_result"
    }
   ],
   "source": [
    "type(Rules.consequents[0])"
   ]
  },
  {
   "cell_type": "code",
   "execution_count": 35,
   "metadata": {},
   "outputs": [
    {
     "name": "stderr",
     "output_type": "stream",
     "text": [
      "/anaconda/lib/python3.6/site-packages/ipykernel_launcher.py:8: DeprecationWarning: elementwise comparison failed; this will raise an error in the future.\n",
      "  \n"
     ]
    }
   ],
   "source": [
    "a= list(rules.consequents)\n",
    "\n",
    "a= [list(i) for i in a]\n",
    "rules.consequents=a\n",
    "\n",
    "lst=[]\n",
    "for i in rules.consequents:\n",
    "    if i in Stop_Code_list:\n",
    "        lst.append(True)\n",
    "    else:\n",
    "        lst.append(False)\n",
    "\n",
    "rules['S']=lst"
   ]
  },
  {
   "cell_type": "code",
   "execution_count": 36,
   "metadata": {},
   "outputs": [
    {
     "name": "stdout",
     "output_type": "stream",
     "text": [
      "[[8, 52], [66], [8], [8, 54], [8, 66], [15], [38], [43], [13], [21], [13], [21], [49], [62]]\n"
     ]
    }
   ],
   "source": [
    "a= list(rules.consequents)\n",
    "print(a[1:15])"
   ]
  },
  {
   "cell_type": "code",
   "execution_count": 37,
   "metadata": {
    "collapsed": true
   },
   "outputs": [],
   "source": [
    "a= [list(i) for i in a]\n",
    "rules.consequents=a"
   ]
  },
  {
   "cell_type": "code",
   "execution_count": 38,
   "metadata": {},
   "outputs": [
    {
     "data": {
      "text/html": [
       "<div>\n",
       "<style scoped>\n",
       "    .dataframe tbody tr th:only-of-type {\n",
       "        vertical-align: middle;\n",
       "    }\n",
       "\n",
       "    .dataframe tbody tr th {\n",
       "        vertical-align: top;\n",
       "    }\n",
       "\n",
       "    .dataframe thead th {\n",
       "        text-align: right;\n",
       "    }\n",
       "</style>\n",
       "<table border=\"1\" class=\"dataframe\">\n",
       "  <thead>\n",
       "    <tr style=\"text-align: right;\">\n",
       "      <th></th>\n",
       "      <th>antecedents</th>\n",
       "      <th>consequents</th>\n",
       "      <th>antecedent support</th>\n",
       "      <th>consequent support</th>\n",
       "      <th>support</th>\n",
       "      <th>confidence</th>\n",
       "      <th>lift</th>\n",
       "      <th>leverage</th>\n",
       "      <th>conviction</th>\n",
       "      <th>S</th>\n",
       "    </tr>\n",
       "  </thead>\n",
       "  <tbody>\n",
       "    <tr>\n",
       "      <th>38</th>\n",
       "      <td>(8)</td>\n",
       "      <td>[36]</td>\n",
       "      <td>0.016861</td>\n",
       "      <td>0.112840</td>\n",
       "      <td>0.006485</td>\n",
       "      <td>0.384615</td>\n",
       "      <td>3.408488</td>\n",
       "      <td>0.004582</td>\n",
       "      <td>1.441634</td>\n",
       "      <td>True</td>\n",
       "    </tr>\n",
       "    <tr>\n",
       "      <th>90</th>\n",
       "      <td>(18)</td>\n",
       "      <td>[62]</td>\n",
       "      <td>0.003891</td>\n",
       "      <td>0.006485</td>\n",
       "      <td>0.002594</td>\n",
       "      <td>0.666667</td>\n",
       "      <td>102.800000</td>\n",
       "      <td>0.002569</td>\n",
       "      <td>2.980545</td>\n",
       "      <td>True</td>\n",
       "    </tr>\n",
       "    <tr>\n",
       "      <th>31</th>\n",
       "      <td>(6)</td>\n",
       "      <td>[36]</td>\n",
       "      <td>0.003891</td>\n",
       "      <td>0.112840</td>\n",
       "      <td>0.002594</td>\n",
       "      <td>0.666667</td>\n",
       "      <td>5.908046</td>\n",
       "      <td>0.002155</td>\n",
       "      <td>2.661479</td>\n",
       "      <td>True</td>\n",
       "    </tr>\n",
       "    <tr>\n",
       "      <th>79</th>\n",
       "      <td>(15)</td>\n",
       "      <td>[38]</td>\n",
       "      <td>0.068742</td>\n",
       "      <td>0.009079</td>\n",
       "      <td>0.002594</td>\n",
       "      <td>0.037736</td>\n",
       "      <td>4.156334</td>\n",
       "      <td>0.001970</td>\n",
       "      <td>1.029781</td>\n",
       "      <td>True</td>\n",
       "    </tr>\n",
       "    <tr>\n",
       "      <th>149</th>\n",
       "      <td>(61)</td>\n",
       "      <td>[49]</td>\n",
       "      <td>0.003891</td>\n",
       "      <td>0.006485</td>\n",
       "      <td>0.001297</td>\n",
       "      <td>0.333333</td>\n",
       "      <td>51.400000</td>\n",
       "      <td>0.001272</td>\n",
       "      <td>1.490272</td>\n",
       "      <td>True</td>\n",
       "    </tr>\n",
       "  </tbody>\n",
       "</table>\n",
       "</div>"
      ],
      "text/plain": [
       "    antecedents consequents  antecedent support  consequent support   support  \\\n",
       "38          (8)        [36]            0.016861            0.112840  0.006485   \n",
       "90         (18)        [62]            0.003891            0.006485  0.002594   \n",
       "31          (6)        [36]            0.003891            0.112840  0.002594   \n",
       "79         (15)        [38]            0.068742            0.009079  0.002594   \n",
       "149        (61)        [49]            0.003891            0.006485  0.001297   \n",
       "\n",
       "     confidence        lift  leverage  conviction     S  \n",
       "38     0.384615    3.408488  0.004582    1.441634  True  \n",
       "90     0.666667  102.800000  0.002569    2.980545  True  \n",
       "31     0.666667    5.908046  0.002155    2.661479  True  \n",
       "79     0.037736    4.156334  0.001970    1.029781  True  \n",
       "149    0.333333   51.400000  0.001272    1.490272  True  "
      ]
     },
     "execution_count": 38,
     "metadata": {},
     "output_type": "execute_result"
    }
   ],
   "source": [
    "#Top rules with STOPs as rhs\n",
    "stop = rules[(rules['S']== True) & (rules['lift']>1.2)]\n",
    "stop.sort_values('support', ascending=False).head(5)"
   ]
  },
  {
   "cell_type": "markdown",
   "metadata": {
    "collapsed": true
   },
   "source": [
    "Now that we do have the correct code as consequents, we see that supprot for our theory is quite low. The confidence in some \n",
    "combinations is pretty high, but we sadly cannot find universally useful rules to apply to the machine failures. Altough, in a world where every machine failure might cost thousands of euros of damage or in lsot production, any model that can lead to lower failure rates can be useful. We see that 18 preceding 62 and 6 preceding 36 happen exactly 2/3rds of the time. Altough they happen seldomely, the probability of prventing an error is high! "
   ]
  },
  {
   "cell_type": "code",
   "execution_count": null,
   "metadata": {
    "collapsed": true
   },
   "outputs": [],
   "source": []
  }
 ],
 "metadata": {
  "kernelspec": {
   "display_name": "Python 3",
   "language": "python",
   "name": "python3"
  },
  "language_info": {
   "codemirror_mode": {
    "name": "ipython",
    "version": 3
   },
   "file_extension": ".py",
   "mimetype": "text/x-python",
   "name": "python",
   "nbconvert_exporter": "python",
   "pygments_lexer": "ipython3",
   "version": "3.6.2"
  }
 },
 "nbformat": 4,
 "nbformat_minor": 2
}
